{
  "nbformat": 4,
  "nbformat_minor": 0,
  "metadata": {
    "colab": {
      "name": "Copy of using transformers for classification .ipynb",
      "provenance": [],
      "collapsed_sections": [
        "HaEJQnuZ5Z84"
      ],
      "machine_shape": "hm",
      "include_colab_link": true
    },
    "kernelspec": {
      "name": "python3",
      "display_name": "Python 3"
    },
    "accelerator": "GPU",
    "widgets": {
      "application/vnd.jupyter.widget-state+json": {
        "85f56ec9ca9347bdba3982fd1c79c105": {
          "model_module": "@jupyter-widgets/controls",
          "model_name": "HBoxModel",
          "state": {
            "_view_name": "HBoxView",
            "_dom_classes": [],
            "_model_name": "HBoxModel",
            "_view_module": "@jupyter-widgets/controls",
            "_model_module_version": "1.5.0",
            "_view_count": null,
            "_view_module_version": "1.5.0",
            "box_style": "",
            "layout": "IPY_MODEL_0ce2d0477c3346c896f60cfe572203f6",
            "_model_module": "@jupyter-widgets/controls",
            "children": [
              "IPY_MODEL_d4dd84581c2e4c0b819fd36136dfec98",
              "IPY_MODEL_3cf2e736f04441ee92f273bd2590448d"
            ]
          }
        },
        "0ce2d0477c3346c896f60cfe572203f6": {
          "model_module": "@jupyter-widgets/base",
          "model_name": "LayoutModel",
          "state": {
            "_view_name": "LayoutView",
            "grid_template_rows": null,
            "right": null,
            "justify_content": null,
            "_view_module": "@jupyter-widgets/base",
            "overflow": null,
            "_model_module_version": "1.2.0",
            "_view_count": null,
            "flex_flow": null,
            "width": null,
            "min_width": null,
            "border": null,
            "align_items": null,
            "bottom": null,
            "_model_module": "@jupyter-widgets/base",
            "top": null,
            "grid_column": null,
            "overflow_y": null,
            "overflow_x": null,
            "grid_auto_flow": null,
            "grid_area": null,
            "grid_template_columns": null,
            "flex": null,
            "_model_name": "LayoutModel",
            "justify_items": null,
            "grid_row": null,
            "max_height": null,
            "align_content": null,
            "visibility": null,
            "align_self": null,
            "height": null,
            "min_height": null,
            "padding": null,
            "grid_auto_rows": null,
            "grid_gap": null,
            "max_width": null,
            "order": null,
            "_view_module_version": "1.2.0",
            "grid_template_areas": null,
            "object_position": null,
            "object_fit": null,
            "grid_auto_columns": null,
            "margin": null,
            "display": null,
            "left": null
          }
        },
        "d4dd84581c2e4c0b819fd36136dfec98": {
          "model_module": "@jupyter-widgets/controls",
          "model_name": "IntProgressModel",
          "state": {
            "_view_name": "ProgressView",
            "style": "IPY_MODEL_5b758474f103487983d6eaba70b47f86",
            "_dom_classes": [],
            "description": "Downloading",
            "_model_name": "IntProgressModel",
            "bar_style": "success",
            "max": 231508,
            "_view_module": "@jupyter-widgets/controls",
            "_model_module_version": "1.5.0",
            "value": 231508,
            "_view_count": null,
            "_view_module_version": "1.5.0",
            "orientation": "horizontal",
            "min": 0,
            "description_tooltip": null,
            "_model_module": "@jupyter-widgets/controls",
            "layout": "IPY_MODEL_2a49c2ac30794ba7a2621c032d49d858"
          }
        },
        "3cf2e736f04441ee92f273bd2590448d": {
          "model_module": "@jupyter-widgets/controls",
          "model_name": "HTMLModel",
          "state": {
            "_view_name": "HTMLView",
            "style": "IPY_MODEL_fa70880dce23430a8ed4f4286becf84a",
            "_dom_classes": [],
            "description": "",
            "_model_name": "HTMLModel",
            "placeholder": "​",
            "_view_module": "@jupyter-widgets/controls",
            "_model_module_version": "1.5.0",
            "value": "100% 232k/232k [00:00&lt;00:00, 5.25MB/s]",
            "_view_count": null,
            "_view_module_version": "1.5.0",
            "description_tooltip": null,
            "_model_module": "@jupyter-widgets/controls",
            "layout": "IPY_MODEL_d8b82417c96e42ee95e0cbda6094ff7d"
          }
        },
        "5b758474f103487983d6eaba70b47f86": {
          "model_module": "@jupyter-widgets/controls",
          "model_name": "ProgressStyleModel",
          "state": {
            "_view_name": "StyleView",
            "_model_name": "ProgressStyleModel",
            "description_width": "initial",
            "_view_module": "@jupyter-widgets/base",
            "_model_module_version": "1.5.0",
            "_view_count": null,
            "_view_module_version": "1.2.0",
            "bar_color": null,
            "_model_module": "@jupyter-widgets/controls"
          }
        },
        "2a49c2ac30794ba7a2621c032d49d858": {
          "model_module": "@jupyter-widgets/base",
          "model_name": "LayoutModel",
          "state": {
            "_view_name": "LayoutView",
            "grid_template_rows": null,
            "right": null,
            "justify_content": null,
            "_view_module": "@jupyter-widgets/base",
            "overflow": null,
            "_model_module_version": "1.2.0",
            "_view_count": null,
            "flex_flow": null,
            "width": null,
            "min_width": null,
            "border": null,
            "align_items": null,
            "bottom": null,
            "_model_module": "@jupyter-widgets/base",
            "top": null,
            "grid_column": null,
            "overflow_y": null,
            "overflow_x": null,
            "grid_auto_flow": null,
            "grid_area": null,
            "grid_template_columns": null,
            "flex": null,
            "_model_name": "LayoutModel",
            "justify_items": null,
            "grid_row": null,
            "max_height": null,
            "align_content": null,
            "visibility": null,
            "align_self": null,
            "height": null,
            "min_height": null,
            "padding": null,
            "grid_auto_rows": null,
            "grid_gap": null,
            "max_width": null,
            "order": null,
            "_view_module_version": "1.2.0",
            "grid_template_areas": null,
            "object_position": null,
            "object_fit": null,
            "grid_auto_columns": null,
            "margin": null,
            "display": null,
            "left": null
          }
        },
        "fa70880dce23430a8ed4f4286becf84a": {
          "model_module": "@jupyter-widgets/controls",
          "model_name": "DescriptionStyleModel",
          "state": {
            "_view_name": "StyleView",
            "_model_name": "DescriptionStyleModel",
            "description_width": "",
            "_view_module": "@jupyter-widgets/base",
            "_model_module_version": "1.5.0",
            "_view_count": null,
            "_view_module_version": "1.2.0",
            "_model_module": "@jupyter-widgets/controls"
          }
        },
        "d8b82417c96e42ee95e0cbda6094ff7d": {
          "model_module": "@jupyter-widgets/base",
          "model_name": "LayoutModel",
          "state": {
            "_view_name": "LayoutView",
            "grid_template_rows": null,
            "right": null,
            "justify_content": null,
            "_view_module": "@jupyter-widgets/base",
            "overflow": null,
            "_model_module_version": "1.2.0",
            "_view_count": null,
            "flex_flow": null,
            "width": null,
            "min_width": null,
            "border": null,
            "align_items": null,
            "bottom": null,
            "_model_module": "@jupyter-widgets/base",
            "top": null,
            "grid_column": null,
            "overflow_y": null,
            "overflow_x": null,
            "grid_auto_flow": null,
            "grid_area": null,
            "grid_template_columns": null,
            "flex": null,
            "_model_name": "LayoutModel",
            "justify_items": null,
            "grid_row": null,
            "max_height": null,
            "align_content": null,
            "visibility": null,
            "align_self": null,
            "height": null,
            "min_height": null,
            "padding": null,
            "grid_auto_rows": null,
            "grid_gap": null,
            "max_width": null,
            "order": null,
            "_view_module_version": "1.2.0",
            "grid_template_areas": null,
            "object_position": null,
            "object_fit": null,
            "grid_auto_columns": null,
            "margin": null,
            "display": null,
            "left": null
          }
        },
        "49ba1664bcb349e9af8bdcbf74515d06": {
          "model_module": "@jupyter-widgets/controls",
          "model_name": "HBoxModel",
          "state": {
            "_view_name": "HBoxView",
            "_dom_classes": [],
            "_model_name": "HBoxModel",
            "_view_module": "@jupyter-widgets/controls",
            "_model_module_version": "1.5.0",
            "_view_count": null,
            "_view_module_version": "1.5.0",
            "box_style": "",
            "layout": "IPY_MODEL_2b96b9eb40124e14837085fee8913e9b",
            "_model_module": "@jupyter-widgets/controls",
            "children": [
              "IPY_MODEL_44faf74976714dc89fb84fc9ffd5db8b",
              "IPY_MODEL_db3bc24d63084779bec1d09729c9cfdf"
            ]
          }
        },
        "2b96b9eb40124e14837085fee8913e9b": {
          "model_module": "@jupyter-widgets/base",
          "model_name": "LayoutModel",
          "state": {
            "_view_name": "LayoutView",
            "grid_template_rows": null,
            "right": null,
            "justify_content": null,
            "_view_module": "@jupyter-widgets/base",
            "overflow": null,
            "_model_module_version": "1.2.0",
            "_view_count": null,
            "flex_flow": null,
            "width": null,
            "min_width": null,
            "border": null,
            "align_items": null,
            "bottom": null,
            "_model_module": "@jupyter-widgets/base",
            "top": null,
            "grid_column": null,
            "overflow_y": null,
            "overflow_x": null,
            "grid_auto_flow": null,
            "grid_area": null,
            "grid_template_columns": null,
            "flex": null,
            "_model_name": "LayoutModel",
            "justify_items": null,
            "grid_row": null,
            "max_height": null,
            "align_content": null,
            "visibility": null,
            "align_self": null,
            "height": null,
            "min_height": null,
            "padding": null,
            "grid_auto_rows": null,
            "grid_gap": null,
            "max_width": null,
            "order": null,
            "_view_module_version": "1.2.0",
            "grid_template_areas": null,
            "object_position": null,
            "object_fit": null,
            "grid_auto_columns": null,
            "margin": null,
            "display": null,
            "left": null
          }
        },
        "44faf74976714dc89fb84fc9ffd5db8b": {
          "model_module": "@jupyter-widgets/controls",
          "model_name": "IntProgressModel",
          "state": {
            "_view_name": "ProgressView",
            "style": "IPY_MODEL_d643bbdc61704f98b240bad8ed55f22e",
            "_dom_classes": [],
            "description": "Downloading",
            "_model_name": "IntProgressModel",
            "bar_style": "success",
            "max": 546,
            "_view_module": "@jupyter-widgets/controls",
            "_model_module_version": "1.5.0",
            "value": 546,
            "_view_count": null,
            "_view_module_version": "1.5.0",
            "orientation": "horizontal",
            "min": 0,
            "description_tooltip": null,
            "_model_module": "@jupyter-widgets/controls",
            "layout": "IPY_MODEL_a996e3373e854cf69d5a8c4001bc7dff"
          }
        },
        "db3bc24d63084779bec1d09729c9cfdf": {
          "model_module": "@jupyter-widgets/controls",
          "model_name": "HTMLModel",
          "state": {
            "_view_name": "HTMLView",
            "style": "IPY_MODEL_ac7a2f1bfe724ea28dc76e8da08b77ad",
            "_dom_classes": [],
            "description": "",
            "_model_name": "HTMLModel",
            "placeholder": "​",
            "_view_module": "@jupyter-widgets/controls",
            "_model_module_version": "1.5.0",
            "value": "100% 546/546 [00:00&lt;00:00, 22.3kB/s]",
            "_view_count": null,
            "_view_module_version": "1.5.0",
            "description_tooltip": null,
            "_model_module": "@jupyter-widgets/controls",
            "layout": "IPY_MODEL_a9d66f71d5214e6183407b2f4eee7176"
          }
        },
        "d643bbdc61704f98b240bad8ed55f22e": {
          "model_module": "@jupyter-widgets/controls",
          "model_name": "ProgressStyleModel",
          "state": {
            "_view_name": "StyleView",
            "_model_name": "ProgressStyleModel",
            "description_width": "initial",
            "_view_module": "@jupyter-widgets/base",
            "_model_module_version": "1.5.0",
            "_view_count": null,
            "_view_module_version": "1.2.0",
            "bar_color": null,
            "_model_module": "@jupyter-widgets/controls"
          }
        },
        "a996e3373e854cf69d5a8c4001bc7dff": {
          "model_module": "@jupyter-widgets/base",
          "model_name": "LayoutModel",
          "state": {
            "_view_name": "LayoutView",
            "grid_template_rows": null,
            "right": null,
            "justify_content": null,
            "_view_module": "@jupyter-widgets/base",
            "overflow": null,
            "_model_module_version": "1.2.0",
            "_view_count": null,
            "flex_flow": null,
            "width": null,
            "min_width": null,
            "border": null,
            "align_items": null,
            "bottom": null,
            "_model_module": "@jupyter-widgets/base",
            "top": null,
            "grid_column": null,
            "overflow_y": null,
            "overflow_x": null,
            "grid_auto_flow": null,
            "grid_area": null,
            "grid_template_columns": null,
            "flex": null,
            "_model_name": "LayoutModel",
            "justify_items": null,
            "grid_row": null,
            "max_height": null,
            "align_content": null,
            "visibility": null,
            "align_self": null,
            "height": null,
            "min_height": null,
            "padding": null,
            "grid_auto_rows": null,
            "grid_gap": null,
            "max_width": null,
            "order": null,
            "_view_module_version": "1.2.0",
            "grid_template_areas": null,
            "object_position": null,
            "object_fit": null,
            "grid_auto_columns": null,
            "margin": null,
            "display": null,
            "left": null
          }
        },
        "ac7a2f1bfe724ea28dc76e8da08b77ad": {
          "model_module": "@jupyter-widgets/controls",
          "model_name": "DescriptionStyleModel",
          "state": {
            "_view_name": "StyleView",
            "_model_name": "DescriptionStyleModel",
            "description_width": "",
            "_view_module": "@jupyter-widgets/base",
            "_model_module_version": "1.5.0",
            "_view_count": null,
            "_view_module_version": "1.2.0",
            "_model_module": "@jupyter-widgets/controls"
          }
        },
        "a9d66f71d5214e6183407b2f4eee7176": {
          "model_module": "@jupyter-widgets/base",
          "model_name": "LayoutModel",
          "state": {
            "_view_name": "LayoutView",
            "grid_template_rows": null,
            "right": null,
            "justify_content": null,
            "_view_module": "@jupyter-widgets/base",
            "overflow": null,
            "_model_module_version": "1.2.0",
            "_view_count": null,
            "flex_flow": null,
            "width": null,
            "min_width": null,
            "border": null,
            "align_items": null,
            "bottom": null,
            "_model_module": "@jupyter-widgets/base",
            "top": null,
            "grid_column": null,
            "overflow_y": null,
            "overflow_x": null,
            "grid_auto_flow": null,
            "grid_area": null,
            "grid_template_columns": null,
            "flex": null,
            "_model_name": "LayoutModel",
            "justify_items": null,
            "grid_row": null,
            "max_height": null,
            "align_content": null,
            "visibility": null,
            "align_self": null,
            "height": null,
            "min_height": null,
            "padding": null,
            "grid_auto_rows": null,
            "grid_gap": null,
            "max_width": null,
            "order": null,
            "_view_module_version": "1.2.0",
            "grid_template_areas": null,
            "object_position": null,
            "object_fit": null,
            "grid_auto_columns": null,
            "margin": null,
            "display": null,
            "left": null
          }
        },
        "77f2d223bbfe47e0a055d02e8d5ad0b5": {
          "model_module": "@jupyter-widgets/controls",
          "model_name": "HBoxModel",
          "state": {
            "_view_name": "HBoxView",
            "_dom_classes": [],
            "_model_name": "HBoxModel",
            "_view_module": "@jupyter-widgets/controls",
            "_model_module_version": "1.5.0",
            "_view_count": null,
            "_view_module_version": "1.5.0",
            "box_style": "",
            "layout": "IPY_MODEL_f59a6f608adb4d558d5ac8a803782b9d",
            "_model_module": "@jupyter-widgets/controls",
            "children": [
              "IPY_MODEL_ac0d4dbdbdf94e03b6c77297beec0315",
              "IPY_MODEL_29462a49e1e44db18c6b40e7449f154f"
            ]
          }
        },
        "f59a6f608adb4d558d5ac8a803782b9d": {
          "model_module": "@jupyter-widgets/base",
          "model_name": "LayoutModel",
          "state": {
            "_view_name": "LayoutView",
            "grid_template_rows": null,
            "right": null,
            "justify_content": null,
            "_view_module": "@jupyter-widgets/base",
            "overflow": null,
            "_model_module_version": "1.2.0",
            "_view_count": null,
            "flex_flow": null,
            "width": null,
            "min_width": null,
            "border": null,
            "align_items": null,
            "bottom": null,
            "_model_module": "@jupyter-widgets/base",
            "top": null,
            "grid_column": null,
            "overflow_y": null,
            "overflow_x": null,
            "grid_auto_flow": null,
            "grid_area": null,
            "grid_template_columns": null,
            "flex": null,
            "_model_name": "LayoutModel",
            "justify_items": null,
            "grid_row": null,
            "max_height": null,
            "align_content": null,
            "visibility": null,
            "align_self": null,
            "height": null,
            "min_height": null,
            "padding": null,
            "grid_auto_rows": null,
            "grid_gap": null,
            "max_width": null,
            "order": null,
            "_view_module_version": "1.2.0",
            "grid_template_areas": null,
            "object_position": null,
            "object_fit": null,
            "grid_auto_columns": null,
            "margin": null,
            "display": null,
            "left": null
          }
        },
        "ac0d4dbdbdf94e03b6c77297beec0315": {
          "model_module": "@jupyter-widgets/controls",
          "model_name": "IntProgressModel",
          "state": {
            "_view_name": "ProgressView",
            "style": "IPY_MODEL_1ef71cea36c845729101d6df137306f4",
            "_dom_classes": [],
            "description": "Downloading",
            "_model_name": "IntProgressModel",
            "bar_style": "success",
            "max": 267967963,
            "_view_module": "@jupyter-widgets/controls",
            "_model_module_version": "1.5.0",
            "value": 267967963,
            "_view_count": null,
            "_view_module_version": "1.5.0",
            "orientation": "horizontal",
            "min": 0,
            "description_tooltip": null,
            "_model_module": "@jupyter-widgets/controls",
            "layout": "IPY_MODEL_63c24c5a39cd47359c28ea64a79d600b"
          }
        },
        "29462a49e1e44db18c6b40e7449f154f": {
          "model_module": "@jupyter-widgets/controls",
          "model_name": "HTMLModel",
          "state": {
            "_view_name": "HTMLView",
            "style": "IPY_MODEL_ba5266d87c3e4e3ea98350f8db17f9a5",
            "_dom_classes": [],
            "description": "",
            "_model_name": "HTMLModel",
            "placeholder": "​",
            "_view_module": "@jupyter-widgets/controls",
            "_model_module_version": "1.5.0",
            "value": "100% 268M/268M [00:04&lt;00:00, 54.8MB/s]",
            "_view_count": null,
            "_view_module_version": "1.5.0",
            "description_tooltip": null,
            "_model_module": "@jupyter-widgets/controls",
            "layout": "IPY_MODEL_14b25b3249764a62b27a5a63984c61bb"
          }
        },
        "1ef71cea36c845729101d6df137306f4": {
          "model_module": "@jupyter-widgets/controls",
          "model_name": "ProgressStyleModel",
          "state": {
            "_view_name": "StyleView",
            "_model_name": "ProgressStyleModel",
            "description_width": "initial",
            "_view_module": "@jupyter-widgets/base",
            "_model_module_version": "1.5.0",
            "_view_count": null,
            "_view_module_version": "1.2.0",
            "bar_color": null,
            "_model_module": "@jupyter-widgets/controls"
          }
        },
        "63c24c5a39cd47359c28ea64a79d600b": {
          "model_module": "@jupyter-widgets/base",
          "model_name": "LayoutModel",
          "state": {
            "_view_name": "LayoutView",
            "grid_template_rows": null,
            "right": null,
            "justify_content": null,
            "_view_module": "@jupyter-widgets/base",
            "overflow": null,
            "_model_module_version": "1.2.0",
            "_view_count": null,
            "flex_flow": null,
            "width": null,
            "min_width": null,
            "border": null,
            "align_items": null,
            "bottom": null,
            "_model_module": "@jupyter-widgets/base",
            "top": null,
            "grid_column": null,
            "overflow_y": null,
            "overflow_x": null,
            "grid_auto_flow": null,
            "grid_area": null,
            "grid_template_columns": null,
            "flex": null,
            "_model_name": "LayoutModel",
            "justify_items": null,
            "grid_row": null,
            "max_height": null,
            "align_content": null,
            "visibility": null,
            "align_self": null,
            "height": null,
            "min_height": null,
            "padding": null,
            "grid_auto_rows": null,
            "grid_gap": null,
            "max_width": null,
            "order": null,
            "_view_module_version": "1.2.0",
            "grid_template_areas": null,
            "object_position": null,
            "object_fit": null,
            "grid_auto_columns": null,
            "margin": null,
            "display": null,
            "left": null
          }
        },
        "ba5266d87c3e4e3ea98350f8db17f9a5": {
          "model_module": "@jupyter-widgets/controls",
          "model_name": "DescriptionStyleModel",
          "state": {
            "_view_name": "StyleView",
            "_model_name": "DescriptionStyleModel",
            "description_width": "",
            "_view_module": "@jupyter-widgets/base",
            "_model_module_version": "1.5.0",
            "_view_count": null,
            "_view_module_version": "1.2.0",
            "_model_module": "@jupyter-widgets/controls"
          }
        },
        "14b25b3249764a62b27a5a63984c61bb": {
          "model_module": "@jupyter-widgets/base",
          "model_name": "LayoutModel",
          "state": {
            "_view_name": "LayoutView",
            "grid_template_rows": null,
            "right": null,
            "justify_content": null,
            "_view_module": "@jupyter-widgets/base",
            "overflow": null,
            "_model_module_version": "1.2.0",
            "_view_count": null,
            "flex_flow": null,
            "width": null,
            "min_width": null,
            "border": null,
            "align_items": null,
            "bottom": null,
            "_model_module": "@jupyter-widgets/base",
            "top": null,
            "grid_column": null,
            "overflow_y": null,
            "overflow_x": null,
            "grid_auto_flow": null,
            "grid_area": null,
            "grid_template_columns": null,
            "flex": null,
            "_model_name": "LayoutModel",
            "justify_items": null,
            "grid_row": null,
            "max_height": null,
            "align_content": null,
            "visibility": null,
            "align_self": null,
            "height": null,
            "min_height": null,
            "padding": null,
            "grid_auto_rows": null,
            "grid_gap": null,
            "max_width": null,
            "order": null,
            "_view_module_version": "1.2.0",
            "grid_template_areas": null,
            "object_position": null,
            "object_fit": null,
            "grid_auto_columns": null,
            "margin": null,
            "display": null,
            "left": null
          }
        },
        "fcfc4034bfcf4620a3ee7a29fcce4773": {
          "model_module": "@jupyter-widgets/controls",
          "model_name": "HBoxModel",
          "state": {
            "_view_name": "HBoxView",
            "_dom_classes": [],
            "_model_name": "HBoxModel",
            "_view_module": "@jupyter-widgets/controls",
            "_model_module_version": "1.5.0",
            "_view_count": null,
            "_view_module_version": "1.5.0",
            "box_style": "",
            "layout": "IPY_MODEL_6cfd0c7b938f403f99401c8b58f0df50",
            "_model_module": "@jupyter-widgets/controls",
            "children": [
              "IPY_MODEL_895c82e7d9e34c8c866e3a3ef2bca391",
              "IPY_MODEL_2e86ef9139e64497944592173a6e9fe4"
            ]
          }
        },
        "6cfd0c7b938f403f99401c8b58f0df50": {
          "model_module": "@jupyter-widgets/base",
          "model_name": "LayoutModel",
          "state": {
            "_view_name": "LayoutView",
            "grid_template_rows": null,
            "right": null,
            "justify_content": null,
            "_view_module": "@jupyter-widgets/base",
            "overflow": null,
            "_model_module_version": "1.2.0",
            "_view_count": null,
            "flex_flow": null,
            "width": null,
            "min_width": null,
            "border": null,
            "align_items": null,
            "bottom": null,
            "_model_module": "@jupyter-widgets/base",
            "top": null,
            "grid_column": null,
            "overflow_y": null,
            "overflow_x": null,
            "grid_auto_flow": null,
            "grid_area": null,
            "grid_template_columns": null,
            "flex": null,
            "_model_name": "LayoutModel",
            "justify_items": null,
            "grid_row": null,
            "max_height": null,
            "align_content": null,
            "visibility": null,
            "align_self": null,
            "height": null,
            "min_height": null,
            "padding": null,
            "grid_auto_rows": null,
            "grid_gap": null,
            "max_width": null,
            "order": null,
            "_view_module_version": "1.2.0",
            "grid_template_areas": null,
            "object_position": null,
            "object_fit": null,
            "grid_auto_columns": null,
            "margin": null,
            "display": null,
            "left": null
          }
        },
        "895c82e7d9e34c8c866e3a3ef2bca391": {
          "model_module": "@jupyter-widgets/controls",
          "model_name": "IntProgressModel",
          "state": {
            "_view_name": "ProgressView",
            "style": "IPY_MODEL_9fbd5a8f00b547c9abc489c3dafa25cc",
            "_dom_classes": [],
            "description": "",
            "_model_name": "IntProgressModel",
            "bar_style": "success",
            "max": 840,
            "_view_module": "@jupyter-widgets/controls",
            "_model_module_version": "1.5.0",
            "value": 840,
            "_view_count": null,
            "_view_module_version": "1.5.0",
            "orientation": "horizontal",
            "min": 0,
            "description_tooltip": null,
            "_model_module": "@jupyter-widgets/controls",
            "layout": "IPY_MODEL_1c6dfbc208e7485697304ad2f6b2f006"
          }
        },
        "2e86ef9139e64497944592173a6e9fe4": {
          "model_module": "@jupyter-widgets/controls",
          "model_name": "HTMLModel",
          "state": {
            "_view_name": "HTMLView",
            "style": "IPY_MODEL_2baee9e7b7ab4ddabb96e06913565ff1",
            "_dom_classes": [],
            "description": "",
            "_model_name": "HTMLModel",
            "placeholder": "​",
            "_view_module": "@jupyter-widgets/controls",
            "_model_module_version": "1.5.0",
            "value": "100% 840/840 [00:00&lt;00:00, 7445.95it/s]",
            "_view_count": null,
            "_view_module_version": "1.5.0",
            "description_tooltip": null,
            "_model_module": "@jupyter-widgets/controls",
            "layout": "IPY_MODEL_eb02372b2384475994a2b2cff49449a6"
          }
        },
        "9fbd5a8f00b547c9abc489c3dafa25cc": {
          "model_module": "@jupyter-widgets/controls",
          "model_name": "ProgressStyleModel",
          "state": {
            "_view_name": "StyleView",
            "_model_name": "ProgressStyleModel",
            "description_width": "",
            "_view_module": "@jupyter-widgets/base",
            "_model_module_version": "1.5.0",
            "_view_count": null,
            "_view_module_version": "1.2.0",
            "bar_color": null,
            "_model_module": "@jupyter-widgets/controls"
          }
        },
        "1c6dfbc208e7485697304ad2f6b2f006": {
          "model_module": "@jupyter-widgets/base",
          "model_name": "LayoutModel",
          "state": {
            "_view_name": "LayoutView",
            "grid_template_rows": null,
            "right": null,
            "justify_content": null,
            "_view_module": "@jupyter-widgets/base",
            "overflow": null,
            "_model_module_version": "1.2.0",
            "_view_count": null,
            "flex_flow": null,
            "width": null,
            "min_width": null,
            "border": null,
            "align_items": null,
            "bottom": null,
            "_model_module": "@jupyter-widgets/base",
            "top": null,
            "grid_column": null,
            "overflow_y": null,
            "overflow_x": null,
            "grid_auto_flow": null,
            "grid_area": null,
            "grid_template_columns": null,
            "flex": null,
            "_model_name": "LayoutModel",
            "justify_items": null,
            "grid_row": null,
            "max_height": null,
            "align_content": null,
            "visibility": null,
            "align_self": null,
            "height": null,
            "min_height": null,
            "padding": null,
            "grid_auto_rows": null,
            "grid_gap": null,
            "max_width": null,
            "order": null,
            "_view_module_version": "1.2.0",
            "grid_template_areas": null,
            "object_position": null,
            "object_fit": null,
            "grid_auto_columns": null,
            "margin": null,
            "display": null,
            "left": null
          }
        },
        "2baee9e7b7ab4ddabb96e06913565ff1": {
          "model_module": "@jupyter-widgets/controls",
          "model_name": "DescriptionStyleModel",
          "state": {
            "_view_name": "StyleView",
            "_model_name": "DescriptionStyleModel",
            "description_width": "",
            "_view_module": "@jupyter-widgets/base",
            "_model_module_version": "1.5.0",
            "_view_count": null,
            "_view_module_version": "1.2.0",
            "_model_module": "@jupyter-widgets/controls"
          }
        },
        "eb02372b2384475994a2b2cff49449a6": {
          "model_module": "@jupyter-widgets/base",
          "model_name": "LayoutModel",
          "state": {
            "_view_name": "LayoutView",
            "grid_template_rows": null,
            "right": null,
            "justify_content": null,
            "_view_module": "@jupyter-widgets/base",
            "overflow": null,
            "_model_module_version": "1.2.0",
            "_view_count": null,
            "flex_flow": null,
            "width": null,
            "min_width": null,
            "border": null,
            "align_items": null,
            "bottom": null,
            "_model_module": "@jupyter-widgets/base",
            "top": null,
            "grid_column": null,
            "overflow_y": null,
            "overflow_x": null,
            "grid_auto_flow": null,
            "grid_area": null,
            "grid_template_columns": null,
            "flex": null,
            "_model_name": "LayoutModel",
            "justify_items": null,
            "grid_row": null,
            "max_height": null,
            "align_content": null,
            "visibility": null,
            "align_self": null,
            "height": null,
            "min_height": null,
            "padding": null,
            "grid_auto_rows": null,
            "grid_gap": null,
            "max_width": null,
            "order": null,
            "_view_module_version": "1.2.0",
            "grid_template_areas": null,
            "object_position": null,
            "object_fit": null,
            "grid_auto_columns": null,
            "margin": null,
            "display": null,
            "left": null
          }
        },
        "54bbc50fc7274e07bc9345f7796f2631": {
          "model_module": "@jupyter-widgets/controls",
          "model_name": "HBoxModel",
          "state": {
            "_view_name": "HBoxView",
            "_dom_classes": [],
            "_model_name": "HBoxModel",
            "_view_module": "@jupyter-widgets/controls",
            "_model_module_version": "1.5.0",
            "_view_count": null,
            "_view_module_version": "1.5.0",
            "box_style": "",
            "layout": "IPY_MODEL_b0618552d8de443d8979138e34e95c90",
            "_model_module": "@jupyter-widgets/controls",
            "children": [
              "IPY_MODEL_3ae2b4c81d9f4167b79397194eba0a08",
              "IPY_MODEL_fc362e3f08d849ff88edda9d026583f3"
            ]
          }
        },
        "b0618552d8de443d8979138e34e95c90": {
          "model_module": "@jupyter-widgets/base",
          "model_name": "LayoutModel",
          "state": {
            "_view_name": "LayoutView",
            "grid_template_rows": null,
            "right": null,
            "justify_content": null,
            "_view_module": "@jupyter-widgets/base",
            "overflow": null,
            "_model_module_version": "1.2.0",
            "_view_count": null,
            "flex_flow": null,
            "width": null,
            "min_width": null,
            "border": null,
            "align_items": null,
            "bottom": null,
            "_model_module": "@jupyter-widgets/base",
            "top": null,
            "grid_column": null,
            "overflow_y": null,
            "overflow_x": null,
            "grid_auto_flow": null,
            "grid_area": null,
            "grid_template_columns": null,
            "flex": null,
            "_model_name": "LayoutModel",
            "justify_items": null,
            "grid_row": null,
            "max_height": null,
            "align_content": null,
            "visibility": null,
            "align_self": null,
            "height": null,
            "min_height": null,
            "padding": null,
            "grid_auto_rows": null,
            "grid_gap": null,
            "max_width": null,
            "order": null,
            "_view_module_version": "1.2.0",
            "grid_template_areas": null,
            "object_position": null,
            "object_fit": null,
            "grid_auto_columns": null,
            "margin": null,
            "display": null,
            "left": null
          }
        },
        "3ae2b4c81d9f4167b79397194eba0a08": {
          "model_module": "@jupyter-widgets/controls",
          "model_name": "IntProgressModel",
          "state": {
            "_view_name": "ProgressView",
            "style": "IPY_MODEL_a68e3f60a16e41598c91a542c640a1a0",
            "_dom_classes": [],
            "description": "Epoch",
            "_model_name": "IntProgressModel",
            "bar_style": "success",
            "max": 1,
            "_view_module": "@jupyter-widgets/controls",
            "_model_module_version": "1.5.0",
            "value": 1,
            "_view_count": null,
            "_view_module_version": "1.5.0",
            "orientation": "horizontal",
            "min": 0,
            "description_tooltip": null,
            "_model_module": "@jupyter-widgets/controls",
            "layout": "IPY_MODEL_998ad7a353684e9889faac24fa65c192"
          }
        },
        "fc362e3f08d849ff88edda9d026583f3": {
          "model_module": "@jupyter-widgets/controls",
          "model_name": "HTMLModel",
          "state": {
            "_view_name": "HTMLView",
            "style": "IPY_MODEL_9d6ab29394ee4f2da5424231d7764f4a",
            "_dom_classes": [],
            "description": "",
            "_model_name": "HTMLModel",
            "placeholder": "​",
            "_view_module": "@jupyter-widgets/controls",
            "_model_module_version": "1.5.0",
            "value": "100% 1/1 [03:29&lt;00:00, 209.50s/it]",
            "_view_count": null,
            "_view_module_version": "1.5.0",
            "description_tooltip": null,
            "_model_module": "@jupyter-widgets/controls",
            "layout": "IPY_MODEL_c7e9dd1e559a4a068653a4dce1a0bad6"
          }
        },
        "a68e3f60a16e41598c91a542c640a1a0": {
          "model_module": "@jupyter-widgets/controls",
          "model_name": "ProgressStyleModel",
          "state": {
            "_view_name": "StyleView",
            "_model_name": "ProgressStyleModel",
            "description_width": "initial",
            "_view_module": "@jupyter-widgets/base",
            "_model_module_version": "1.5.0",
            "_view_count": null,
            "_view_module_version": "1.2.0",
            "bar_color": null,
            "_model_module": "@jupyter-widgets/controls"
          }
        },
        "998ad7a353684e9889faac24fa65c192": {
          "model_module": "@jupyter-widgets/base",
          "model_name": "LayoutModel",
          "state": {
            "_view_name": "LayoutView",
            "grid_template_rows": null,
            "right": null,
            "justify_content": null,
            "_view_module": "@jupyter-widgets/base",
            "overflow": null,
            "_model_module_version": "1.2.0",
            "_view_count": null,
            "flex_flow": null,
            "width": null,
            "min_width": null,
            "border": null,
            "align_items": null,
            "bottom": null,
            "_model_module": "@jupyter-widgets/base",
            "top": null,
            "grid_column": null,
            "overflow_y": null,
            "overflow_x": null,
            "grid_auto_flow": null,
            "grid_area": null,
            "grid_template_columns": null,
            "flex": null,
            "_model_name": "LayoutModel",
            "justify_items": null,
            "grid_row": null,
            "max_height": null,
            "align_content": null,
            "visibility": null,
            "align_self": null,
            "height": null,
            "min_height": null,
            "padding": null,
            "grid_auto_rows": null,
            "grid_gap": null,
            "max_width": null,
            "order": null,
            "_view_module_version": "1.2.0",
            "grid_template_areas": null,
            "object_position": null,
            "object_fit": null,
            "grid_auto_columns": null,
            "margin": null,
            "display": null,
            "left": null
          }
        },
        "9d6ab29394ee4f2da5424231d7764f4a": {
          "model_module": "@jupyter-widgets/controls",
          "model_name": "DescriptionStyleModel",
          "state": {
            "_view_name": "StyleView",
            "_model_name": "DescriptionStyleModel",
            "description_width": "",
            "_view_module": "@jupyter-widgets/base",
            "_model_module_version": "1.5.0",
            "_view_count": null,
            "_view_module_version": "1.2.0",
            "_model_module": "@jupyter-widgets/controls"
          }
        },
        "c7e9dd1e559a4a068653a4dce1a0bad6": {
          "model_module": "@jupyter-widgets/base",
          "model_name": "LayoutModel",
          "state": {
            "_view_name": "LayoutView",
            "grid_template_rows": null,
            "right": null,
            "justify_content": null,
            "_view_module": "@jupyter-widgets/base",
            "overflow": null,
            "_model_module_version": "1.2.0",
            "_view_count": null,
            "flex_flow": null,
            "width": null,
            "min_width": null,
            "border": null,
            "align_items": null,
            "bottom": null,
            "_model_module": "@jupyter-widgets/base",
            "top": null,
            "grid_column": null,
            "overflow_y": null,
            "overflow_x": null,
            "grid_auto_flow": null,
            "grid_area": null,
            "grid_template_columns": null,
            "flex": null,
            "_model_name": "LayoutModel",
            "justify_items": null,
            "grid_row": null,
            "max_height": null,
            "align_content": null,
            "visibility": null,
            "align_self": null,
            "height": null,
            "min_height": null,
            "padding": null,
            "grid_auto_rows": null,
            "grid_gap": null,
            "max_width": null,
            "order": null,
            "_view_module_version": "1.2.0",
            "grid_template_areas": null,
            "object_position": null,
            "object_fit": null,
            "grid_auto_columns": null,
            "margin": null,
            "display": null,
            "left": null
          }
        },
        "7051e439713745958a1cc71a7479f1ad": {
          "model_module": "@jupyter-widgets/controls",
          "model_name": "HBoxModel",
          "state": {
            "_view_name": "HBoxView",
            "_dom_classes": [],
            "_model_name": "HBoxModel",
            "_view_module": "@jupyter-widgets/controls",
            "_model_module_version": "1.5.0",
            "_view_count": null,
            "_view_module_version": "1.5.0",
            "box_style": "",
            "layout": "IPY_MODEL_15cadc3a46c3458183ffd80022d28d71",
            "_model_module": "@jupyter-widgets/controls",
            "children": [
              "IPY_MODEL_fb58f152570d4891883c367aa6198ff9",
              "IPY_MODEL_35f0a3d352f44040883d204626ef67d9"
            ]
          }
        },
        "15cadc3a46c3458183ffd80022d28d71": {
          "model_module": "@jupyter-widgets/base",
          "model_name": "LayoutModel",
          "state": {
            "_view_name": "LayoutView",
            "grid_template_rows": null,
            "right": null,
            "justify_content": null,
            "_view_module": "@jupyter-widgets/base",
            "overflow": null,
            "_model_module_version": "1.2.0",
            "_view_count": null,
            "flex_flow": null,
            "width": null,
            "min_width": null,
            "border": null,
            "align_items": null,
            "bottom": null,
            "_model_module": "@jupyter-widgets/base",
            "top": null,
            "grid_column": null,
            "overflow_y": null,
            "overflow_x": null,
            "grid_auto_flow": null,
            "grid_area": null,
            "grid_template_columns": null,
            "flex": null,
            "_model_name": "LayoutModel",
            "justify_items": null,
            "grid_row": null,
            "max_height": null,
            "align_content": null,
            "visibility": null,
            "align_self": null,
            "height": null,
            "min_height": null,
            "padding": null,
            "grid_auto_rows": null,
            "grid_gap": null,
            "max_width": null,
            "order": null,
            "_view_module_version": "1.2.0",
            "grid_template_areas": null,
            "object_position": null,
            "object_fit": null,
            "grid_auto_columns": null,
            "margin": null,
            "display": null,
            "left": null
          }
        },
        "fb58f152570d4891883c367aa6198ff9": {
          "model_module": "@jupyter-widgets/controls",
          "model_name": "IntProgressModel",
          "state": {
            "_view_name": "ProgressView",
            "style": "IPY_MODEL_8c17b5614e80432da96179a3f74fb77e",
            "_dom_classes": [],
            "description": "Current iteration",
            "_model_name": "IntProgressModel",
            "bar_style": "success",
            "max": 105,
            "_view_module": "@jupyter-widgets/controls",
            "_model_module_version": "1.5.0",
            "value": 105,
            "_view_count": null,
            "_view_module_version": "1.5.0",
            "orientation": "horizontal",
            "min": 0,
            "description_tooltip": null,
            "_model_module": "@jupyter-widgets/controls",
            "layout": "IPY_MODEL_8b1e68e6c75c4c08953de160743a50f7"
          }
        },
        "35f0a3d352f44040883d204626ef67d9": {
          "model_module": "@jupyter-widgets/controls",
          "model_name": "HTMLModel",
          "state": {
            "_view_name": "HTMLView",
            "style": "IPY_MODEL_08d3c77f1a52477ea9b4d406e440d166",
            "_dom_classes": [],
            "description": "",
            "_model_name": "HTMLModel",
            "placeholder": "​",
            "_view_module": "@jupyter-widgets/controls",
            "_model_module_version": "1.5.0",
            "value": "100% 105/105 [03:29&lt;00:00,  1.89s/it]",
            "_view_count": null,
            "_view_module_version": "1.5.0",
            "description_tooltip": null,
            "_model_module": "@jupyter-widgets/controls",
            "layout": "IPY_MODEL_6d9f0f5928944609b07b70e02557ef0b"
          }
        },
        "8c17b5614e80432da96179a3f74fb77e": {
          "model_module": "@jupyter-widgets/controls",
          "model_name": "ProgressStyleModel",
          "state": {
            "_view_name": "StyleView",
            "_model_name": "ProgressStyleModel",
            "description_width": "initial",
            "_view_module": "@jupyter-widgets/base",
            "_model_module_version": "1.5.0",
            "_view_count": null,
            "_view_module_version": "1.2.0",
            "bar_color": null,
            "_model_module": "@jupyter-widgets/controls"
          }
        },
        "8b1e68e6c75c4c08953de160743a50f7": {
          "model_module": "@jupyter-widgets/base",
          "model_name": "LayoutModel",
          "state": {
            "_view_name": "LayoutView",
            "grid_template_rows": null,
            "right": null,
            "justify_content": null,
            "_view_module": "@jupyter-widgets/base",
            "overflow": null,
            "_model_module_version": "1.2.0",
            "_view_count": null,
            "flex_flow": null,
            "width": null,
            "min_width": null,
            "border": null,
            "align_items": null,
            "bottom": null,
            "_model_module": "@jupyter-widgets/base",
            "top": null,
            "grid_column": null,
            "overflow_y": null,
            "overflow_x": null,
            "grid_auto_flow": null,
            "grid_area": null,
            "grid_template_columns": null,
            "flex": null,
            "_model_name": "LayoutModel",
            "justify_items": null,
            "grid_row": null,
            "max_height": null,
            "align_content": null,
            "visibility": null,
            "align_self": null,
            "height": null,
            "min_height": null,
            "padding": null,
            "grid_auto_rows": null,
            "grid_gap": null,
            "max_width": null,
            "order": null,
            "_view_module_version": "1.2.0",
            "grid_template_areas": null,
            "object_position": null,
            "object_fit": null,
            "grid_auto_columns": null,
            "margin": null,
            "display": null,
            "left": null
          }
        },
        "08d3c77f1a52477ea9b4d406e440d166": {
          "model_module": "@jupyter-widgets/controls",
          "model_name": "DescriptionStyleModel",
          "state": {
            "_view_name": "StyleView",
            "_model_name": "DescriptionStyleModel",
            "description_width": "",
            "_view_module": "@jupyter-widgets/base",
            "_model_module_version": "1.5.0",
            "_view_count": null,
            "_view_module_version": "1.2.0",
            "_model_module": "@jupyter-widgets/controls"
          }
        },
        "6d9f0f5928944609b07b70e02557ef0b": {
          "model_module": "@jupyter-widgets/base",
          "model_name": "LayoutModel",
          "state": {
            "_view_name": "LayoutView",
            "grid_template_rows": null,
            "right": null,
            "justify_content": null,
            "_view_module": "@jupyter-widgets/base",
            "overflow": null,
            "_model_module_version": "1.2.0",
            "_view_count": null,
            "flex_flow": null,
            "width": null,
            "min_width": null,
            "border": null,
            "align_items": null,
            "bottom": null,
            "_model_module": "@jupyter-widgets/base",
            "top": null,
            "grid_column": null,
            "overflow_y": null,
            "overflow_x": null,
            "grid_auto_flow": null,
            "grid_area": null,
            "grid_template_columns": null,
            "flex": null,
            "_model_name": "LayoutModel",
            "justify_items": null,
            "grid_row": null,
            "max_height": null,
            "align_content": null,
            "visibility": null,
            "align_self": null,
            "height": null,
            "min_height": null,
            "padding": null,
            "grid_auto_rows": null,
            "grid_gap": null,
            "max_width": null,
            "order": null,
            "_view_module_version": "1.2.0",
            "grid_template_areas": null,
            "object_position": null,
            "object_fit": null,
            "grid_auto_columns": null,
            "margin": null,
            "display": null,
            "left": null
          }
        },
        "07a1ed79ddd14bb1a7c149221726a148": {
          "model_module": "@jupyter-widgets/controls",
          "model_name": "HBoxModel",
          "state": {
            "_view_name": "HBoxView",
            "_dom_classes": [],
            "_model_name": "HBoxModel",
            "_view_module": "@jupyter-widgets/controls",
            "_model_module_version": "1.5.0",
            "_view_count": null,
            "_view_module_version": "1.5.0",
            "box_style": "",
            "layout": "IPY_MODEL_cdd4958127a54ed99d3fbac557be820a",
            "_model_module": "@jupyter-widgets/controls",
            "children": [
              "IPY_MODEL_085f4d3777584c9ba022086a256976ec",
              "IPY_MODEL_6557d2756a6d4d0d925c699b7ee9b508"
            ]
          }
        },
        "cdd4958127a54ed99d3fbac557be820a": {
          "model_module": "@jupyter-widgets/base",
          "model_name": "LayoutModel",
          "state": {
            "_view_name": "LayoutView",
            "grid_template_rows": null,
            "right": null,
            "justify_content": null,
            "_view_module": "@jupyter-widgets/base",
            "overflow": null,
            "_model_module_version": "1.2.0",
            "_view_count": null,
            "flex_flow": null,
            "width": null,
            "min_width": null,
            "border": null,
            "align_items": null,
            "bottom": null,
            "_model_module": "@jupyter-widgets/base",
            "top": null,
            "grid_column": null,
            "overflow_y": null,
            "overflow_x": null,
            "grid_auto_flow": null,
            "grid_area": null,
            "grid_template_columns": null,
            "flex": null,
            "_model_name": "LayoutModel",
            "justify_items": null,
            "grid_row": null,
            "max_height": null,
            "align_content": null,
            "visibility": null,
            "align_self": null,
            "height": null,
            "min_height": null,
            "padding": null,
            "grid_auto_rows": null,
            "grid_gap": null,
            "max_width": null,
            "order": null,
            "_view_module_version": "1.2.0",
            "grid_template_areas": null,
            "object_position": null,
            "object_fit": null,
            "grid_auto_columns": null,
            "margin": null,
            "display": null,
            "left": null
          }
        },
        "085f4d3777584c9ba022086a256976ec": {
          "model_module": "@jupyter-widgets/controls",
          "model_name": "IntProgressModel",
          "state": {
            "_view_name": "ProgressView",
            "style": "IPY_MODEL_c89d687562434bbbad3528e118e5bedd",
            "_dom_classes": [],
            "description": "",
            "_model_name": "IntProgressModel",
            "bar_style": "success",
            "max": 360,
            "_view_module": "@jupyter-widgets/controls",
            "_model_module_version": "1.5.0",
            "value": 360,
            "_view_count": null,
            "_view_module_version": "1.5.0",
            "orientation": "horizontal",
            "min": 0,
            "description_tooltip": null,
            "_model_module": "@jupyter-widgets/controls",
            "layout": "IPY_MODEL_ef71751a75ed408ca225e3e21e21b181"
          }
        },
        "6557d2756a6d4d0d925c699b7ee9b508": {
          "model_module": "@jupyter-widgets/controls",
          "model_name": "HTMLModel",
          "state": {
            "_view_name": "HTMLView",
            "style": "IPY_MODEL_a6cb6cb8b2c044b9aa2c91f985dc4394",
            "_dom_classes": [],
            "description": "",
            "_model_name": "HTMLModel",
            "placeholder": "​",
            "_view_module": "@jupyter-widgets/controls",
            "_model_module_version": "1.5.0",
            "value": "100% 360/360 [00:00&lt;00:00, 3140.87it/s]",
            "_view_count": null,
            "_view_module_version": "1.5.0",
            "description_tooltip": null,
            "_model_module": "@jupyter-widgets/controls",
            "layout": "IPY_MODEL_7fc543a1e14340efa561fbf0d7ac2fdb"
          }
        },
        "c89d687562434bbbad3528e118e5bedd": {
          "model_module": "@jupyter-widgets/controls",
          "model_name": "ProgressStyleModel",
          "state": {
            "_view_name": "StyleView",
            "_model_name": "ProgressStyleModel",
            "description_width": "",
            "_view_module": "@jupyter-widgets/base",
            "_model_module_version": "1.5.0",
            "_view_count": null,
            "_view_module_version": "1.2.0",
            "bar_color": null,
            "_model_module": "@jupyter-widgets/controls"
          }
        },
        "ef71751a75ed408ca225e3e21e21b181": {
          "model_module": "@jupyter-widgets/base",
          "model_name": "LayoutModel",
          "state": {
            "_view_name": "LayoutView",
            "grid_template_rows": null,
            "right": null,
            "justify_content": null,
            "_view_module": "@jupyter-widgets/base",
            "overflow": null,
            "_model_module_version": "1.2.0",
            "_view_count": null,
            "flex_flow": null,
            "width": null,
            "min_width": null,
            "border": null,
            "align_items": null,
            "bottom": null,
            "_model_module": "@jupyter-widgets/base",
            "top": null,
            "grid_column": null,
            "overflow_y": null,
            "overflow_x": null,
            "grid_auto_flow": null,
            "grid_area": null,
            "grid_template_columns": null,
            "flex": null,
            "_model_name": "LayoutModel",
            "justify_items": null,
            "grid_row": null,
            "max_height": null,
            "align_content": null,
            "visibility": null,
            "align_self": null,
            "height": null,
            "min_height": null,
            "padding": null,
            "grid_auto_rows": null,
            "grid_gap": null,
            "max_width": null,
            "order": null,
            "_view_module_version": "1.2.0",
            "grid_template_areas": null,
            "object_position": null,
            "object_fit": null,
            "grid_auto_columns": null,
            "margin": null,
            "display": null,
            "left": null
          }
        },
        "a6cb6cb8b2c044b9aa2c91f985dc4394": {
          "model_module": "@jupyter-widgets/controls",
          "model_name": "DescriptionStyleModel",
          "state": {
            "_view_name": "StyleView",
            "_model_name": "DescriptionStyleModel",
            "description_width": "",
            "_view_module": "@jupyter-widgets/base",
            "_model_module_version": "1.5.0",
            "_view_count": null,
            "_view_module_version": "1.2.0",
            "_model_module": "@jupyter-widgets/controls"
          }
        },
        "7fc543a1e14340efa561fbf0d7ac2fdb": {
          "model_module": "@jupyter-widgets/base",
          "model_name": "LayoutModel",
          "state": {
            "_view_name": "LayoutView",
            "grid_template_rows": null,
            "right": null,
            "justify_content": null,
            "_view_module": "@jupyter-widgets/base",
            "overflow": null,
            "_model_module_version": "1.2.0",
            "_view_count": null,
            "flex_flow": null,
            "width": null,
            "min_width": null,
            "border": null,
            "align_items": null,
            "bottom": null,
            "_model_module": "@jupyter-widgets/base",
            "top": null,
            "grid_column": null,
            "overflow_y": null,
            "overflow_x": null,
            "grid_auto_flow": null,
            "grid_area": null,
            "grid_template_columns": null,
            "flex": null,
            "_model_name": "LayoutModel",
            "justify_items": null,
            "grid_row": null,
            "max_height": null,
            "align_content": null,
            "visibility": null,
            "align_self": null,
            "height": null,
            "min_height": null,
            "padding": null,
            "grid_auto_rows": null,
            "grid_gap": null,
            "max_width": null,
            "order": null,
            "_view_module_version": "1.2.0",
            "grid_template_areas": null,
            "object_position": null,
            "object_fit": null,
            "grid_auto_columns": null,
            "margin": null,
            "display": null,
            "left": null
          }
        },
        "7aecf251778446a39c23166dd1cc794b": {
          "model_module": "@jupyter-widgets/controls",
          "model_name": "HBoxModel",
          "state": {
            "_view_name": "HBoxView",
            "_dom_classes": [],
            "_model_name": "HBoxModel",
            "_view_module": "@jupyter-widgets/controls",
            "_model_module_version": "1.5.0",
            "_view_count": null,
            "_view_module_version": "1.5.0",
            "box_style": "",
            "layout": "IPY_MODEL_b0f43d6ba14c4bb3bf47eebbf0c535db",
            "_model_module": "@jupyter-widgets/controls",
            "children": [
              "IPY_MODEL_110b6879bf434150beddce82549f29ef",
              "IPY_MODEL_3f7533ac824b415aa966992bfc07f2ad"
            ]
          }
        },
        "b0f43d6ba14c4bb3bf47eebbf0c535db": {
          "model_module": "@jupyter-widgets/base",
          "model_name": "LayoutModel",
          "state": {
            "_view_name": "LayoutView",
            "grid_template_rows": null,
            "right": null,
            "justify_content": null,
            "_view_module": "@jupyter-widgets/base",
            "overflow": null,
            "_model_module_version": "1.2.0",
            "_view_count": null,
            "flex_flow": null,
            "width": null,
            "min_width": null,
            "border": null,
            "align_items": null,
            "bottom": null,
            "_model_module": "@jupyter-widgets/base",
            "top": null,
            "grid_column": null,
            "overflow_y": null,
            "overflow_x": null,
            "grid_auto_flow": null,
            "grid_area": null,
            "grid_template_columns": null,
            "flex": null,
            "_model_name": "LayoutModel",
            "justify_items": null,
            "grid_row": null,
            "max_height": null,
            "align_content": null,
            "visibility": null,
            "align_self": null,
            "height": null,
            "min_height": null,
            "padding": null,
            "grid_auto_rows": null,
            "grid_gap": null,
            "max_width": null,
            "order": null,
            "_view_module_version": "1.2.0",
            "grid_template_areas": null,
            "object_position": null,
            "object_fit": null,
            "grid_auto_columns": null,
            "margin": null,
            "display": null,
            "left": null
          }
        },
        "110b6879bf434150beddce82549f29ef": {
          "model_module": "@jupyter-widgets/controls",
          "model_name": "IntProgressModel",
          "state": {
            "_view_name": "ProgressView",
            "style": "IPY_MODEL_055386eacf98404d955b63bf66a86845",
            "_dom_classes": [],
            "description": "",
            "_model_name": "IntProgressModel",
            "bar_style": "success",
            "max": 45,
            "_view_module": "@jupyter-widgets/controls",
            "_model_module_version": "1.5.0",
            "value": 45,
            "_view_count": null,
            "_view_module_version": "1.5.0",
            "orientation": "horizontal",
            "min": 0,
            "description_tooltip": null,
            "_model_module": "@jupyter-widgets/controls",
            "layout": "IPY_MODEL_e106531629d3455d931783339725e4c5"
          }
        },
        "3f7533ac824b415aa966992bfc07f2ad": {
          "model_module": "@jupyter-widgets/controls",
          "model_name": "HTMLModel",
          "state": {
            "_view_name": "HTMLView",
            "style": "IPY_MODEL_0474e9c12d144183a4015af08a2a4d3a",
            "_dom_classes": [],
            "description": "",
            "_model_name": "HTMLModel",
            "placeholder": "​",
            "_view_module": "@jupyter-widgets/controls",
            "_model_module_version": "1.5.0",
            "value": "100% 45/45 [00:12&lt;00:00,  3.82it/s]",
            "_view_count": null,
            "_view_module_version": "1.5.0",
            "description_tooltip": null,
            "_model_module": "@jupyter-widgets/controls",
            "layout": "IPY_MODEL_feae98b68e244f94aa21cba4e1b4c803"
          }
        },
        "055386eacf98404d955b63bf66a86845": {
          "model_module": "@jupyter-widgets/controls",
          "model_name": "ProgressStyleModel",
          "state": {
            "_view_name": "StyleView",
            "_model_name": "ProgressStyleModel",
            "description_width": "",
            "_view_module": "@jupyter-widgets/base",
            "_model_module_version": "1.5.0",
            "_view_count": null,
            "_view_module_version": "1.2.0",
            "bar_color": null,
            "_model_module": "@jupyter-widgets/controls"
          }
        },
        "e106531629d3455d931783339725e4c5": {
          "model_module": "@jupyter-widgets/base",
          "model_name": "LayoutModel",
          "state": {
            "_view_name": "LayoutView",
            "grid_template_rows": null,
            "right": null,
            "justify_content": null,
            "_view_module": "@jupyter-widgets/base",
            "overflow": null,
            "_model_module_version": "1.2.0",
            "_view_count": null,
            "flex_flow": null,
            "width": null,
            "min_width": null,
            "border": null,
            "align_items": null,
            "bottom": null,
            "_model_module": "@jupyter-widgets/base",
            "top": null,
            "grid_column": null,
            "overflow_y": null,
            "overflow_x": null,
            "grid_auto_flow": null,
            "grid_area": null,
            "grid_template_columns": null,
            "flex": null,
            "_model_name": "LayoutModel",
            "justify_items": null,
            "grid_row": null,
            "max_height": null,
            "align_content": null,
            "visibility": null,
            "align_self": null,
            "height": null,
            "min_height": null,
            "padding": null,
            "grid_auto_rows": null,
            "grid_gap": null,
            "max_width": null,
            "order": null,
            "_view_module_version": "1.2.0",
            "grid_template_areas": null,
            "object_position": null,
            "object_fit": null,
            "grid_auto_columns": null,
            "margin": null,
            "display": null,
            "left": null
          }
        },
        "0474e9c12d144183a4015af08a2a4d3a": {
          "model_module": "@jupyter-widgets/controls",
          "model_name": "DescriptionStyleModel",
          "state": {
            "_view_name": "StyleView",
            "_model_name": "DescriptionStyleModel",
            "description_width": "",
            "_view_module": "@jupyter-widgets/base",
            "_model_module_version": "1.5.0",
            "_view_count": null,
            "_view_module_version": "1.2.0",
            "_model_module": "@jupyter-widgets/controls"
          }
        },
        "feae98b68e244f94aa21cba4e1b4c803": {
          "model_module": "@jupyter-widgets/base",
          "model_name": "LayoutModel",
          "state": {
            "_view_name": "LayoutView",
            "grid_template_rows": null,
            "right": null,
            "justify_content": null,
            "_view_module": "@jupyter-widgets/base",
            "overflow": null,
            "_model_module_version": "1.2.0",
            "_view_count": null,
            "flex_flow": null,
            "width": null,
            "min_width": null,
            "border": null,
            "align_items": null,
            "bottom": null,
            "_model_module": "@jupyter-widgets/base",
            "top": null,
            "grid_column": null,
            "overflow_y": null,
            "overflow_x": null,
            "grid_auto_flow": null,
            "grid_area": null,
            "grid_template_columns": null,
            "flex": null,
            "_model_name": "LayoutModel",
            "justify_items": null,
            "grid_row": null,
            "max_height": null,
            "align_content": null,
            "visibility": null,
            "align_self": null,
            "height": null,
            "min_height": null,
            "padding": null,
            "grid_auto_rows": null,
            "grid_gap": null,
            "max_width": null,
            "order": null,
            "_view_module_version": "1.2.0",
            "grid_template_areas": null,
            "object_position": null,
            "object_fit": null,
            "grid_auto_columns": null,
            "margin": null,
            "display": null,
            "left": null
          }
        },
        "b8747b18efaf474f9c562fdf42001c14": {
          "model_module": "@jupyter-widgets/controls",
          "model_name": "HBoxModel",
          "state": {
            "_view_name": "HBoxView",
            "_dom_classes": [],
            "_model_name": "HBoxModel",
            "_view_module": "@jupyter-widgets/controls",
            "_model_module_version": "1.5.0",
            "_view_count": null,
            "_view_module_version": "1.5.0",
            "box_style": "",
            "layout": "IPY_MODEL_359f8db07bca4161b2c4e13407d92c36",
            "_model_module": "@jupyter-widgets/controls",
            "children": [
              "IPY_MODEL_61eac01d1ecd43fe98ee1ecee043aeca",
              "IPY_MODEL_7eb283eb67ee4694b0dd2bef4b7dc604"
            ]
          }
        },
        "359f8db07bca4161b2c4e13407d92c36": {
          "model_module": "@jupyter-widgets/base",
          "model_name": "LayoutModel",
          "state": {
            "_view_name": "LayoutView",
            "grid_template_rows": null,
            "right": null,
            "justify_content": null,
            "_view_module": "@jupyter-widgets/base",
            "overflow": null,
            "_model_module_version": "1.2.0",
            "_view_count": null,
            "flex_flow": null,
            "width": null,
            "min_width": null,
            "border": null,
            "align_items": null,
            "bottom": null,
            "_model_module": "@jupyter-widgets/base",
            "top": null,
            "grid_column": null,
            "overflow_y": null,
            "overflow_x": null,
            "grid_auto_flow": null,
            "grid_area": null,
            "grid_template_columns": null,
            "flex": null,
            "_model_name": "LayoutModel",
            "justify_items": null,
            "grid_row": null,
            "max_height": null,
            "align_content": null,
            "visibility": null,
            "align_self": null,
            "height": null,
            "min_height": null,
            "padding": null,
            "grid_auto_rows": null,
            "grid_gap": null,
            "max_width": null,
            "order": null,
            "_view_module_version": "1.2.0",
            "grid_template_areas": null,
            "object_position": null,
            "object_fit": null,
            "grid_auto_columns": null,
            "margin": null,
            "display": null,
            "left": null
          }
        },
        "61eac01d1ecd43fe98ee1ecee043aeca": {
          "model_module": "@jupyter-widgets/controls",
          "model_name": "IntProgressModel",
          "state": {
            "_view_name": "ProgressView",
            "style": "IPY_MODEL_4ba350f22da44a21943b156d9a7fb503",
            "_dom_classes": [],
            "description": "",
            "_model_name": "IntProgressModel",
            "bar_style": "success",
            "max": 360,
            "_view_module": "@jupyter-widgets/controls",
            "_model_module_version": "1.5.0",
            "value": 360,
            "_view_count": null,
            "_view_module_version": "1.5.0",
            "orientation": "horizontal",
            "min": 0,
            "description_tooltip": null,
            "_model_module": "@jupyter-widgets/controls",
            "layout": "IPY_MODEL_38cc4e1fe00946409bcfc337c048038c"
          }
        },
        "7eb283eb67ee4694b0dd2bef4b7dc604": {
          "model_module": "@jupyter-widgets/controls",
          "model_name": "HTMLModel",
          "state": {
            "_view_name": "HTMLView",
            "style": "IPY_MODEL_27c6e672ecc840c18ebec1330a2a61c5",
            "_dom_classes": [],
            "description": "",
            "_model_name": "HTMLModel",
            "placeholder": "​",
            "_view_module": "@jupyter-widgets/controls",
            "_model_module_version": "1.5.0",
            "value": "100% 360/360 [00:00&lt;00:00, 2249.54it/s]",
            "_view_count": null,
            "_view_module_version": "1.5.0",
            "description_tooltip": null,
            "_model_module": "@jupyter-widgets/controls",
            "layout": "IPY_MODEL_bdd9e445623b40c18bccee7f82884ad1"
          }
        },
        "4ba350f22da44a21943b156d9a7fb503": {
          "model_module": "@jupyter-widgets/controls",
          "model_name": "ProgressStyleModel",
          "state": {
            "_view_name": "StyleView",
            "_model_name": "ProgressStyleModel",
            "description_width": "",
            "_view_module": "@jupyter-widgets/base",
            "_model_module_version": "1.5.0",
            "_view_count": null,
            "_view_module_version": "1.2.0",
            "bar_color": null,
            "_model_module": "@jupyter-widgets/controls"
          }
        },
        "38cc4e1fe00946409bcfc337c048038c": {
          "model_module": "@jupyter-widgets/base",
          "model_name": "LayoutModel",
          "state": {
            "_view_name": "LayoutView",
            "grid_template_rows": null,
            "right": null,
            "justify_content": null,
            "_view_module": "@jupyter-widgets/base",
            "overflow": null,
            "_model_module_version": "1.2.0",
            "_view_count": null,
            "flex_flow": null,
            "width": null,
            "min_width": null,
            "border": null,
            "align_items": null,
            "bottom": null,
            "_model_module": "@jupyter-widgets/base",
            "top": null,
            "grid_column": null,
            "overflow_y": null,
            "overflow_x": null,
            "grid_auto_flow": null,
            "grid_area": null,
            "grid_template_columns": null,
            "flex": null,
            "_model_name": "LayoutModel",
            "justify_items": null,
            "grid_row": null,
            "max_height": null,
            "align_content": null,
            "visibility": null,
            "align_self": null,
            "height": null,
            "min_height": null,
            "padding": null,
            "grid_auto_rows": null,
            "grid_gap": null,
            "max_width": null,
            "order": null,
            "_view_module_version": "1.2.0",
            "grid_template_areas": null,
            "object_position": null,
            "object_fit": null,
            "grid_auto_columns": null,
            "margin": null,
            "display": null,
            "left": null
          }
        },
        "27c6e672ecc840c18ebec1330a2a61c5": {
          "model_module": "@jupyter-widgets/controls",
          "model_name": "DescriptionStyleModel",
          "state": {
            "_view_name": "StyleView",
            "_model_name": "DescriptionStyleModel",
            "description_width": "",
            "_view_module": "@jupyter-widgets/base",
            "_model_module_version": "1.5.0",
            "_view_count": null,
            "_view_module_version": "1.2.0",
            "_model_module": "@jupyter-widgets/controls"
          }
        },
        "bdd9e445623b40c18bccee7f82884ad1": {
          "model_module": "@jupyter-widgets/base",
          "model_name": "LayoutModel",
          "state": {
            "_view_name": "LayoutView",
            "grid_template_rows": null,
            "right": null,
            "justify_content": null,
            "_view_module": "@jupyter-widgets/base",
            "overflow": null,
            "_model_module_version": "1.2.0",
            "_view_count": null,
            "flex_flow": null,
            "width": null,
            "min_width": null,
            "border": null,
            "align_items": null,
            "bottom": null,
            "_model_module": "@jupyter-widgets/base",
            "top": null,
            "grid_column": null,
            "overflow_y": null,
            "overflow_x": null,
            "grid_auto_flow": null,
            "grid_area": null,
            "grid_template_columns": null,
            "flex": null,
            "_model_name": "LayoutModel",
            "justify_items": null,
            "grid_row": null,
            "max_height": null,
            "align_content": null,
            "visibility": null,
            "align_self": null,
            "height": null,
            "min_height": null,
            "padding": null,
            "grid_auto_rows": null,
            "grid_gap": null,
            "max_width": null,
            "order": null,
            "_view_module_version": "1.2.0",
            "grid_template_areas": null,
            "object_position": null,
            "object_fit": null,
            "grid_auto_columns": null,
            "margin": null,
            "display": null,
            "left": null
          }
        },
        "bc69204ca933411c9968fa810f50c982": {
          "model_module": "@jupyter-widgets/controls",
          "model_name": "HBoxModel",
          "state": {
            "_view_name": "HBoxView",
            "_dom_classes": [],
            "_model_name": "HBoxModel",
            "_view_module": "@jupyter-widgets/controls",
            "_model_module_version": "1.5.0",
            "_view_count": null,
            "_view_module_version": "1.5.0",
            "box_style": "",
            "layout": "IPY_MODEL_ce2d8b53f4c1458eb51b7b2b7d37df45",
            "_model_module": "@jupyter-widgets/controls",
            "children": [
              "IPY_MODEL_d6d364a364114fed8c89f6fabcfe644f",
              "IPY_MODEL_81d896dcb7b54e5bb9941811295c40fb"
            ]
          }
        },
        "ce2d8b53f4c1458eb51b7b2b7d37df45": {
          "model_module": "@jupyter-widgets/base",
          "model_name": "LayoutModel",
          "state": {
            "_view_name": "LayoutView",
            "grid_template_rows": null,
            "right": null,
            "justify_content": null,
            "_view_module": "@jupyter-widgets/base",
            "overflow": null,
            "_model_module_version": "1.2.0",
            "_view_count": null,
            "flex_flow": null,
            "width": null,
            "min_width": null,
            "border": null,
            "align_items": null,
            "bottom": null,
            "_model_module": "@jupyter-widgets/base",
            "top": null,
            "grid_column": null,
            "overflow_y": null,
            "overflow_x": null,
            "grid_auto_flow": null,
            "grid_area": null,
            "grid_template_columns": null,
            "flex": null,
            "_model_name": "LayoutModel",
            "justify_items": null,
            "grid_row": null,
            "max_height": null,
            "align_content": null,
            "visibility": null,
            "align_self": null,
            "height": null,
            "min_height": null,
            "padding": null,
            "grid_auto_rows": null,
            "grid_gap": null,
            "max_width": null,
            "order": null,
            "_view_module_version": "1.2.0",
            "grid_template_areas": null,
            "object_position": null,
            "object_fit": null,
            "grid_auto_columns": null,
            "margin": null,
            "display": null,
            "left": null
          }
        },
        "d6d364a364114fed8c89f6fabcfe644f": {
          "model_module": "@jupyter-widgets/controls",
          "model_name": "IntProgressModel",
          "state": {
            "_view_name": "ProgressView",
            "style": "IPY_MODEL_dc90abb346134a1c9f64860490e60d1a",
            "_dom_classes": [],
            "description": "",
            "_model_name": "IntProgressModel",
            "bar_style": "success",
            "max": 45,
            "_view_module": "@jupyter-widgets/controls",
            "_model_module_version": "1.5.0",
            "value": 45,
            "_view_count": null,
            "_view_module_version": "1.5.0",
            "orientation": "horizontal",
            "min": 0,
            "description_tooltip": null,
            "_model_module": "@jupyter-widgets/controls",
            "layout": "IPY_MODEL_f4c374ff39934832bd168740d82074ef"
          }
        },
        "81d896dcb7b54e5bb9941811295c40fb": {
          "model_module": "@jupyter-widgets/controls",
          "model_name": "HTMLModel",
          "state": {
            "_view_name": "HTMLView",
            "style": "IPY_MODEL_cfb14da77b8e496b9763daa2536ad576",
            "_dom_classes": [],
            "description": "",
            "_model_name": "HTMLModel",
            "placeholder": "​",
            "_view_module": "@jupyter-widgets/controls",
            "_model_module_version": "1.5.0",
            "value": "100% 45/45 [00:12&lt;00:00,  3.72it/s]",
            "_view_count": null,
            "_view_module_version": "1.5.0",
            "description_tooltip": null,
            "_model_module": "@jupyter-widgets/controls",
            "layout": "IPY_MODEL_e7b3f1f85230473488c79788ee5f51b1"
          }
        },
        "dc90abb346134a1c9f64860490e60d1a": {
          "model_module": "@jupyter-widgets/controls",
          "model_name": "ProgressStyleModel",
          "state": {
            "_view_name": "StyleView",
            "_model_name": "ProgressStyleModel",
            "description_width": "",
            "_view_module": "@jupyter-widgets/base",
            "_model_module_version": "1.5.0",
            "_view_count": null,
            "_view_module_version": "1.2.0",
            "bar_color": null,
            "_model_module": "@jupyter-widgets/controls"
          }
        },
        "f4c374ff39934832bd168740d82074ef": {
          "model_module": "@jupyter-widgets/base",
          "model_name": "LayoutModel",
          "state": {
            "_view_name": "LayoutView",
            "grid_template_rows": null,
            "right": null,
            "justify_content": null,
            "_view_module": "@jupyter-widgets/base",
            "overflow": null,
            "_model_module_version": "1.2.0",
            "_view_count": null,
            "flex_flow": null,
            "width": null,
            "min_width": null,
            "border": null,
            "align_items": null,
            "bottom": null,
            "_model_module": "@jupyter-widgets/base",
            "top": null,
            "grid_column": null,
            "overflow_y": null,
            "overflow_x": null,
            "grid_auto_flow": null,
            "grid_area": null,
            "grid_template_columns": null,
            "flex": null,
            "_model_name": "LayoutModel",
            "justify_items": null,
            "grid_row": null,
            "max_height": null,
            "align_content": null,
            "visibility": null,
            "align_self": null,
            "height": null,
            "min_height": null,
            "padding": null,
            "grid_auto_rows": null,
            "grid_gap": null,
            "max_width": null,
            "order": null,
            "_view_module_version": "1.2.0",
            "grid_template_areas": null,
            "object_position": null,
            "object_fit": null,
            "grid_auto_columns": null,
            "margin": null,
            "display": null,
            "left": null
          }
        },
        "cfb14da77b8e496b9763daa2536ad576": {
          "model_module": "@jupyter-widgets/controls",
          "model_name": "DescriptionStyleModel",
          "state": {
            "_view_name": "StyleView",
            "_model_name": "DescriptionStyleModel",
            "description_width": "",
            "_view_module": "@jupyter-widgets/base",
            "_model_module_version": "1.5.0",
            "_view_count": null,
            "_view_module_version": "1.2.0",
            "_model_module": "@jupyter-widgets/controls"
          }
        },
        "e7b3f1f85230473488c79788ee5f51b1": {
          "model_module": "@jupyter-widgets/base",
          "model_name": "LayoutModel",
          "state": {
            "_view_name": "LayoutView",
            "grid_template_rows": null,
            "right": null,
            "justify_content": null,
            "_view_module": "@jupyter-widgets/base",
            "overflow": null,
            "_model_module_version": "1.2.0",
            "_view_count": null,
            "flex_flow": null,
            "width": null,
            "min_width": null,
            "border": null,
            "align_items": null,
            "bottom": null,
            "_model_module": "@jupyter-widgets/base",
            "top": null,
            "grid_column": null,
            "overflow_y": null,
            "overflow_x": null,
            "grid_auto_flow": null,
            "grid_area": null,
            "grid_template_columns": null,
            "flex": null,
            "_model_name": "LayoutModel",
            "justify_items": null,
            "grid_row": null,
            "max_height": null,
            "align_content": null,
            "visibility": null,
            "align_self": null,
            "height": null,
            "min_height": null,
            "padding": null,
            "grid_auto_rows": null,
            "grid_gap": null,
            "max_width": null,
            "order": null,
            "_view_module_version": "1.2.0",
            "grid_template_areas": null,
            "object_position": null,
            "object_fit": null,
            "grid_auto_columns": null,
            "margin": null,
            "display": null,
            "left": null
          }
        },
        "c233c85312b94be7b593a47fbd7c5584": {
          "model_module": "@jupyter-widgets/controls",
          "model_name": "HBoxModel",
          "state": {
            "_view_name": "HBoxView",
            "_dom_classes": [],
            "_model_name": "HBoxModel",
            "_view_module": "@jupyter-widgets/controls",
            "_model_module_version": "1.5.0",
            "_view_count": null,
            "_view_module_version": "1.5.0",
            "box_style": "",
            "layout": "IPY_MODEL_4de471663296407e82ef03f5153471b8",
            "_model_module": "@jupyter-widgets/controls",
            "children": [
              "IPY_MODEL_d4078b019bc94fdf8d058f1543593e54",
              "IPY_MODEL_4b91ae75d8a64112b6a7a93b835aa4b9"
            ]
          }
        },
        "4de471663296407e82ef03f5153471b8": {
          "model_module": "@jupyter-widgets/base",
          "model_name": "LayoutModel",
          "state": {
            "_view_name": "LayoutView",
            "grid_template_rows": null,
            "right": null,
            "justify_content": null,
            "_view_module": "@jupyter-widgets/base",
            "overflow": null,
            "_model_module_version": "1.2.0",
            "_view_count": null,
            "flex_flow": null,
            "width": null,
            "min_width": null,
            "border": null,
            "align_items": null,
            "bottom": null,
            "_model_module": "@jupyter-widgets/base",
            "top": null,
            "grid_column": null,
            "overflow_y": null,
            "overflow_x": null,
            "grid_auto_flow": null,
            "grid_area": null,
            "grid_template_columns": null,
            "flex": null,
            "_model_name": "LayoutModel",
            "justify_items": null,
            "grid_row": null,
            "max_height": null,
            "align_content": null,
            "visibility": null,
            "align_self": null,
            "height": null,
            "min_height": null,
            "padding": null,
            "grid_auto_rows": null,
            "grid_gap": null,
            "max_width": null,
            "order": null,
            "_view_module_version": "1.2.0",
            "grid_template_areas": null,
            "object_position": null,
            "object_fit": null,
            "grid_auto_columns": null,
            "margin": null,
            "display": null,
            "left": null
          }
        },
        "d4078b019bc94fdf8d058f1543593e54": {
          "model_module": "@jupyter-widgets/controls",
          "model_name": "IntProgressModel",
          "state": {
            "_view_name": "ProgressView",
            "style": "IPY_MODEL_c0e4cceb14e24e15bd8c09c74f499f58",
            "_dom_classes": [],
            "description": "",
            "_model_name": "IntProgressModel",
            "bar_style": "success",
            "max": 245,
            "_view_module": "@jupyter-widgets/controls",
            "_model_module_version": "1.5.0",
            "value": 245,
            "_view_count": null,
            "_view_module_version": "1.5.0",
            "orientation": "horizontal",
            "min": 0,
            "description_tooltip": null,
            "_model_module": "@jupyter-widgets/controls",
            "layout": "IPY_MODEL_c299f147668243af9ff64227062717ad"
          }
        },
        "4b91ae75d8a64112b6a7a93b835aa4b9": {
          "model_module": "@jupyter-widgets/controls",
          "model_name": "HTMLModel",
          "state": {
            "_view_name": "HTMLView",
            "style": "IPY_MODEL_8cf1b7ca75074d8a8baaa6f987fe1865",
            "_dom_classes": [],
            "description": "",
            "_model_name": "HTMLModel",
            "placeholder": "​",
            "_view_module": "@jupyter-widgets/controls",
            "_model_module_version": "1.5.0",
            "value": "100% 245/245 [00:00&lt;00:00, 2372.67it/s]",
            "_view_count": null,
            "_view_module_version": "1.5.0",
            "description_tooltip": null,
            "_model_module": "@jupyter-widgets/controls",
            "layout": "IPY_MODEL_842a6fcc58694191b1d5ac9ac0dbff16"
          }
        },
        "c0e4cceb14e24e15bd8c09c74f499f58": {
          "model_module": "@jupyter-widgets/controls",
          "model_name": "ProgressStyleModel",
          "state": {
            "_view_name": "StyleView",
            "_model_name": "ProgressStyleModel",
            "description_width": "",
            "_view_module": "@jupyter-widgets/base",
            "_model_module_version": "1.5.0",
            "_view_count": null,
            "_view_module_version": "1.2.0",
            "bar_color": null,
            "_model_module": "@jupyter-widgets/controls"
          }
        },
        "c299f147668243af9ff64227062717ad": {
          "model_module": "@jupyter-widgets/base",
          "model_name": "LayoutModel",
          "state": {
            "_view_name": "LayoutView",
            "grid_template_rows": null,
            "right": null,
            "justify_content": null,
            "_view_module": "@jupyter-widgets/base",
            "overflow": null,
            "_model_module_version": "1.2.0",
            "_view_count": null,
            "flex_flow": null,
            "width": null,
            "min_width": null,
            "border": null,
            "align_items": null,
            "bottom": null,
            "_model_module": "@jupyter-widgets/base",
            "top": null,
            "grid_column": null,
            "overflow_y": null,
            "overflow_x": null,
            "grid_auto_flow": null,
            "grid_area": null,
            "grid_template_columns": null,
            "flex": null,
            "_model_name": "LayoutModel",
            "justify_items": null,
            "grid_row": null,
            "max_height": null,
            "align_content": null,
            "visibility": null,
            "align_self": null,
            "height": null,
            "min_height": null,
            "padding": null,
            "grid_auto_rows": null,
            "grid_gap": null,
            "max_width": null,
            "order": null,
            "_view_module_version": "1.2.0",
            "grid_template_areas": null,
            "object_position": null,
            "object_fit": null,
            "grid_auto_columns": null,
            "margin": null,
            "display": null,
            "left": null
          }
        },
        "8cf1b7ca75074d8a8baaa6f987fe1865": {
          "model_module": "@jupyter-widgets/controls",
          "model_name": "DescriptionStyleModel",
          "state": {
            "_view_name": "StyleView",
            "_model_name": "DescriptionStyleModel",
            "description_width": "",
            "_view_module": "@jupyter-widgets/base",
            "_model_module_version": "1.5.0",
            "_view_count": null,
            "_view_module_version": "1.2.0",
            "_model_module": "@jupyter-widgets/controls"
          }
        },
        "842a6fcc58694191b1d5ac9ac0dbff16": {
          "model_module": "@jupyter-widgets/base",
          "model_name": "LayoutModel",
          "state": {
            "_view_name": "LayoutView",
            "grid_template_rows": null,
            "right": null,
            "justify_content": null,
            "_view_module": "@jupyter-widgets/base",
            "overflow": null,
            "_model_module_version": "1.2.0",
            "_view_count": null,
            "flex_flow": null,
            "width": null,
            "min_width": null,
            "border": null,
            "align_items": null,
            "bottom": null,
            "_model_module": "@jupyter-widgets/base",
            "top": null,
            "grid_column": null,
            "overflow_y": null,
            "overflow_x": null,
            "grid_auto_flow": null,
            "grid_area": null,
            "grid_template_columns": null,
            "flex": null,
            "_model_name": "LayoutModel",
            "justify_items": null,
            "grid_row": null,
            "max_height": null,
            "align_content": null,
            "visibility": null,
            "align_self": null,
            "height": null,
            "min_height": null,
            "padding": null,
            "grid_auto_rows": null,
            "grid_gap": null,
            "max_width": null,
            "order": null,
            "_view_module_version": "1.2.0",
            "grid_template_areas": null,
            "object_position": null,
            "object_fit": null,
            "grid_auto_columns": null,
            "margin": null,
            "display": null,
            "left": null
          }
        },
        "70aa4ce014c74be98ae9135323935404": {
          "model_module": "@jupyter-widgets/controls",
          "model_name": "HBoxModel",
          "state": {
            "_view_name": "HBoxView",
            "_dom_classes": [],
            "_model_name": "HBoxModel",
            "_view_module": "@jupyter-widgets/controls",
            "_model_module_version": "1.5.0",
            "_view_count": null,
            "_view_module_version": "1.5.0",
            "box_style": "",
            "layout": "IPY_MODEL_4fee9f8798c2491588d84cc4cd84c079",
            "_model_module": "@jupyter-widgets/controls",
            "children": [
              "IPY_MODEL_324533b3d44e4e21b114da90cf5d71bd",
              "IPY_MODEL_8413d60fc8114fd2bbefb4e824a7d645"
            ]
          }
        },
        "4fee9f8798c2491588d84cc4cd84c079": {
          "model_module": "@jupyter-widgets/base",
          "model_name": "LayoutModel",
          "state": {
            "_view_name": "LayoutView",
            "grid_template_rows": null,
            "right": null,
            "justify_content": null,
            "_view_module": "@jupyter-widgets/base",
            "overflow": null,
            "_model_module_version": "1.2.0",
            "_view_count": null,
            "flex_flow": null,
            "width": null,
            "min_width": null,
            "border": null,
            "align_items": null,
            "bottom": null,
            "_model_module": "@jupyter-widgets/base",
            "top": null,
            "grid_column": null,
            "overflow_y": null,
            "overflow_x": null,
            "grid_auto_flow": null,
            "grid_area": null,
            "grid_template_columns": null,
            "flex": null,
            "_model_name": "LayoutModel",
            "justify_items": null,
            "grid_row": null,
            "max_height": null,
            "align_content": null,
            "visibility": null,
            "align_self": null,
            "height": null,
            "min_height": null,
            "padding": null,
            "grid_auto_rows": null,
            "grid_gap": null,
            "max_width": null,
            "order": null,
            "_view_module_version": "1.2.0",
            "grid_template_areas": null,
            "object_position": null,
            "object_fit": null,
            "grid_auto_columns": null,
            "margin": null,
            "display": null,
            "left": null
          }
        },
        "324533b3d44e4e21b114da90cf5d71bd": {
          "model_module": "@jupyter-widgets/controls",
          "model_name": "IntProgressModel",
          "state": {
            "_view_name": "ProgressView",
            "style": "IPY_MODEL_a667518819a74dca916520fba0cd80fe",
            "_dom_classes": [],
            "description": "",
            "_model_name": "IntProgressModel",
            "bar_style": "success",
            "max": 31,
            "_view_module": "@jupyter-widgets/controls",
            "_model_module_version": "1.5.0",
            "value": 31,
            "_view_count": null,
            "_view_module_version": "1.5.0",
            "orientation": "horizontal",
            "min": 0,
            "description_tooltip": null,
            "_model_module": "@jupyter-widgets/controls",
            "layout": "IPY_MODEL_739583279d0a43e194ab0d7e85c588ae"
          }
        },
        "8413d60fc8114fd2bbefb4e824a7d645": {
          "model_module": "@jupyter-widgets/controls",
          "model_name": "HTMLModel",
          "state": {
            "_view_name": "HTMLView",
            "style": "IPY_MODEL_248c3a9ccf334e1381ec5aaa1ae127d8",
            "_dom_classes": [],
            "description": "",
            "_model_name": "HTMLModel",
            "placeholder": "​",
            "_view_module": "@jupyter-widgets/controls",
            "_model_module_version": "1.5.0",
            "value": "100% 31/31 [00:08&lt;00:00,  3.54it/s]",
            "_view_count": null,
            "_view_module_version": "1.5.0",
            "description_tooltip": null,
            "_model_module": "@jupyter-widgets/controls",
            "layout": "IPY_MODEL_ff42a03ef4874c7eac0a9463e1fa4645"
          }
        },
        "a667518819a74dca916520fba0cd80fe": {
          "model_module": "@jupyter-widgets/controls",
          "model_name": "ProgressStyleModel",
          "state": {
            "_view_name": "StyleView",
            "_model_name": "ProgressStyleModel",
            "description_width": "",
            "_view_module": "@jupyter-widgets/base",
            "_model_module_version": "1.5.0",
            "_view_count": null,
            "_view_module_version": "1.2.0",
            "bar_color": null,
            "_model_module": "@jupyter-widgets/controls"
          }
        },
        "739583279d0a43e194ab0d7e85c588ae": {
          "model_module": "@jupyter-widgets/base",
          "model_name": "LayoutModel",
          "state": {
            "_view_name": "LayoutView",
            "grid_template_rows": null,
            "right": null,
            "justify_content": null,
            "_view_module": "@jupyter-widgets/base",
            "overflow": null,
            "_model_module_version": "1.2.0",
            "_view_count": null,
            "flex_flow": null,
            "width": null,
            "min_width": null,
            "border": null,
            "align_items": null,
            "bottom": null,
            "_model_module": "@jupyter-widgets/base",
            "top": null,
            "grid_column": null,
            "overflow_y": null,
            "overflow_x": null,
            "grid_auto_flow": null,
            "grid_area": null,
            "grid_template_columns": null,
            "flex": null,
            "_model_name": "LayoutModel",
            "justify_items": null,
            "grid_row": null,
            "max_height": null,
            "align_content": null,
            "visibility": null,
            "align_self": null,
            "height": null,
            "min_height": null,
            "padding": null,
            "grid_auto_rows": null,
            "grid_gap": null,
            "max_width": null,
            "order": null,
            "_view_module_version": "1.2.0",
            "grid_template_areas": null,
            "object_position": null,
            "object_fit": null,
            "grid_auto_columns": null,
            "margin": null,
            "display": null,
            "left": null
          }
        },
        "248c3a9ccf334e1381ec5aaa1ae127d8": {
          "model_module": "@jupyter-widgets/controls",
          "model_name": "DescriptionStyleModel",
          "state": {
            "_view_name": "StyleView",
            "_model_name": "DescriptionStyleModel",
            "description_width": "",
            "_view_module": "@jupyter-widgets/base",
            "_model_module_version": "1.5.0",
            "_view_count": null,
            "_view_module_version": "1.2.0",
            "_model_module": "@jupyter-widgets/controls"
          }
        },
        "ff42a03ef4874c7eac0a9463e1fa4645": {
          "model_module": "@jupyter-widgets/base",
          "model_name": "LayoutModel",
          "state": {
            "_view_name": "LayoutView",
            "grid_template_rows": null,
            "right": null,
            "justify_content": null,
            "_view_module": "@jupyter-widgets/base",
            "overflow": null,
            "_model_module_version": "1.2.0",
            "_view_count": null,
            "flex_flow": null,
            "width": null,
            "min_width": null,
            "border": null,
            "align_items": null,
            "bottom": null,
            "_model_module": "@jupyter-widgets/base",
            "top": null,
            "grid_column": null,
            "overflow_y": null,
            "overflow_x": null,
            "grid_auto_flow": null,
            "grid_area": null,
            "grid_template_columns": null,
            "flex": null,
            "_model_name": "LayoutModel",
            "justify_items": null,
            "grid_row": null,
            "max_height": null,
            "align_content": null,
            "visibility": null,
            "align_self": null,
            "height": null,
            "min_height": null,
            "padding": null,
            "grid_auto_rows": null,
            "grid_gap": null,
            "max_width": null,
            "order": null,
            "_view_module_version": "1.2.0",
            "grid_template_areas": null,
            "object_position": null,
            "object_fit": null,
            "grid_auto_columns": null,
            "margin": null,
            "display": null,
            "left": null
          }
        },
        "fa80c7b5399747b4b4ee5b136d34a507": {
          "model_module": "@jupyter-widgets/controls",
          "model_name": "HBoxModel",
          "state": {
            "_view_name": "HBoxView",
            "_dom_classes": [],
            "_model_name": "HBoxModel",
            "_view_module": "@jupyter-widgets/controls",
            "_model_module_version": "1.5.0",
            "_view_count": null,
            "_view_module_version": "1.5.0",
            "box_style": "",
            "layout": "IPY_MODEL_34b340971c29438cb05c6e6b17ddc9cb",
            "_model_module": "@jupyter-widgets/controls",
            "children": [
              "IPY_MODEL_7aa0242d6e47401ba8acda072218970c",
              "IPY_MODEL_909b0d7736554f86a4ab42fe8a4a931f"
            ]
          }
        },
        "34b340971c29438cb05c6e6b17ddc9cb": {
          "model_module": "@jupyter-widgets/base",
          "model_name": "LayoutModel",
          "state": {
            "_view_name": "LayoutView",
            "grid_template_rows": null,
            "right": null,
            "justify_content": null,
            "_view_module": "@jupyter-widgets/base",
            "overflow": null,
            "_model_module_version": "1.2.0",
            "_view_count": null,
            "flex_flow": null,
            "width": null,
            "min_width": null,
            "border": null,
            "align_items": null,
            "bottom": null,
            "_model_module": "@jupyter-widgets/base",
            "top": null,
            "grid_column": null,
            "overflow_y": null,
            "overflow_x": null,
            "grid_auto_flow": null,
            "grid_area": null,
            "grid_template_columns": null,
            "flex": null,
            "_model_name": "LayoutModel",
            "justify_items": null,
            "grid_row": null,
            "max_height": null,
            "align_content": null,
            "visibility": null,
            "align_self": null,
            "height": null,
            "min_height": null,
            "padding": null,
            "grid_auto_rows": null,
            "grid_gap": null,
            "max_width": null,
            "order": null,
            "_view_module_version": "1.2.0",
            "grid_template_areas": null,
            "object_position": null,
            "object_fit": null,
            "grid_auto_columns": null,
            "margin": null,
            "display": null,
            "left": null
          }
        },
        "7aa0242d6e47401ba8acda072218970c": {
          "model_module": "@jupyter-widgets/controls",
          "model_name": "IntProgressModel",
          "state": {
            "_view_name": "ProgressView",
            "style": "IPY_MODEL_9562ce3fa883491a9f6c9c2817494306",
            "_dom_classes": [],
            "description": "",
            "_model_name": "IntProgressModel",
            "bar_style": "success",
            "max": 1,
            "_view_module": "@jupyter-widgets/controls",
            "_model_module_version": "1.5.0",
            "value": 1,
            "_view_count": null,
            "_view_module_version": "1.5.0",
            "orientation": "horizontal",
            "min": 0,
            "description_tooltip": null,
            "_model_module": "@jupyter-widgets/controls",
            "layout": "IPY_MODEL_309f0b4338dc44e783436c7a59bd4b6e"
          }
        },
        "909b0d7736554f86a4ab42fe8a4a931f": {
          "model_module": "@jupyter-widgets/controls",
          "model_name": "HTMLModel",
          "state": {
            "_view_name": "HTMLView",
            "style": "IPY_MODEL_b975357429e541018dfe458292ffbd57",
            "_dom_classes": [],
            "description": "",
            "_model_name": "HTMLModel",
            "placeholder": "​",
            "_view_module": "@jupyter-widgets/controls",
            "_model_module_version": "1.5.0",
            "value": "100% 1/1 [00:00&lt;00:00, 17.26it/s]",
            "_view_count": null,
            "_view_module_version": "1.5.0",
            "description_tooltip": null,
            "_model_module": "@jupyter-widgets/controls",
            "layout": "IPY_MODEL_d9ae5637ac804a898e9b1fafec96104b"
          }
        },
        "9562ce3fa883491a9f6c9c2817494306": {
          "model_module": "@jupyter-widgets/controls",
          "model_name": "ProgressStyleModel",
          "state": {
            "_view_name": "StyleView",
            "_model_name": "ProgressStyleModel",
            "description_width": "",
            "_view_module": "@jupyter-widgets/base",
            "_model_module_version": "1.5.0",
            "_view_count": null,
            "_view_module_version": "1.2.0",
            "bar_color": null,
            "_model_module": "@jupyter-widgets/controls"
          }
        },
        "309f0b4338dc44e783436c7a59bd4b6e": {
          "model_module": "@jupyter-widgets/base",
          "model_name": "LayoutModel",
          "state": {
            "_view_name": "LayoutView",
            "grid_template_rows": null,
            "right": null,
            "justify_content": null,
            "_view_module": "@jupyter-widgets/base",
            "overflow": null,
            "_model_module_version": "1.2.0",
            "_view_count": null,
            "flex_flow": null,
            "width": null,
            "min_width": null,
            "border": null,
            "align_items": null,
            "bottom": null,
            "_model_module": "@jupyter-widgets/base",
            "top": null,
            "grid_column": null,
            "overflow_y": null,
            "overflow_x": null,
            "grid_auto_flow": null,
            "grid_area": null,
            "grid_template_columns": null,
            "flex": null,
            "_model_name": "LayoutModel",
            "justify_items": null,
            "grid_row": null,
            "max_height": null,
            "align_content": null,
            "visibility": null,
            "align_self": null,
            "height": null,
            "min_height": null,
            "padding": null,
            "grid_auto_rows": null,
            "grid_gap": null,
            "max_width": null,
            "order": null,
            "_view_module_version": "1.2.0",
            "grid_template_areas": null,
            "object_position": null,
            "object_fit": null,
            "grid_auto_columns": null,
            "margin": null,
            "display": null,
            "left": null
          }
        },
        "b975357429e541018dfe458292ffbd57": {
          "model_module": "@jupyter-widgets/controls",
          "model_name": "DescriptionStyleModel",
          "state": {
            "_view_name": "StyleView",
            "_model_name": "DescriptionStyleModel",
            "description_width": "",
            "_view_module": "@jupyter-widgets/base",
            "_model_module_version": "1.5.0",
            "_view_count": null,
            "_view_module_version": "1.2.0",
            "_model_module": "@jupyter-widgets/controls"
          }
        },
        "d9ae5637ac804a898e9b1fafec96104b": {
          "model_module": "@jupyter-widgets/base",
          "model_name": "LayoutModel",
          "state": {
            "_view_name": "LayoutView",
            "grid_template_rows": null,
            "right": null,
            "justify_content": null,
            "_view_module": "@jupyter-widgets/base",
            "overflow": null,
            "_model_module_version": "1.2.0",
            "_view_count": null,
            "flex_flow": null,
            "width": null,
            "min_width": null,
            "border": null,
            "align_items": null,
            "bottom": null,
            "_model_module": "@jupyter-widgets/base",
            "top": null,
            "grid_column": null,
            "overflow_y": null,
            "overflow_x": null,
            "grid_auto_flow": null,
            "grid_area": null,
            "grid_template_columns": null,
            "flex": null,
            "_model_name": "LayoutModel",
            "justify_items": null,
            "grid_row": null,
            "max_height": null,
            "align_content": null,
            "visibility": null,
            "align_self": null,
            "height": null,
            "min_height": null,
            "padding": null,
            "grid_auto_rows": null,
            "grid_gap": null,
            "max_width": null,
            "order": null,
            "_view_module_version": "1.2.0",
            "grid_template_areas": null,
            "object_position": null,
            "object_fit": null,
            "grid_auto_columns": null,
            "margin": null,
            "display": null,
            "left": null
          }
        },
        "02dfd73a94744d1d878df26c2dafe15c": {
          "model_module": "@jupyter-widgets/controls",
          "model_name": "HBoxModel",
          "state": {
            "_view_name": "HBoxView",
            "_dom_classes": [],
            "_model_name": "HBoxModel",
            "_view_module": "@jupyter-widgets/controls",
            "_model_module_version": "1.5.0",
            "_view_count": null,
            "_view_module_version": "1.5.0",
            "box_style": "",
            "layout": "IPY_MODEL_dde2a38a79654aaf858f2e02e3905b0c",
            "_model_module": "@jupyter-widgets/controls",
            "children": [
              "IPY_MODEL_6ed66a20949442acbcb76dacab4aeae0",
              "IPY_MODEL_6ed64c552da54a1d8a7d89ac59984582"
            ]
          }
        },
        "dde2a38a79654aaf858f2e02e3905b0c": {
          "model_module": "@jupyter-widgets/base",
          "model_name": "LayoutModel",
          "state": {
            "_view_name": "LayoutView",
            "grid_template_rows": null,
            "right": null,
            "justify_content": null,
            "_view_module": "@jupyter-widgets/base",
            "overflow": null,
            "_model_module_version": "1.2.0",
            "_view_count": null,
            "flex_flow": null,
            "width": null,
            "min_width": null,
            "border": null,
            "align_items": null,
            "bottom": null,
            "_model_module": "@jupyter-widgets/base",
            "top": null,
            "grid_column": null,
            "overflow_y": null,
            "overflow_x": null,
            "grid_auto_flow": null,
            "grid_area": null,
            "grid_template_columns": null,
            "flex": null,
            "_model_name": "LayoutModel",
            "justify_items": null,
            "grid_row": null,
            "max_height": null,
            "align_content": null,
            "visibility": null,
            "align_self": null,
            "height": null,
            "min_height": null,
            "padding": null,
            "grid_auto_rows": null,
            "grid_gap": null,
            "max_width": null,
            "order": null,
            "_view_module_version": "1.2.0",
            "grid_template_areas": null,
            "object_position": null,
            "object_fit": null,
            "grid_auto_columns": null,
            "margin": null,
            "display": null,
            "left": null
          }
        },
        "6ed66a20949442acbcb76dacab4aeae0": {
          "model_module": "@jupyter-widgets/controls",
          "model_name": "IntProgressModel",
          "state": {
            "_view_name": "ProgressView",
            "style": "IPY_MODEL_5b11d2ea0158453eb2a23461f36e0ce6",
            "_dom_classes": [],
            "description": "",
            "_model_name": "IntProgressModel",
            "bar_style": "success",
            "max": 1,
            "_view_module": "@jupyter-widgets/controls",
            "_model_module_version": "1.5.0",
            "value": 1,
            "_view_count": null,
            "_view_module_version": "1.5.0",
            "orientation": "horizontal",
            "min": 0,
            "description_tooltip": null,
            "_model_module": "@jupyter-widgets/controls",
            "layout": "IPY_MODEL_9808ae3426f94bd0b850a53be7e38de8"
          }
        },
        "6ed64c552da54a1d8a7d89ac59984582": {
          "model_module": "@jupyter-widgets/controls",
          "model_name": "HTMLModel",
          "state": {
            "_view_name": "HTMLView",
            "style": "IPY_MODEL_572464c57ea043bc96723efc8dbd2b42",
            "_dom_classes": [],
            "description": "",
            "_model_name": "HTMLModel",
            "placeholder": "​",
            "_view_module": "@jupyter-widgets/controls",
            "_model_module_version": "1.5.0",
            "value": "100% 1/1 [00:00&lt;00:00,  2.10it/s]",
            "_view_count": null,
            "_view_module_version": "1.5.0",
            "description_tooltip": null,
            "_model_module": "@jupyter-widgets/controls",
            "layout": "IPY_MODEL_b29689f9597c4c798957644241370f35"
          }
        },
        "5b11d2ea0158453eb2a23461f36e0ce6": {
          "model_module": "@jupyter-widgets/controls",
          "model_name": "ProgressStyleModel",
          "state": {
            "_view_name": "StyleView",
            "_model_name": "ProgressStyleModel",
            "description_width": "",
            "_view_module": "@jupyter-widgets/base",
            "_model_module_version": "1.5.0",
            "_view_count": null,
            "_view_module_version": "1.2.0",
            "bar_color": null,
            "_model_module": "@jupyter-widgets/controls"
          }
        },
        "9808ae3426f94bd0b850a53be7e38de8": {
          "model_module": "@jupyter-widgets/base",
          "model_name": "LayoutModel",
          "state": {
            "_view_name": "LayoutView",
            "grid_template_rows": null,
            "right": null,
            "justify_content": null,
            "_view_module": "@jupyter-widgets/base",
            "overflow": null,
            "_model_module_version": "1.2.0",
            "_view_count": null,
            "flex_flow": null,
            "width": null,
            "min_width": null,
            "border": null,
            "align_items": null,
            "bottom": null,
            "_model_module": "@jupyter-widgets/base",
            "top": null,
            "grid_column": null,
            "overflow_y": null,
            "overflow_x": null,
            "grid_auto_flow": null,
            "grid_area": null,
            "grid_template_columns": null,
            "flex": null,
            "_model_name": "LayoutModel",
            "justify_items": null,
            "grid_row": null,
            "max_height": null,
            "align_content": null,
            "visibility": null,
            "align_self": null,
            "height": null,
            "min_height": null,
            "padding": null,
            "grid_auto_rows": null,
            "grid_gap": null,
            "max_width": null,
            "order": null,
            "_view_module_version": "1.2.0",
            "grid_template_areas": null,
            "object_position": null,
            "object_fit": null,
            "grid_auto_columns": null,
            "margin": null,
            "display": null,
            "left": null
          }
        },
        "572464c57ea043bc96723efc8dbd2b42": {
          "model_module": "@jupyter-widgets/controls",
          "model_name": "DescriptionStyleModel",
          "state": {
            "_view_name": "StyleView",
            "_model_name": "DescriptionStyleModel",
            "description_width": "",
            "_view_module": "@jupyter-widgets/base",
            "_model_module_version": "1.5.0",
            "_view_count": null,
            "_view_module_version": "1.2.0",
            "_model_module": "@jupyter-widgets/controls"
          }
        },
        "b29689f9597c4c798957644241370f35": {
          "model_module": "@jupyter-widgets/base",
          "model_name": "LayoutModel",
          "state": {
            "_view_name": "LayoutView",
            "grid_template_rows": null,
            "right": null,
            "justify_content": null,
            "_view_module": "@jupyter-widgets/base",
            "overflow": null,
            "_model_module_version": "1.2.0",
            "_view_count": null,
            "flex_flow": null,
            "width": null,
            "min_width": null,
            "border": null,
            "align_items": null,
            "bottom": null,
            "_model_module": "@jupyter-widgets/base",
            "top": null,
            "grid_column": null,
            "overflow_y": null,
            "overflow_x": null,
            "grid_auto_flow": null,
            "grid_area": null,
            "grid_template_columns": null,
            "flex": null,
            "_model_name": "LayoutModel",
            "justify_items": null,
            "grid_row": null,
            "max_height": null,
            "align_content": null,
            "visibility": null,
            "align_self": null,
            "height": null,
            "min_height": null,
            "padding": null,
            "grid_auto_rows": null,
            "grid_gap": null,
            "max_width": null,
            "order": null,
            "_view_module_version": "1.2.0",
            "grid_template_areas": null,
            "object_position": null,
            "object_fit": null,
            "grid_auto_columns": null,
            "margin": null,
            "display": null,
            "left": null
          }
        },
        "4fc0e12e140e4194869abac60465276b": {
          "model_module": "@jupyter-widgets/controls",
          "model_name": "HBoxModel",
          "state": {
            "_view_name": "HBoxView",
            "_dom_classes": [],
            "_model_name": "HBoxModel",
            "_view_module": "@jupyter-widgets/controls",
            "_model_module_version": "1.5.0",
            "_view_count": null,
            "_view_module_version": "1.5.0",
            "box_style": "",
            "layout": "IPY_MODEL_10e4313ae3634ba386677dd7d99a2db0",
            "_model_module": "@jupyter-widgets/controls",
            "children": [
              "IPY_MODEL_ddfda92398fe4091b54e9945d215f2ab",
              "IPY_MODEL_49c134de660a41f18cc0ad3afcf39c14"
            ]
          }
        },
        "10e4313ae3634ba386677dd7d99a2db0": {
          "model_module": "@jupyter-widgets/base",
          "model_name": "LayoutModel",
          "state": {
            "_view_name": "LayoutView",
            "grid_template_rows": null,
            "right": null,
            "justify_content": null,
            "_view_module": "@jupyter-widgets/base",
            "overflow": null,
            "_model_module_version": "1.2.0",
            "_view_count": null,
            "flex_flow": null,
            "width": null,
            "min_width": null,
            "border": null,
            "align_items": null,
            "bottom": null,
            "_model_module": "@jupyter-widgets/base",
            "top": null,
            "grid_column": null,
            "overflow_y": null,
            "overflow_x": null,
            "grid_auto_flow": null,
            "grid_area": null,
            "grid_template_columns": null,
            "flex": null,
            "_model_name": "LayoutModel",
            "justify_items": null,
            "grid_row": null,
            "max_height": null,
            "align_content": null,
            "visibility": null,
            "align_self": null,
            "height": null,
            "min_height": null,
            "padding": null,
            "grid_auto_rows": null,
            "grid_gap": null,
            "max_width": null,
            "order": null,
            "_view_module_version": "1.2.0",
            "grid_template_areas": null,
            "object_position": null,
            "object_fit": null,
            "grid_auto_columns": null,
            "margin": null,
            "display": null,
            "left": null
          }
        },
        "ddfda92398fe4091b54e9945d215f2ab": {
          "model_module": "@jupyter-widgets/controls",
          "model_name": "IntProgressModel",
          "state": {
            "_view_name": "ProgressView",
            "style": "IPY_MODEL_5700daa5ea074a3d82d6e26a77d60a67",
            "_dom_classes": [],
            "description": "",
            "_model_name": "IntProgressModel",
            "bar_style": "success",
            "max": 1,
            "_view_module": "@jupyter-widgets/controls",
            "_model_module_version": "1.5.0",
            "value": 1,
            "_view_count": null,
            "_view_module_version": "1.5.0",
            "orientation": "horizontal",
            "min": 0,
            "description_tooltip": null,
            "_model_module": "@jupyter-widgets/controls",
            "layout": "IPY_MODEL_e8c6e01ea12f4a80a36942193b33d1c2"
          }
        },
        "49c134de660a41f18cc0ad3afcf39c14": {
          "model_module": "@jupyter-widgets/controls",
          "model_name": "HTMLModel",
          "state": {
            "_view_name": "HTMLView",
            "style": "IPY_MODEL_98ed5297772b47fe9b9ddff22c976c70",
            "_dom_classes": [],
            "description": "",
            "_model_name": "HTMLModel",
            "placeholder": "​",
            "_view_module": "@jupyter-widgets/controls",
            "_model_module_version": "1.5.0",
            "value": "100% 1/1 [00:00&lt;00:00,  1.96it/s]",
            "_view_count": null,
            "_view_module_version": "1.5.0",
            "description_tooltip": null,
            "_model_module": "@jupyter-widgets/controls",
            "layout": "IPY_MODEL_fc3280e0188c4bd2bee2f3ee7987f9d8"
          }
        },
        "5700daa5ea074a3d82d6e26a77d60a67": {
          "model_module": "@jupyter-widgets/controls",
          "model_name": "ProgressStyleModel",
          "state": {
            "_view_name": "StyleView",
            "_model_name": "ProgressStyleModel",
            "description_width": "",
            "_view_module": "@jupyter-widgets/base",
            "_model_module_version": "1.5.0",
            "_view_count": null,
            "_view_module_version": "1.2.0",
            "bar_color": null,
            "_model_module": "@jupyter-widgets/controls"
          }
        },
        "e8c6e01ea12f4a80a36942193b33d1c2": {
          "model_module": "@jupyter-widgets/base",
          "model_name": "LayoutModel",
          "state": {
            "_view_name": "LayoutView",
            "grid_template_rows": null,
            "right": null,
            "justify_content": null,
            "_view_module": "@jupyter-widgets/base",
            "overflow": null,
            "_model_module_version": "1.2.0",
            "_view_count": null,
            "flex_flow": null,
            "width": null,
            "min_width": null,
            "border": null,
            "align_items": null,
            "bottom": null,
            "_model_module": "@jupyter-widgets/base",
            "top": null,
            "grid_column": null,
            "overflow_y": null,
            "overflow_x": null,
            "grid_auto_flow": null,
            "grid_area": null,
            "grid_template_columns": null,
            "flex": null,
            "_model_name": "LayoutModel",
            "justify_items": null,
            "grid_row": null,
            "max_height": null,
            "align_content": null,
            "visibility": null,
            "align_self": null,
            "height": null,
            "min_height": null,
            "padding": null,
            "grid_auto_rows": null,
            "grid_gap": null,
            "max_width": null,
            "order": null,
            "_view_module_version": "1.2.0",
            "grid_template_areas": null,
            "object_position": null,
            "object_fit": null,
            "grid_auto_columns": null,
            "margin": null,
            "display": null,
            "left": null
          }
        },
        "98ed5297772b47fe9b9ddff22c976c70": {
          "model_module": "@jupyter-widgets/controls",
          "model_name": "DescriptionStyleModel",
          "state": {
            "_view_name": "StyleView",
            "_model_name": "DescriptionStyleModel",
            "description_width": "",
            "_view_module": "@jupyter-widgets/base",
            "_model_module_version": "1.5.0",
            "_view_count": null,
            "_view_module_version": "1.2.0",
            "_model_module": "@jupyter-widgets/controls"
          }
        },
        "fc3280e0188c4bd2bee2f3ee7987f9d8": {
          "model_module": "@jupyter-widgets/base",
          "model_name": "LayoutModel",
          "state": {
            "_view_name": "LayoutView",
            "grid_template_rows": null,
            "right": null,
            "justify_content": null,
            "_view_module": "@jupyter-widgets/base",
            "overflow": null,
            "_model_module_version": "1.2.0",
            "_view_count": null,
            "flex_flow": null,
            "width": null,
            "min_width": null,
            "border": null,
            "align_items": null,
            "bottom": null,
            "_model_module": "@jupyter-widgets/base",
            "top": null,
            "grid_column": null,
            "overflow_y": null,
            "overflow_x": null,
            "grid_auto_flow": null,
            "grid_area": null,
            "grid_template_columns": null,
            "flex": null,
            "_model_name": "LayoutModel",
            "justify_items": null,
            "grid_row": null,
            "max_height": null,
            "align_content": null,
            "visibility": null,
            "align_self": null,
            "height": null,
            "min_height": null,
            "padding": null,
            "grid_auto_rows": null,
            "grid_gap": null,
            "max_width": null,
            "order": null,
            "_view_module_version": "1.2.0",
            "grid_template_areas": null,
            "object_position": null,
            "object_fit": null,
            "grid_auto_columns": null,
            "margin": null,
            "display": null,
            "left": null
          }
        },
        "ae68783f7bb9404fa6ca0ec92480a233": {
          "model_module": "@jupyter-widgets/controls",
          "model_name": "HBoxModel",
          "state": {
            "_view_name": "HBoxView",
            "_dom_classes": [],
            "_model_name": "HBoxModel",
            "_view_module": "@jupyter-widgets/controls",
            "_model_module_version": "1.5.0",
            "_view_count": null,
            "_view_module_version": "1.5.0",
            "box_style": "",
            "layout": "IPY_MODEL_c011210d47bf4d7bb9a7e0ff9658fbc8",
            "_model_module": "@jupyter-widgets/controls",
            "children": [
              "IPY_MODEL_d3e5000286e74714b56079b1e7673eb2",
              "IPY_MODEL_d403c59dd53c4ccb845a0681f90eb5c4"
            ]
          }
        },
        "c011210d47bf4d7bb9a7e0ff9658fbc8": {
          "model_module": "@jupyter-widgets/base",
          "model_name": "LayoutModel",
          "state": {
            "_view_name": "LayoutView",
            "grid_template_rows": null,
            "right": null,
            "justify_content": null,
            "_view_module": "@jupyter-widgets/base",
            "overflow": null,
            "_model_module_version": "1.2.0",
            "_view_count": null,
            "flex_flow": null,
            "width": null,
            "min_width": null,
            "border": null,
            "align_items": null,
            "bottom": null,
            "_model_module": "@jupyter-widgets/base",
            "top": null,
            "grid_column": null,
            "overflow_y": null,
            "overflow_x": null,
            "grid_auto_flow": null,
            "grid_area": null,
            "grid_template_columns": null,
            "flex": null,
            "_model_name": "LayoutModel",
            "justify_items": null,
            "grid_row": null,
            "max_height": null,
            "align_content": null,
            "visibility": null,
            "align_self": null,
            "height": null,
            "min_height": null,
            "padding": null,
            "grid_auto_rows": null,
            "grid_gap": null,
            "max_width": null,
            "order": null,
            "_view_module_version": "1.2.0",
            "grid_template_areas": null,
            "object_position": null,
            "object_fit": null,
            "grid_auto_columns": null,
            "margin": null,
            "display": null,
            "left": null
          }
        },
        "d3e5000286e74714b56079b1e7673eb2": {
          "model_module": "@jupyter-widgets/controls",
          "model_name": "IntProgressModel",
          "state": {
            "_view_name": "ProgressView",
            "style": "IPY_MODEL_c6f43fbeb19e427e9b48e2f3910d4375",
            "_dom_classes": [],
            "description": "",
            "_model_name": "IntProgressModel",
            "bar_style": "success",
            "max": 1,
            "_view_module": "@jupyter-widgets/controls",
            "_model_module_version": "1.5.0",
            "value": 1,
            "_view_count": null,
            "_view_module_version": "1.5.0",
            "orientation": "horizontal",
            "min": 0,
            "description_tooltip": null,
            "_model_module": "@jupyter-widgets/controls",
            "layout": "IPY_MODEL_f4c72c97d5c04ebf9449759969514e72"
          }
        },
        "d403c59dd53c4ccb845a0681f90eb5c4": {
          "model_module": "@jupyter-widgets/controls",
          "model_name": "HTMLModel",
          "state": {
            "_view_name": "HTMLView",
            "style": "IPY_MODEL_5cb81b1636a84b48931141637b329354",
            "_dom_classes": [],
            "description": "",
            "_model_name": "HTMLModel",
            "placeholder": "​",
            "_view_module": "@jupyter-widgets/controls",
            "_model_module_version": "1.5.0",
            "value": "100% 1/1 [00:00&lt;00:00,  2.00it/s]",
            "_view_count": null,
            "_view_module_version": "1.5.0",
            "description_tooltip": null,
            "_model_module": "@jupyter-widgets/controls",
            "layout": "IPY_MODEL_9a5b6adec8f048d9919d431895041f6b"
          }
        },
        "c6f43fbeb19e427e9b48e2f3910d4375": {
          "model_module": "@jupyter-widgets/controls",
          "model_name": "ProgressStyleModel",
          "state": {
            "_view_name": "StyleView",
            "_model_name": "ProgressStyleModel",
            "description_width": "",
            "_view_module": "@jupyter-widgets/base",
            "_model_module_version": "1.5.0",
            "_view_count": null,
            "_view_module_version": "1.2.0",
            "bar_color": null,
            "_model_module": "@jupyter-widgets/controls"
          }
        },
        "f4c72c97d5c04ebf9449759969514e72": {
          "model_module": "@jupyter-widgets/base",
          "model_name": "LayoutModel",
          "state": {
            "_view_name": "LayoutView",
            "grid_template_rows": null,
            "right": null,
            "justify_content": null,
            "_view_module": "@jupyter-widgets/base",
            "overflow": null,
            "_model_module_version": "1.2.0",
            "_view_count": null,
            "flex_flow": null,
            "width": null,
            "min_width": null,
            "border": null,
            "align_items": null,
            "bottom": null,
            "_model_module": "@jupyter-widgets/base",
            "top": null,
            "grid_column": null,
            "overflow_y": null,
            "overflow_x": null,
            "grid_auto_flow": null,
            "grid_area": null,
            "grid_template_columns": null,
            "flex": null,
            "_model_name": "LayoutModel",
            "justify_items": null,
            "grid_row": null,
            "max_height": null,
            "align_content": null,
            "visibility": null,
            "align_self": null,
            "height": null,
            "min_height": null,
            "padding": null,
            "grid_auto_rows": null,
            "grid_gap": null,
            "max_width": null,
            "order": null,
            "_view_module_version": "1.2.0",
            "grid_template_areas": null,
            "object_position": null,
            "object_fit": null,
            "grid_auto_columns": null,
            "margin": null,
            "display": null,
            "left": null
          }
        },
        "5cb81b1636a84b48931141637b329354": {
          "model_module": "@jupyter-widgets/controls",
          "model_name": "DescriptionStyleModel",
          "state": {
            "_view_name": "StyleView",
            "_model_name": "DescriptionStyleModel",
            "description_width": "",
            "_view_module": "@jupyter-widgets/base",
            "_model_module_version": "1.5.0",
            "_view_count": null,
            "_view_module_version": "1.2.0",
            "_model_module": "@jupyter-widgets/controls"
          }
        },
        "9a5b6adec8f048d9919d431895041f6b": {
          "model_module": "@jupyter-widgets/base",
          "model_name": "LayoutModel",
          "state": {
            "_view_name": "LayoutView",
            "grid_template_rows": null,
            "right": null,
            "justify_content": null,
            "_view_module": "@jupyter-widgets/base",
            "overflow": null,
            "_model_module_version": "1.2.0",
            "_view_count": null,
            "flex_flow": null,
            "width": null,
            "min_width": null,
            "border": null,
            "align_items": null,
            "bottom": null,
            "_model_module": "@jupyter-widgets/base",
            "top": null,
            "grid_column": null,
            "overflow_y": null,
            "overflow_x": null,
            "grid_auto_flow": null,
            "grid_area": null,
            "grid_template_columns": null,
            "flex": null,
            "_model_name": "LayoutModel",
            "justify_items": null,
            "grid_row": null,
            "max_height": null,
            "align_content": null,
            "visibility": null,
            "align_self": null,
            "height": null,
            "min_height": null,
            "padding": null,
            "grid_auto_rows": null,
            "grid_gap": null,
            "max_width": null,
            "order": null,
            "_view_module_version": "1.2.0",
            "grid_template_areas": null,
            "object_position": null,
            "object_fit": null,
            "grid_auto_columns": null,
            "margin": null,
            "display": null,
            "left": null
          }
        },
        "491731165cbe41c3969e4aaeffcdf2bd": {
          "model_module": "@jupyter-widgets/controls",
          "model_name": "HBoxModel",
          "state": {
            "_view_name": "HBoxView",
            "_dom_classes": [],
            "_model_name": "HBoxModel",
            "_view_module": "@jupyter-widgets/controls",
            "_model_module_version": "1.5.0",
            "_view_count": null,
            "_view_module_version": "1.5.0",
            "box_style": "",
            "layout": "IPY_MODEL_308935cb89744c1aabb24dff54f1ceda",
            "_model_module": "@jupyter-widgets/controls",
            "children": [
              "IPY_MODEL_84450fea8e674876b0a75724921a61fd",
              "IPY_MODEL_24dd29e4f0ac4665851a13e1048a5dd3"
            ]
          }
        },
        "308935cb89744c1aabb24dff54f1ceda": {
          "model_module": "@jupyter-widgets/base",
          "model_name": "LayoutModel",
          "state": {
            "_view_name": "LayoutView",
            "grid_template_rows": null,
            "right": null,
            "justify_content": null,
            "_view_module": "@jupyter-widgets/base",
            "overflow": null,
            "_model_module_version": "1.2.0",
            "_view_count": null,
            "flex_flow": null,
            "width": null,
            "min_width": null,
            "border": null,
            "align_items": null,
            "bottom": null,
            "_model_module": "@jupyter-widgets/base",
            "top": null,
            "grid_column": null,
            "overflow_y": null,
            "overflow_x": null,
            "grid_auto_flow": null,
            "grid_area": null,
            "grid_template_columns": null,
            "flex": null,
            "_model_name": "LayoutModel",
            "justify_items": null,
            "grid_row": null,
            "max_height": null,
            "align_content": null,
            "visibility": null,
            "align_self": null,
            "height": null,
            "min_height": null,
            "padding": null,
            "grid_auto_rows": null,
            "grid_gap": null,
            "max_width": null,
            "order": null,
            "_view_module_version": "1.2.0",
            "grid_template_areas": null,
            "object_position": null,
            "object_fit": null,
            "grid_auto_columns": null,
            "margin": null,
            "display": null,
            "left": null
          }
        },
        "84450fea8e674876b0a75724921a61fd": {
          "model_module": "@jupyter-widgets/controls",
          "model_name": "IntProgressModel",
          "state": {
            "_view_name": "ProgressView",
            "style": "IPY_MODEL_81007ba48938464e9eb2ad51cef290aa",
            "_dom_classes": [],
            "description": "",
            "_model_name": "IntProgressModel",
            "bar_style": "success",
            "max": 1,
            "_view_module": "@jupyter-widgets/controls",
            "_model_module_version": "1.5.0",
            "value": 1,
            "_view_count": null,
            "_view_module_version": "1.5.0",
            "orientation": "horizontal",
            "min": 0,
            "description_tooltip": null,
            "_model_module": "@jupyter-widgets/controls",
            "layout": "IPY_MODEL_33f17b31b1b14207b3bccda71e2172d8"
          }
        },
        "24dd29e4f0ac4665851a13e1048a5dd3": {
          "model_module": "@jupyter-widgets/controls",
          "model_name": "HTMLModel",
          "state": {
            "_view_name": "HTMLView",
            "style": "IPY_MODEL_d10171da043f488087bb57e70dd03a6e",
            "_dom_classes": [],
            "description": "",
            "_model_name": "HTMLModel",
            "placeholder": "​",
            "_view_module": "@jupyter-widgets/controls",
            "_model_module_version": "1.5.0",
            "value": "100% 1/1 [00:00&lt;00:00,  1.63it/s]",
            "_view_count": null,
            "_view_module_version": "1.5.0",
            "description_tooltip": null,
            "_model_module": "@jupyter-widgets/controls",
            "layout": "IPY_MODEL_341bad4553984b5e9cae1067a5189627"
          }
        },
        "81007ba48938464e9eb2ad51cef290aa": {
          "model_module": "@jupyter-widgets/controls",
          "model_name": "ProgressStyleModel",
          "state": {
            "_view_name": "StyleView",
            "_model_name": "ProgressStyleModel",
            "description_width": "",
            "_view_module": "@jupyter-widgets/base",
            "_model_module_version": "1.5.0",
            "_view_count": null,
            "_view_module_version": "1.2.0",
            "bar_color": null,
            "_model_module": "@jupyter-widgets/controls"
          }
        },
        "33f17b31b1b14207b3bccda71e2172d8": {
          "model_module": "@jupyter-widgets/base",
          "model_name": "LayoutModel",
          "state": {
            "_view_name": "LayoutView",
            "grid_template_rows": null,
            "right": null,
            "justify_content": null,
            "_view_module": "@jupyter-widgets/base",
            "overflow": null,
            "_model_module_version": "1.2.0",
            "_view_count": null,
            "flex_flow": null,
            "width": null,
            "min_width": null,
            "border": null,
            "align_items": null,
            "bottom": null,
            "_model_module": "@jupyter-widgets/base",
            "top": null,
            "grid_column": null,
            "overflow_y": null,
            "overflow_x": null,
            "grid_auto_flow": null,
            "grid_area": null,
            "grid_template_columns": null,
            "flex": null,
            "_model_name": "LayoutModel",
            "justify_items": null,
            "grid_row": null,
            "max_height": null,
            "align_content": null,
            "visibility": null,
            "align_self": null,
            "height": null,
            "min_height": null,
            "padding": null,
            "grid_auto_rows": null,
            "grid_gap": null,
            "max_width": null,
            "order": null,
            "_view_module_version": "1.2.0",
            "grid_template_areas": null,
            "object_position": null,
            "object_fit": null,
            "grid_auto_columns": null,
            "margin": null,
            "display": null,
            "left": null
          }
        },
        "d10171da043f488087bb57e70dd03a6e": {
          "model_module": "@jupyter-widgets/controls",
          "model_name": "DescriptionStyleModel",
          "state": {
            "_view_name": "StyleView",
            "_model_name": "DescriptionStyleModel",
            "description_width": "",
            "_view_module": "@jupyter-widgets/base",
            "_model_module_version": "1.5.0",
            "_view_count": null,
            "_view_module_version": "1.2.0",
            "_model_module": "@jupyter-widgets/controls"
          }
        },
        "341bad4553984b5e9cae1067a5189627": {
          "model_module": "@jupyter-widgets/base",
          "model_name": "LayoutModel",
          "state": {
            "_view_name": "LayoutView",
            "grid_template_rows": null,
            "right": null,
            "justify_content": null,
            "_view_module": "@jupyter-widgets/base",
            "overflow": null,
            "_model_module_version": "1.2.0",
            "_view_count": null,
            "flex_flow": null,
            "width": null,
            "min_width": null,
            "border": null,
            "align_items": null,
            "bottom": null,
            "_model_module": "@jupyter-widgets/base",
            "top": null,
            "grid_column": null,
            "overflow_y": null,
            "overflow_x": null,
            "grid_auto_flow": null,
            "grid_area": null,
            "grid_template_columns": null,
            "flex": null,
            "_model_name": "LayoutModel",
            "justify_items": null,
            "grid_row": null,
            "max_height": null,
            "align_content": null,
            "visibility": null,
            "align_self": null,
            "height": null,
            "min_height": null,
            "padding": null,
            "grid_auto_rows": null,
            "grid_gap": null,
            "max_width": null,
            "order": null,
            "_view_module_version": "1.2.0",
            "grid_template_areas": null,
            "object_position": null,
            "object_fit": null,
            "grid_auto_columns": null,
            "margin": null,
            "display": null,
            "left": null
          }
        }
      }
    }
  },
  "cells": [
    {
      "cell_type": "markdown",
      "metadata": {
        "id": "view-in-github",
        "colab_type": "text"
      },
      "source": [
        "<a href=\"https://colab.research.google.com/github/ashayustech/K-Anonymity/blob/master/Copy_of_using_transformers_for_classification_.ipynb\" target=\"_parent\"><img src=\"https://colab.research.google.com/assets/colab-badge.svg\" alt=\"Open In Colab\"/></a>"
      ]
    },
    {
      "cell_type": "code",
      "metadata": {
        "id": "8cT9-KDf35OR",
        "colab_type": "code",
        "outputId": "e30987b0-918b-4888-cdf8-3409f93c7d9d",
        "colab": {
          "base_uri": "https://localhost:8080/",
          "height": 694
        }
      },
      "source": [
        "!pip install transformers\n"
      ],
      "execution_count": 4,
      "outputs": [
        {
          "output_type": "stream",
          "text": [
            "Collecting transformers\n",
            "\u001b[?25l  Downloading https://files.pythonhosted.org/packages/13/33/ffb67897a6985a7b7d8e5e7878c3628678f553634bd3836404fef06ef19b/transformers-2.5.1-py3-none-any.whl (499kB)\n",
            "\r\u001b[K     |▋                               | 10kB 14.5MB/s eta 0:00:01\r\u001b[K     |█▎                              | 20kB 1.6MB/s eta 0:00:01\r\u001b[K     |██                              | 30kB 2.3MB/s eta 0:00:01\r\u001b[K     |██▋                             | 40kB 1.6MB/s eta 0:00:01\r\u001b[K     |███▎                            | 51kB 2.0MB/s eta 0:00:01\r\u001b[K     |████                            | 61kB 2.4MB/s eta 0:00:01\r\u001b[K     |████▋                           | 71kB 2.8MB/s eta 0:00:01\r\u001b[K     |█████▎                          | 81kB 3.1MB/s eta 0:00:01\r\u001b[K     |██████                          | 92kB 2.5MB/s eta 0:00:01\r\u001b[K     |██████▋                         | 102kB 2.7MB/s eta 0:00:01\r\u001b[K     |███████▏                        | 112kB 2.7MB/s eta 0:00:01\r\u001b[K     |███████▉                        | 122kB 2.7MB/s eta 0:00:01\r\u001b[K     |████████▌                       | 133kB 2.7MB/s eta 0:00:01\r\u001b[K     |█████████▏                      | 143kB 2.7MB/s eta 0:00:01\r\u001b[K     |█████████▉                      | 153kB 2.7MB/s eta 0:00:01\r\u001b[K     |██████████▌                     | 163kB 2.7MB/s eta 0:00:01\r\u001b[K     |███████████▏                    | 174kB 2.7MB/s eta 0:00:01\r\u001b[K     |███████████▉                    | 184kB 2.7MB/s eta 0:00:01\r\u001b[K     |████████████▌                   | 194kB 2.7MB/s eta 0:00:01\r\u001b[K     |█████████████▏                  | 204kB 2.7MB/s eta 0:00:01\r\u001b[K     |█████████████▉                  | 215kB 2.7MB/s eta 0:00:01\r\u001b[K     |██████████████▍                 | 225kB 2.7MB/s eta 0:00:01\r\u001b[K     |███████████████                 | 235kB 2.7MB/s eta 0:00:01\r\u001b[K     |███████████████▊                | 245kB 2.7MB/s eta 0:00:01\r\u001b[K     |████████████████▍               | 256kB 2.7MB/s eta 0:00:01\r\u001b[K     |█████████████████               | 266kB 2.7MB/s eta 0:00:01\r\u001b[K     |█████████████████▊              | 276kB 2.7MB/s eta 0:00:01\r\u001b[K     |██████████████████▍             | 286kB 2.7MB/s eta 0:00:01\r\u001b[K     |███████████████████             | 296kB 2.7MB/s eta 0:00:01\r\u001b[K     |███████████████████▊            | 307kB 2.7MB/s eta 0:00:01\r\u001b[K     |████████████████████▍           | 317kB 2.7MB/s eta 0:00:01\r\u001b[K     |█████████████████████           | 327kB 2.7MB/s eta 0:00:01\r\u001b[K     |█████████████████████▋          | 337kB 2.7MB/s eta 0:00:01\r\u001b[K     |██████████████████████▎         | 348kB 2.7MB/s eta 0:00:01\r\u001b[K     |███████████████████████         | 358kB 2.7MB/s eta 0:00:01\r\u001b[K     |███████████████████████▋        | 368kB 2.7MB/s eta 0:00:01\r\u001b[K     |████████████████████████▎       | 378kB 2.7MB/s eta 0:00:01\r\u001b[K     |█████████████████████████       | 389kB 2.7MB/s eta 0:00:01\r\u001b[K     |█████████████████████████▋      | 399kB 2.7MB/s eta 0:00:01\r\u001b[K     |██████████████████████████▎     | 409kB 2.7MB/s eta 0:00:01\r\u001b[K     |███████████████████████████     | 419kB 2.7MB/s eta 0:00:01\r\u001b[K     |███████████████████████████▋    | 430kB 2.7MB/s eta 0:00:01\r\u001b[K     |████████████████████████████▏   | 440kB 2.7MB/s eta 0:00:01\r\u001b[K     |████████████████████████████▉   | 450kB 2.7MB/s eta 0:00:01\r\u001b[K     |█████████████████████████████▌  | 460kB 2.7MB/s eta 0:00:01\r\u001b[K     |██████████████████████████████▏ | 471kB 2.7MB/s eta 0:00:01\r\u001b[K     |██████████████████████████████▉ | 481kB 2.7MB/s eta 0:00:01\r\u001b[K     |███████████████████████████████▌| 491kB 2.7MB/s eta 0:00:01\r\u001b[K     |████████████████████████████████| 501kB 2.7MB/s \n",
            "\u001b[?25hRequirement already satisfied: regex!=2019.12.17 in /usr/local/lib/python3.6/dist-packages (from transformers) (2019.12.20)\n",
            "Collecting sacremoses\n",
            "\u001b[?25l  Downloading https://files.pythonhosted.org/packages/a6/b4/7a41d630547a4afd58143597d5a49e07bfd4c42914d8335b2a5657efc14b/sacremoses-0.0.38.tar.gz (860kB)\n",
            "\u001b[K     |████████████████████████████████| 870kB 44.2MB/s \n",
            "\u001b[?25hCollecting sentencepiece\n",
            "\u001b[?25l  Downloading https://files.pythonhosted.org/packages/74/f4/2d5214cbf13d06e7cb2c20d84115ca25b53ea76fa1f0ade0e3c9749de214/sentencepiece-0.1.85-cp36-cp36m-manylinux1_x86_64.whl (1.0MB)\n",
            "\u001b[K     |████████████████████████████████| 1.0MB 47.1MB/s \n",
            "\u001b[?25hRequirement already satisfied: filelock in /usr/local/lib/python3.6/dist-packages (from transformers) (3.0.12)\n",
            "Requirement already satisfied: boto3 in /usr/local/lib/python3.6/dist-packages (from transformers) (1.11.15)\n",
            "Requirement already satisfied: requests in /usr/local/lib/python3.6/dist-packages (from transformers) (2.21.0)\n",
            "Collecting tokenizers==0.5.2\n",
            "\u001b[?25l  Downloading https://files.pythonhosted.org/packages/d1/3f/73c881ea4723e43c1e9acf317cf407fab3a278daab3a69c98dcac511c04f/tokenizers-0.5.2-cp36-cp36m-manylinux1_x86_64.whl (3.7MB)\n",
            "\u001b[K     |████████████████████████████████| 3.7MB 32.0MB/s \n",
            "\u001b[?25hRequirement already satisfied: numpy in /usr/local/lib/python3.6/dist-packages (from transformers) (1.17.5)\n",
            "Requirement already satisfied: tqdm>=4.27 in /usr/local/lib/python3.6/dist-packages (from transformers) (4.28.1)\n",
            "Requirement already satisfied: six in /usr/local/lib/python3.6/dist-packages (from sacremoses->transformers) (1.12.0)\n",
            "Requirement already satisfied: click in /usr/local/lib/python3.6/dist-packages (from sacremoses->transformers) (7.0)\n",
            "Requirement already satisfied: joblib in /usr/local/lib/python3.6/dist-packages (from sacremoses->transformers) (0.14.1)\n",
            "Requirement already satisfied: s3transfer<0.4.0,>=0.3.0 in /usr/local/lib/python3.6/dist-packages (from boto3->transformers) (0.3.3)\n",
            "Requirement already satisfied: botocore<1.15.0,>=1.14.15 in /usr/local/lib/python3.6/dist-packages (from boto3->transformers) (1.14.15)\n",
            "Requirement already satisfied: jmespath<1.0.0,>=0.7.1 in /usr/local/lib/python3.6/dist-packages (from boto3->transformers) (0.9.4)\n",
            "Requirement already satisfied: chardet<3.1.0,>=3.0.2 in /usr/local/lib/python3.6/dist-packages (from requests->transformers) (3.0.4)\n",
            "Requirement already satisfied: certifi>=2017.4.17 in /usr/local/lib/python3.6/dist-packages (from requests->transformers) (2019.11.28)\n",
            "Requirement already satisfied: urllib3<1.25,>=1.21.1 in /usr/local/lib/python3.6/dist-packages (from requests->transformers) (1.24.3)\n",
            "Requirement already satisfied: idna<2.9,>=2.5 in /usr/local/lib/python3.6/dist-packages (from requests->transformers) (2.8)\n",
            "Requirement already satisfied: docutils<0.16,>=0.10 in /usr/local/lib/python3.6/dist-packages (from botocore<1.15.0,>=1.14.15->boto3->transformers) (0.15.2)\n",
            "Requirement already satisfied: python-dateutil<3.0.0,>=2.1 in /usr/local/lib/python3.6/dist-packages (from botocore<1.15.0,>=1.14.15->boto3->transformers) (2.6.1)\n",
            "Building wheels for collected packages: sacremoses\n",
            "  Building wheel for sacremoses (setup.py) ... \u001b[?25l\u001b[?25hdone\n",
            "  Created wheel for sacremoses: filename=sacremoses-0.0.38-cp36-none-any.whl size=884628 sha256=b84af431e637c731bd566bf99b0a5bc5d055632eb050734c936bbc164decd5ca\n",
            "  Stored in directory: /root/.cache/pip/wheels/6d/ec/1a/21b8912e35e02741306f35f66c785f3afe94de754a0eaf1422\n",
            "Successfully built sacremoses\n",
            "Installing collected packages: sacremoses, sentencepiece, tokenizers, transformers\n",
            "Successfully installed sacremoses-0.0.38 sentencepiece-0.1.85 tokenizers-0.5.2 transformers-2.5.1\n"
          ],
          "name": "stdout"
        }
      ]
    },
    {
      "cell_type": "code",
      "metadata": {
        "id": "fvFvBLJV0Dkv",
        "colab_type": "code",
        "colab": {
          "base_uri": "https://localhost:8080/",
          "height": 63
        },
        "outputId": "60146351-fa66-4bb0-9818-50c581d66907"
      },
      "source": [
        "import numpy as np\n",
        "import pandas as pd\n",
        "from sklearn.model_selection import train_test_split\n",
        "from sklearn.linear_model import LogisticRegression\n",
        "from sklearn.model_selection import GridSearchCV\n",
        "from sklearn.model_selection import cross_val_score\n",
        "import torch\n",
        "import transformers as ppb\n",
        "import warnings\n",
        "warnings.filterwarnings('ignore')"
      ],
      "execution_count": 5,
      "outputs": [
        {
          "output_type": "display_data",
          "data": {
            "text/html": [
              "<p style=\"color: red;\">\n",
              "The default version of TensorFlow in Colab will soon switch to TensorFlow 2.x.<br>\n",
              "We recommend you <a href=\"https://www.tensorflow.org/guide/migrate\" target=\"_blank\">upgrade</a> now \n",
              "or ensure your notebook will continue to use TensorFlow 1.x via the <code>%tensorflow_version 1.x</code> magic:\n",
              "<a href=\"https://colab.research.google.com/notebooks/tensorflow_version.ipynb\" target=\"_blank\">more info</a>.</p>\n"
            ],
            "text/plain": [
              "<IPython.core.display.HTML object>"
            ]
          },
          "metadata": {
            "tags": []
          }
        }
      ]
    },
    {
      "cell_type": "markdown",
      "metadata": {
        "id": "zQ-42fh0hjsF",
        "colab_type": "text"
      },
      "source": [
        "## Importing the dataset\n",
        "We'll use pandas to read the dataset and load it into a dataframe."
      ]
    },
    {
      "cell_type": "code",
      "metadata": {
        "id": "RSGX0JhPTWN1",
        "colab_type": "code",
        "outputId": "77079e05-38bc-4511-d469-8e5493c2b63b",
        "colab": {
          "base_uri": "https://localhost:8080/",
          "height": 34
        }
      },
      "source": [
        "ls"
      ],
      "execution_count": 6,
      "outputs": [
        {
          "output_type": "stream",
          "text": [
            "'file3 (1).csv'   \u001b[0m\u001b[01;34msample_data\u001b[0m/\n"
          ],
          "name": "stdout"
        }
      ]
    },
    {
      "cell_type": "code",
      "metadata": {
        "id": "tqQKJ_QDZZRh",
        "colab_type": "code",
        "colab": {}
      },
      "source": [
        "value=1\n",
        "np.random.seed(value)"
      ],
      "execution_count": 0,
      "outputs": []
    },
    {
      "cell_type": "code",
      "metadata": {
        "id": "cyoj29J24hPX",
        "colab_type": "code",
        "colab": {}
      },
      "source": [
        "df = pd.read_csv('file3 (1).csv')"
      ],
      "execution_count": 0,
      "outputs": []
    },
    {
      "cell_type": "code",
      "metadata": {
        "id": "gTM3hOHW4hUY",
        "colab_type": "code",
        "colab": {}
      },
      "source": [
        "df[' Data']=df[' Data'].str.lower()"
      ],
      "execution_count": 0,
      "outputs": []
    },
    {
      "cell_type": "code",
      "metadata": {
        "id": "Lycoab7wWfNU",
        "colab_type": "code",
        "colab": {
          "base_uri": "https://localhost:8080/",
          "height": 197
        },
        "outputId": "94cdbbf2-a78f-4f71-e7ad-53c1d39942ec"
      },
      "source": [
        "df.head()"
      ],
      "execution_count": 10,
      "outputs": [
        {
          "output_type": "execute_result",
          "data": {
            "text/html": [
              "<div>\n",
              "<style scoped>\n",
              "    .dataframe tbody tr th:only-of-type {\n",
              "        vertical-align: middle;\n",
              "    }\n",
              "\n",
              "    .dataframe tbody tr th {\n",
              "        vertical-align: top;\n",
              "    }\n",
              "\n",
              "    .dataframe thead th {\n",
              "        text-align: right;\n",
              "    }\n",
              "</style>\n",
              "<table border=\"1\" class=\"dataframe\">\n",
              "  <thead>\n",
              "    <tr style=\"text-align: right;\">\n",
              "      <th></th>\n",
              "      <th>Data</th>\n",
              "      <th>class</th>\n",
              "    </tr>\n",
              "  </thead>\n",
              "  <tbody>\n",
              "    <tr>\n",
              "      <th>0</th>\n",
              "      <td>joint venture partner</td>\n",
              "      <td>0.0</td>\n",
              "    </tr>\n",
              "    <tr>\n",
              "      <th>1</th>\n",
              "      <td>owner and principal entrepreneur</td>\n",
              "      <td>0.0</td>\n",
              "    </tr>\n",
              "    <tr>\n",
              "      <th>2</th>\n",
              "      <td>avionics and instrumentation engineer</td>\n",
              "      <td>0.0</td>\n",
              "    </tr>\n",
              "    <tr>\n",
              "      <th>3</th>\n",
              "      <td>efren gonzalez</td>\n",
              "      <td>0.0</td>\n",
              "    </tr>\n",
              "    <tr>\n",
              "      <th>4</th>\n",
              "      <td>director of engineering/operations</td>\n",
              "      <td>0.0</td>\n",
              "    </tr>\n",
              "  </tbody>\n",
              "</table>\n",
              "</div>"
            ],
            "text/plain": [
              "                                    Data  class\n",
              "0                  joint venture partner    0.0\n",
              "1       owner and principal entrepreneur    0.0\n",
              "2  avionics and instrumentation engineer    0.0\n",
              "3                         efren gonzalez    0.0\n",
              "4     director of engineering/operations    0.0"
            ]
          },
          "metadata": {
            "tags": []
          },
          "execution_count": 10
        }
      ]
    },
    {
      "cell_type": "code",
      "metadata": {
        "id": "mOo9XdhQZZiT",
        "colab_type": "code",
        "outputId": "60972f79-1a78-4bf3-e011-d493230db702",
        "colab": {
          "base_uri": "https://localhost:8080/",
          "height": 70
        }
      },
      "source": [
        "df.isnull().sum()"
      ],
      "execution_count": 11,
      "outputs": [
        {
          "output_type": "execute_result",
          "data": {
            "text/plain": [
              " Data    2\n",
              "class    3\n",
              "dtype: int64"
            ]
          },
          "metadata": {
            "tags": []
          },
          "execution_count": 11
        }
      ]
    },
    {
      "cell_type": "code",
      "metadata": {
        "id": "t4i8mKiIh88r",
        "colab_type": "code",
        "outputId": "85006e63-01a4-47bf-eb7b-2d244ac0a8f4",
        "colab": {
          "base_uri": "https://localhost:8080/",
          "height": 34
        }
      },
      "source": [
        "df.size"
      ],
      "execution_count": 12,
      "outputs": [
        {
          "output_type": "execute_result",
          "data": {
            "text/plain": [
              "2560"
            ]
          },
          "metadata": {
            "tags": []
          },
          "execution_count": 12
        }
      ]
    },
    {
      "cell_type": "code",
      "metadata": {
        "id": "Z_tQicAwZZlj",
        "colab_type": "code",
        "colab": {}
      },
      "source": [
        "i=[df['class'].isnull()]\n"
      ],
      "execution_count": 0,
      "outputs": []
    },
    {
      "cell_type": "code",
      "metadata": {
        "id": "WkOva-U6hiXs",
        "colab_type": "code",
        "outputId": "f67b67c7-9177-4cc2-8fa7-ce88167fa720",
        "colab": {
          "base_uri": "https://localhost:8080/",
          "height": 34
        }
      },
      "source": [
        "len(i[0])"
      ],
      "execution_count": 14,
      "outputs": [
        {
          "output_type": "execute_result",
          "data": {
            "text/plain": [
              "1280"
            ]
          },
          "metadata": {
            "tags": []
          },
          "execution_count": 14
        }
      ]
    },
    {
      "cell_type": "markdown",
      "metadata": {
        "id": "pGYR2OO1joAf",
        "colab_type": "text"
      },
      "source": [
        "Listing index with nan values\n",
        "Dropping the values "
      ]
    },
    {
      "cell_type": "code",
      "metadata": {
        "id": "MUtuLc7ThB2S",
        "colab_type": "code",
        "outputId": "8cdd598c-8012-4e8d-dabe-2842331dc2ac",
        "colab": {
          "base_uri": "https://localhost:8080/",
          "height": 70
        }
      },
      "source": [
        "for val in range(len(i[0])):\n",
        "  if (i[0][val]==True):\n",
        "    print(val)"
      ],
      "execution_count": 15,
      "outputs": [
        {
          "output_type": "stream",
          "text": [
            "1277\n",
            "1278\n",
            "1279\n"
          ],
          "name": "stdout"
        }
      ]
    },
    {
      "cell_type": "code",
      "metadata": {
        "id": "aaTa8KT6hB4-",
        "colab_type": "code",
        "colab": {}
      },
      "source": [
        "df.dropna(axis=0,inplace=True)\n"
      ],
      "execution_count": 0,
      "outputs": []
    },
    {
      "cell_type": "code",
      "metadata": {
        "id": "uAyZrQMshB7z",
        "colab_type": "code",
        "outputId": "b36eb1ae-86f8-4535-a75a-5ad0a3cd87f5",
        "colab": {
          "base_uri": "https://localhost:8080/",
          "height": 34
        }
      },
      "source": [
        "df.shape"
      ],
      "execution_count": 17,
      "outputs": [
        {
          "output_type": "execute_result",
          "data": {
            "text/plain": [
              "(1277, 2)"
            ]
          },
          "metadata": {
            "tags": []
          },
          "execution_count": 17
        }
      ]
    },
    {
      "cell_type": "markdown",
      "metadata": {
        "id": "Dh9qXYFnkmE3",
        "colab_type": "text"
      },
      "source": [
        "### data is now well formatted for use\n",
        "\n"
      ]
    },
    {
      "cell_type": "code",
      "metadata": {
        "id": "-_9kEeB7hB-A",
        "colab_type": "code",
        "outputId": "4d2a5b8f-e2d6-473c-9fd5-b954db03db65",
        "colab": {
          "base_uri": "https://localhost:8080/",
          "height": 70
        }
      },
      "source": [
        "df.isnull().sum()"
      ],
      "execution_count": 18,
      "outputs": [
        {
          "output_type": "execute_result",
          "data": {
            "text/plain": [
              " Data    0\n",
              "class    0\n",
              "dtype: int64"
            ]
          },
          "metadata": {
            "tags": []
          },
          "execution_count": 18
        }
      ]
    },
    {
      "cell_type": "markdown",
      "metadata": {
        "id": "oovNUsnZk1bC",
        "colab_type": "text"
      },
      "source": [
        "## Listing class wise values out of 402"
      ]
    },
    {
      "cell_type": "code",
      "metadata": {
        "id": "YGdVTip1hCAa",
        "colab_type": "code",
        "outputId": "c9e5948c-49b5-4bb9-d779-13bbb36d4005",
        "colab": {
          "base_uri": "https://localhost:8080/",
          "height": 70
        }
      },
      "source": [
        "df['class'].value_counts()"
      ],
      "execution_count": 60,
      "outputs": [
        {
          "output_type": "execute_result",
          "data": {
            "text/plain": [
              "0.0    830\n",
              "1.0    447\n",
              "Name: class, dtype: int64"
            ]
          },
          "metadata": {
            "tags": []
          },
          "execution_count": 60
        }
      ]
    },
    {
      "cell_type": "markdown",
      "metadata": {
        "id": "-DS24D_dmeE3",
        "colab_type": "text"
      },
      "source": [
        "#### Save for later use\n"
      ]
    },
    {
      "cell_type": "code",
      "metadata": {
        "id": "i0S2f6lhhCCj",
        "colab_type": "code",
        "colab": {}
      },
      "source": [
        "df.to_csv('use.csv')"
      ],
      "execution_count": 0,
      "outputs": []
    },
    {
      "cell_type": "code",
      "metadata": {
        "id": "EmjQngzPhCE7",
        "colab_type": "code",
        "colab": {}
      },
      "source": [
        "file=pd.read_csv('use.csv')"
      ],
      "execution_count": 0,
      "outputs": []
    },
    {
      "cell_type": "markdown",
      "metadata": {
        "id": "xNCxFsTumyNX",
        "colab_type": "text"
      },
      "source": [
        "### Filtered multiple occurences of file but the class is still imbalanced\n",
        "\n",
        "\n",
        "1.   Can't depend on just accuracy\n",
        "2.   May need more data for minority class or use sampling technique\n",
        "\n",
        "\n",
        "\n"
      ]
    },
    {
      "cell_type": "code",
      "metadata": {
        "id": "68XGpLVMhCG-",
        "colab_type": "code",
        "outputId": "202cb431-7a50-47ad-c568-b22506845434",
        "colab": {
          "base_uri": "https://localhost:8080/",
          "height": 70
        }
      },
      "source": [
        "file['class'].value_counts()"
      ],
      "execution_count": 63,
      "outputs": [
        {
          "output_type": "execute_result",
          "data": {
            "text/plain": [
              "0.0    830\n",
              "1.0    447\n",
              "Name: class, dtype: int64"
            ]
          },
          "metadata": {
            "tags": []
          },
          "execution_count": 63
        }
      ]
    },
    {
      "cell_type": "code",
      "metadata": {
        "id": "b3M2eVL9c6Z0",
        "colab_type": "code",
        "colab": {}
      },
      "source": [
        "file=df"
      ],
      "execution_count": 0,
      "outputs": []
    },
    {
      "cell_type": "markdown",
      "metadata": {
        "id": "s5bQ8R-sm8Ie",
        "colab_type": "text"
      },
      "source": [
        ""
      ]
    },
    {
      "cell_type": "markdown",
      "metadata": {
        "id": "8c1ytER-nLqG",
        "colab_type": "text"
      },
      "source": [
        "## Parameters to trust ( *Not Accuracy*)\n",
        "\n",
        "\n",
        "---\n",
        "\n",
        "\n",
        "*   Precision\n",
        "*   Balanced Accuracy\n",
        "\n",
        "*   Recall \n",
        "*   F1 Score\n",
        "\n",
        "\n",
        "\n",
        "\n"
      ]
    },
    {
      "cell_type": "code",
      "metadata": {
        "id": "vqFTljKu__7-",
        "colab_type": "code",
        "colab": {}
      },
      "source": [
        "batch_1=file"
      ],
      "execution_count": 0,
      "outputs": []
    },
    {
      "cell_type": "markdown",
      "metadata": {
        "id": "7_MO08_KiAOb",
        "colab_type": "text"
      },
      "source": [
        "## Loading the Pre-trained BERT model\n"
      ]
    },
    {
      "cell_type": "code",
      "metadata": {
        "id": "q1InADgf5xm2",
        "colab_type": "code",
        "colab": {
          "base_uri": "https://localhost:8080/",
          "height": 166,
          "referenced_widgets": [
            "85f56ec9ca9347bdba3982fd1c79c105",
            "0ce2d0477c3346c896f60cfe572203f6",
            "d4dd84581c2e4c0b819fd36136dfec98",
            "3cf2e736f04441ee92f273bd2590448d",
            "5b758474f103487983d6eaba70b47f86",
            "2a49c2ac30794ba7a2621c032d49d858",
            "fa70880dce23430a8ed4f4286becf84a",
            "d8b82417c96e42ee95e0cbda6094ff7d",
            "49ba1664bcb349e9af8bdcbf74515d06",
            "2b96b9eb40124e14837085fee8913e9b",
            "44faf74976714dc89fb84fc9ffd5db8b",
            "db3bc24d63084779bec1d09729c9cfdf",
            "d643bbdc61704f98b240bad8ed55f22e",
            "a996e3373e854cf69d5a8c4001bc7dff",
            "ac7a2f1bfe724ea28dc76e8da08b77ad",
            "a9d66f71d5214e6183407b2f4eee7176",
            "77f2d223bbfe47e0a055d02e8d5ad0b5",
            "f59a6f608adb4d558d5ac8a803782b9d",
            "ac0d4dbdbdf94e03b6c77297beec0315",
            "29462a49e1e44db18c6b40e7449f154f",
            "1ef71cea36c845729101d6df137306f4",
            "63c24c5a39cd47359c28ea64a79d600b",
            "ba5266d87c3e4e3ea98350f8db17f9a5",
            "14b25b3249764a62b27a5a63984c61bb"
          ]
        },
        "outputId": "4101a418-3a42-4d4a-e4ed-91fdee3a92a1"
      },
      "source": [
        "# For DistilBERT:\n",
        "model_class, tokenizer_class, pretrained_weights = (ppb.DistilBertModel, ppb.DistilBertTokenizer, 'distilbert-base-uncased')\n",
        "\n",
        "## Want BERT instead of distilBERT? Uncomment the following line:\n",
        "#model_class, tokenizer_class, pretrained_weights = (ppb.BertModel, ppb.BertTokenizer, 'bert-base-uncased')\n",
        "\n",
        "# Load pretrained model/tokenizer\n",
        "tokenizer = tokenizer_class.from_pretrained(pretrained_weights)\n",
        "model = model_class.from_pretrained(pretrained_weights)"
      ],
      "execution_count": 21,
      "outputs": [
        {
          "output_type": "display_data",
          "data": {
            "application/vnd.jupyter.widget-view+json": {
              "model_id": "85f56ec9ca9347bdba3982fd1c79c105",
              "version_minor": 0,
              "version_major": 2
            },
            "text/plain": [
              "HBox(children=(IntProgress(value=0, description='Downloading', max=231508, style=ProgressStyle(description_wid…"
            ]
          },
          "metadata": {
            "tags": []
          }
        },
        {
          "output_type": "stream",
          "text": [
            "\n"
          ],
          "name": "stdout"
        },
        {
          "output_type": "display_data",
          "data": {
            "application/vnd.jupyter.widget-view+json": {
              "model_id": "49ba1664bcb349e9af8bdcbf74515d06",
              "version_minor": 0,
              "version_major": 2
            },
            "text/plain": [
              "HBox(children=(IntProgress(value=0, description='Downloading', max=546, style=ProgressStyle(description_width=…"
            ]
          },
          "metadata": {
            "tags": []
          }
        },
        {
          "output_type": "stream",
          "text": [
            "\n"
          ],
          "name": "stdout"
        },
        {
          "output_type": "display_data",
          "data": {
            "application/vnd.jupyter.widget-view+json": {
              "model_id": "77f2d223bbfe47e0a055d02e8d5ad0b5",
              "version_minor": 0,
              "version_major": 2
            },
            "text/plain": [
              "HBox(children=(IntProgress(value=0, description='Downloading', max=267967963, style=ProgressStyle(description_…"
            ]
          },
          "metadata": {
            "tags": []
          }
        },
        {
          "output_type": "stream",
          "text": [
            "\n"
          ],
          "name": "stdout"
        }
      ]
    },
    {
      "cell_type": "code",
      "metadata": {
        "id": "P_uPn-E0oFoo",
        "colab_type": "code",
        "outputId": "b483cc5b-91a9-4742-9e5b-d40a6f74bcbb",
        "colab": {
          "base_uri": "https://localhost:8080/",
          "height": 230
        }
      },
      "source": [
        "file[' Data']"
      ],
      "execution_count": 22,
      "outputs": [
        {
          "output_type": "execute_result",
          "data": {
            "text/plain": [
              "0                       joint venture partner\n",
              "1            owner and principal entrepreneur\n",
              "2       avionics and instrumentation engineer\n",
              "3                              efren gonzalez\n",
              "4          director of engineering/operations\n",
              "                        ...                  \n",
              "1272                              conferences\n",
              "1273                                  others \n",
              "1274                                    other\n",
              "1275                   additional information\n",
              "1276                   additional information\n",
              "Name:  Data, Length: 1277, dtype: object"
            ]
          },
          "metadata": {
            "tags": []
          },
          "execution_count": 22
        }
      ]
    },
    {
      "cell_type": "code",
      "metadata": {
        "id": "Dg82ndBA5xlN",
        "colab_type": "code",
        "colab": {}
      },
      "source": [
        "tokenized = file[' Data'].apply((lambda x: tokenizer.encode(x, add_special_tokens=True)))"
      ],
      "execution_count": 0,
      "outputs": []
    },
    {
      "cell_type": "markdown",
      "metadata": {
        "id": "WcEALfrJoumI",
        "colab_type": "text"
      },
      "source": [
        "\n",
        "\n",
        "*   adds <cls> token\n",
        "\n",
        "*   adds <seq> token\n",
        "*   adds ## for words contained in the sentence\n",
        "\n",
        "\n",
        "\n"
      ]
    },
    {
      "cell_type": "code",
      "metadata": {
        "id": "Qiy_0ZN2YPy9",
        "colab_type": "code",
        "colab": {
          "base_uri": "https://localhost:8080/",
          "height": 230
        },
        "outputId": "617aca5f-afbd-46c6-bd41-c4be202a198d"
      },
      "source": [
        "tokenized"
      ],
      "execution_count": 24,
      "outputs": [
        {
          "output_type": "execute_result",
          "data": {
            "text/plain": [
              "0                           [101, 4101, 6957, 4256, 102]\n",
              "1                    [101, 3954, 1998, 4054, 10670, 102]\n",
              "2       [101, 20704, 3258, 6558, 1998, 16015, 3992, 102]\n",
              "3                   [101, 1041, 19699, 2368, 10121, 102]\n",
              "4               [101, 2472, 1997, 3330, 1013, 3136, 102]\n",
              "                              ...                       \n",
              "1272                                    [101, 9281, 102]\n",
              "1273                                    [101, 2500, 102]\n",
              "1274                                    [101, 2060, 102]\n",
              "1275                              [101, 3176, 2592, 102]\n",
              "1276                              [101, 3176, 2592, 102]\n",
              "Name:  Data, Length: 1277, dtype: object"
            ]
          },
          "metadata": {
            "tags": []
          },
          "execution_count": 24
        }
      ]
    },
    {
      "cell_type": "code",
      "metadata": {
        "id": "URn-DWJt5xhP",
        "colab_type": "code",
        "colab": {}
      },
      "source": [
        "max_len = 0\n",
        "for i in tokenized.values:\n",
        "    if len(i) > max_len:\n",
        "        max_len = len(i)\n",
        "\n",
        "padded = np.array([i + [0]*(max_len-len(i)) for i in tokenized.values])"
      ],
      "execution_count": 0,
      "outputs": []
    },
    {
      "cell_type": "markdown",
      "metadata": {
        "id": "Mdjg306wjjmL",
        "colab_type": "text"
      },
      "source": [
        "Our dataset is now in the `padded` variable, we can view its dimensions below:"
      ]
    },
    {
      "cell_type": "code",
      "metadata": {
        "id": "jdi7uXo95xeq",
        "colab_type": "code",
        "outputId": "1b42ab74-2980-4483-e990-c76412e96ff5",
        "colab": {
          "base_uri": "https://localhost:8080/",
          "height": 34
        }
      },
      "source": [
        "np.array(padded).shape"
      ],
      "execution_count": 26,
      "outputs": [
        {
          "output_type": "execute_result",
          "data": {
            "text/plain": [
              "(1277, 11)"
            ]
          },
          "metadata": {
            "tags": []
          },
          "execution_count": 26
        }
      ]
    },
    {
      "cell_type": "code",
      "metadata": {
        "id": "RQRJyjwypMPr",
        "colab_type": "code",
        "colab": {}
      },
      "source": [
        "view=pd.DataFrame(padded)"
      ],
      "execution_count": 0,
      "outputs": []
    },
    {
      "cell_type": "markdown",
      "metadata": {
        "id": "2I2phKMhpYr1",
        "colab_type": "text"
      },
      "source": [
        "## Padding is done to make all inputs of same size "
      ]
    },
    {
      "cell_type": "code",
      "metadata": {
        "id": "NBIB2oDSpMSA",
        "colab_type": "code",
        "outputId": "242a1830-0600-4986-9084-2f63b9a28c6f",
        "colab": {
          "base_uri": "https://localhost:8080/",
          "height": 347
        }
      },
      "source": [
        "view.tail(10)"
      ],
      "execution_count": 28,
      "outputs": [
        {
          "output_type": "execute_result",
          "data": {
            "text/html": [
              "<div>\n",
              "<style scoped>\n",
              "    .dataframe tbody tr th:only-of-type {\n",
              "        vertical-align: middle;\n",
              "    }\n",
              "\n",
              "    .dataframe tbody tr th {\n",
              "        vertical-align: top;\n",
              "    }\n",
              "\n",
              "    .dataframe thead th {\n",
              "        text-align: right;\n",
              "    }\n",
              "</style>\n",
              "<table border=\"1\" class=\"dataframe\">\n",
              "  <thead>\n",
              "    <tr style=\"text-align: right;\">\n",
              "      <th></th>\n",
              "      <th>0</th>\n",
              "      <th>1</th>\n",
              "      <th>2</th>\n",
              "      <th>3</th>\n",
              "      <th>4</th>\n",
              "      <th>5</th>\n",
              "      <th>6</th>\n",
              "      <th>7</th>\n",
              "      <th>8</th>\n",
              "      <th>9</th>\n",
              "      <th>10</th>\n",
              "    </tr>\n",
              "  </thead>\n",
              "  <tbody>\n",
              "    <tr>\n",
              "      <th>1267</th>\n",
              "      <td>101</td>\n",
              "      <td>10618</td>\n",
              "      <td>102</td>\n",
              "      <td>0</td>\n",
              "      <td>0</td>\n",
              "      <td>0</td>\n",
              "      <td>0</td>\n",
              "      <td>0</td>\n",
              "      <td>0</td>\n",
              "      <td>0</td>\n",
              "      <td>0</td>\n",
              "    </tr>\n",
              "    <tr>\n",
              "      <th>1268</th>\n",
              "      <td>101</td>\n",
              "      <td>6105</td>\n",
              "      <td>1998</td>\n",
              "      <td>10618</td>\n",
              "      <td>2015</td>\n",
              "      <td>102</td>\n",
              "      <td>0</td>\n",
              "      <td>0</td>\n",
              "      <td>0</td>\n",
              "      <td>0</td>\n",
              "      <td>0</td>\n",
              "    </tr>\n",
              "    <tr>\n",
              "      <th>1269</th>\n",
              "      <td>101</td>\n",
              "      <td>4772</td>\n",
              "      <td>102</td>\n",
              "      <td>0</td>\n",
              "      <td>0</td>\n",
              "      <td>0</td>\n",
              "      <td>0</td>\n",
              "      <td>0</td>\n",
              "      <td>0</td>\n",
              "      <td>0</td>\n",
              "      <td>0</td>\n",
              "    </tr>\n",
              "    <tr>\n",
              "      <th>1270</th>\n",
              "      <td>101</td>\n",
              "      <td>4772</td>\n",
              "      <td>102</td>\n",
              "      <td>0</td>\n",
              "      <td>0</td>\n",
              "      <td>0</td>\n",
              "      <td>0</td>\n",
              "      <td>0</td>\n",
              "      <td>0</td>\n",
              "      <td>0</td>\n",
              "      <td>0</td>\n",
              "    </tr>\n",
              "    <tr>\n",
              "      <th>1271</th>\n",
              "      <td>101</td>\n",
              "      <td>3034</td>\n",
              "      <td>102</td>\n",
              "      <td>0</td>\n",
              "      <td>0</td>\n",
              "      <td>0</td>\n",
              "      <td>0</td>\n",
              "      <td>0</td>\n",
              "      <td>0</td>\n",
              "      <td>0</td>\n",
              "      <td>0</td>\n",
              "    </tr>\n",
              "    <tr>\n",
              "      <th>1272</th>\n",
              "      <td>101</td>\n",
              "      <td>9281</td>\n",
              "      <td>102</td>\n",
              "      <td>0</td>\n",
              "      <td>0</td>\n",
              "      <td>0</td>\n",
              "      <td>0</td>\n",
              "      <td>0</td>\n",
              "      <td>0</td>\n",
              "      <td>0</td>\n",
              "      <td>0</td>\n",
              "    </tr>\n",
              "    <tr>\n",
              "      <th>1273</th>\n",
              "      <td>101</td>\n",
              "      <td>2500</td>\n",
              "      <td>102</td>\n",
              "      <td>0</td>\n",
              "      <td>0</td>\n",
              "      <td>0</td>\n",
              "      <td>0</td>\n",
              "      <td>0</td>\n",
              "      <td>0</td>\n",
              "      <td>0</td>\n",
              "      <td>0</td>\n",
              "    </tr>\n",
              "    <tr>\n",
              "      <th>1274</th>\n",
              "      <td>101</td>\n",
              "      <td>2060</td>\n",
              "      <td>102</td>\n",
              "      <td>0</td>\n",
              "      <td>0</td>\n",
              "      <td>0</td>\n",
              "      <td>0</td>\n",
              "      <td>0</td>\n",
              "      <td>0</td>\n",
              "      <td>0</td>\n",
              "      <td>0</td>\n",
              "    </tr>\n",
              "    <tr>\n",
              "      <th>1275</th>\n",
              "      <td>101</td>\n",
              "      <td>3176</td>\n",
              "      <td>2592</td>\n",
              "      <td>102</td>\n",
              "      <td>0</td>\n",
              "      <td>0</td>\n",
              "      <td>0</td>\n",
              "      <td>0</td>\n",
              "      <td>0</td>\n",
              "      <td>0</td>\n",
              "      <td>0</td>\n",
              "    </tr>\n",
              "    <tr>\n",
              "      <th>1276</th>\n",
              "      <td>101</td>\n",
              "      <td>3176</td>\n",
              "      <td>2592</td>\n",
              "      <td>102</td>\n",
              "      <td>0</td>\n",
              "      <td>0</td>\n",
              "      <td>0</td>\n",
              "      <td>0</td>\n",
              "      <td>0</td>\n",
              "      <td>0</td>\n",
              "      <td>0</td>\n",
              "    </tr>\n",
              "  </tbody>\n",
              "</table>\n",
              "</div>"
            ],
            "text/plain": [
              "        0      1     2      3     4    5  6  7  8  9  10\n",
              "1267  101  10618   102      0     0    0  0  0  0  0   0\n",
              "1268  101   6105  1998  10618  2015  102  0  0  0  0   0\n",
              "1269  101   4772   102      0     0    0  0  0  0  0   0\n",
              "1270  101   4772   102      0     0    0  0  0  0  0   0\n",
              "1271  101   3034   102      0     0    0  0  0  0  0   0\n",
              "1272  101   9281   102      0     0    0  0  0  0  0   0\n",
              "1273  101   2500   102      0     0    0  0  0  0  0   0\n",
              "1274  101   2060   102      0     0    0  0  0  0  0   0\n",
              "1275  101   3176  2592    102     0    0  0  0  0  0   0\n",
              "1276  101   3176  2592    102     0    0  0  0  0  0   0"
            ]
          },
          "metadata": {
            "tags": []
          },
          "execution_count": 28
        }
      ]
    },
    {
      "cell_type": "code",
      "metadata": {
        "id": "4K_iGRNa_Ozc",
        "colab_type": "code",
        "outputId": "748f7fc7-a7cf-405b-b0a9-a091340016a7",
        "colab": {
          "base_uri": "https://localhost:8080/",
          "height": 34
        }
      },
      "source": [
        "attention_mask = np.where(padded != 0, 1, 0)\n",
        "attention_mask.shape"
      ],
      "execution_count": 29,
      "outputs": [
        {
          "output_type": "execute_result",
          "data": {
            "text/plain": [
              "(1277, 11)"
            ]
          },
          "metadata": {
            "tags": []
          },
          "execution_count": 29
        }
      ]
    },
    {
      "cell_type": "code",
      "metadata": {
        "id": "8AKHgMQDXxHV",
        "colab_type": "code",
        "colab": {}
      },
      "source": [
        ""
      ],
      "execution_count": 0,
      "outputs": []
    },
    {
      "cell_type": "code",
      "metadata": {
        "id": "39UVjAV56PJz",
        "colab_type": "code",
        "colab": {}
      },
      "source": [
        "input_ids = torch.tensor(padded)  \n",
        "attention_mask = torch.tensor(attention_mask)\n",
        "\n",
        "with torch.no_grad():\n",
        "    last_hidden_states = model(input_ids, attention_mask=attention_mask)"
      ],
      "execution_count": 0,
      "outputs": []
    },
    {
      "cell_type": "code",
      "metadata": {
        "id": "C9t60At16PVs",
        "colab_type": "code",
        "colab": {}
      },
      "source": [
        "features = last_hidden_states[0][:,0,:].numpy()"
      ],
      "execution_count": 0,
      "outputs": []
    },
    {
      "cell_type": "code",
      "metadata": {
        "id": "JD3fX2yh6PTx",
        "colab_type": "code",
        "colab": {}
      },
      "source": [
        "labels = file['class']"
      ],
      "execution_count": 0,
      "outputs": []
    },
    {
      "cell_type": "code",
      "metadata": {
        "id": "7IgdXDFsxWA-",
        "colab_type": "code",
        "colab": {}
      },
      "source": [
        ""
      ],
      "execution_count": 0,
      "outputs": []
    },
    {
      "cell_type": "code",
      "metadata": {
        "id": "ddAqbkoU6PP9",
        "colab_type": "code",
        "colab": {}
      },
      "source": [
        "train_features, test_features, train_labels, test_labels = train_test_split(features, labels)"
      ],
      "execution_count": 0,
      "outputs": []
    },
    {
      "cell_type": "code",
      "metadata": {
        "id": "cyEwr7yYD3Ci",
        "colab_type": "code",
        "outputId": "0d082aa9-461a-4a65-ca11-41519af13eb9",
        "colab": {
          "base_uri": "https://localhost:8080/",
          "height": 52
        }
      },
      "source": [
        " parameters = {'C': np.linspace(0.0001, 100, 20)}\n",
        " grid_search = GridSearchCV(LogisticRegression(), parameters)\n",
        " grid_search.fit(train_features, train_labels)\n",
        "\n",
        " print('best parameters: ', grid_search.best_params_)\n",
        " print('best scrores: ', grid_search.best_score_)"
      ],
      "execution_count": 34,
      "outputs": [
        {
          "output_type": "stream",
          "text": [
            "best parameters:  {'C': 5.263252631578947}\n",
            "best scrores:  0.9289212478184993\n"
          ],
          "name": "stdout"
        }
      ]
    },
    {
      "cell_type": "code",
      "metadata": {
        "id": "gG-EVWx4CzBc",
        "colab_type": "code",
        "outputId": "20902f4b-5dc1-4641-be0e-805531d15e3d",
        "colab": {
          "base_uri": "https://localhost:8080/",
          "height": 105
        }
      },
      "source": [
        "lr_clf = LogisticRegression(C=5.263252631578947)\n",
        "lr_clf.fit(train_features, train_labels)"
      ],
      "execution_count": 36,
      "outputs": [
        {
          "output_type": "execute_result",
          "data": {
            "text/plain": [
              "LogisticRegression(C=5.263252631578947, class_weight=None, dual=False,\n",
              "                   fit_intercept=True, intercept_scaling=1, l1_ratio=None,\n",
              "                   max_iter=100, multi_class='auto', n_jobs=None, penalty='l2',\n",
              "                   random_state=None, solver='lbfgs', tol=0.0001, verbose=0,\n",
              "                   warm_start=False)"
            ]
          },
          "metadata": {
            "tags": []
          },
          "execution_count": 36
        }
      ]
    },
    {
      "cell_type": "code",
      "metadata": {
        "id": "iCoyxRJ7ECTA",
        "colab_type": "code",
        "outputId": "251ed6d5-eb87-4338-df6a-404050c5f930",
        "colab": {
          "base_uri": "https://localhost:8080/",
          "height": 34
        }
      },
      "source": [
        "lr_clf.score(test_features, test_labels)"
      ],
      "execution_count": 37,
      "outputs": [
        {
          "output_type": "execute_result",
          "data": {
            "text/plain": [
              "0.9"
            ]
          },
          "metadata": {
            "tags": []
          },
          "execution_count": 37
        }
      ]
    },
    {
      "cell_type": "code",
      "metadata": {
        "id": "EJQuqV6cnWQu",
        "colab_type": "code",
        "outputId": "46d51d82-71a8-411a-e23b-6c3c11486eb7",
        "colab": {
          "base_uri": "https://localhost:8080/",
          "height": 34
        }
      },
      "source": [
        "len(test_features)"
      ],
      "execution_count": 38,
      "outputs": [
        {
          "output_type": "execute_result",
          "data": {
            "text/plain": [
              "320"
            ]
          },
          "metadata": {
            "tags": []
          },
          "execution_count": 38
        }
      ]
    },
    {
      "cell_type": "code",
      "metadata": {
        "id": "io-beX3ezewr",
        "colab_type": "code",
        "colab": {}
      },
      "source": [
        "y_pred=lr_clf.predict(test_features)"
      ],
      "execution_count": 0,
      "outputs": []
    },
    {
      "cell_type": "code",
      "metadata": {
        "id": "rHHO9poAyppz",
        "colab_type": "code",
        "outputId": "93ca2604-55bc-4479-f7e7-7decc5166e62",
        "colab": {
          "base_uri": "https://localhost:8080/",
          "height": 34
        }
      },
      "source": [
        "len(y_pred)"
      ],
      "execution_count": 40,
      "outputs": [
        {
          "output_type": "execute_result",
          "data": {
            "text/plain": [
              "320"
            ]
          },
          "metadata": {
            "tags": []
          },
          "execution_count": 40
        }
      ]
    },
    {
      "cell_type": "code",
      "metadata": {
        "id": "ZPtjdng3yzy3",
        "colab_type": "code",
        "outputId": "302ca949-100c-42ff-9baf-03a95a1fb90d",
        "colab": {
          "base_uri": "https://localhost:8080/",
          "height": 230
        }
      },
      "source": [
        "test_labels"
      ],
      "execution_count": 41,
      "outputs": [
        {
          "output_type": "execute_result",
          "data": {
            "text/plain": [
              "81      0.0\n",
              "941     1.0\n",
              "1013    1.0\n",
              "1274    1.0\n",
              "169     0.0\n",
              "       ... \n",
              "1211    1.0\n",
              "1213    1.0\n",
              "541     0.0\n",
              "674     0.0\n",
              "819     0.0\n",
              "Name: class, Length: 320, dtype: float64"
            ]
          },
          "metadata": {
            "tags": []
          },
          "execution_count": 41
        }
      ]
    },
    {
      "cell_type": "code",
      "metadata": {
        "id": "ND534Bo_zuLv",
        "colab_type": "code",
        "colab": {}
      },
      "source": [
        "from sklearn.metrics import classification_report as clfr"
      ],
      "execution_count": 0,
      "outputs": []
    },
    {
      "cell_type": "code",
      "metadata": {
        "id": "F41gCiOlz9HE",
        "colab_type": "code",
        "outputId": "ba0683b7-2357-43fa-c745-72ea3b23e1f8",
        "colab": {
          "base_uri": "https://localhost:8080/",
          "height": 176
        }
      },
      "source": [
        "print(clfr(test_labels,y_pred))"
      ],
      "execution_count": 43,
      "outputs": [
        {
          "output_type": "stream",
          "text": [
            "              precision    recall  f1-score   support\n",
            "\n",
            "         0.0       0.92      0.92      0.92       202\n",
            "         1.0       0.86      0.86      0.86       118\n",
            "\n",
            "    accuracy                           0.90       320\n",
            "   macro avg       0.89      0.89      0.89       320\n",
            "weighted avg       0.90      0.90      0.90       320\n",
            "\n"
          ],
          "name": "stdout"
        }
      ]
    },
    {
      "cell_type": "markdown",
      "metadata": {
        "id": "AGCSOtp5Voab",
        "colab_type": "text"
      },
      "source": [
        "# Testing"
      ]
    },
    {
      "cell_type": "code",
      "metadata": {
        "id": "PVjapeRYVY_F",
        "colab_type": "code",
        "colab": {}
      },
      "source": [
        "list=['Renisha Alexender','Objective','Experience','Pegoli Inc']\n"
      ],
      "execution_count": 0,
      "outputs": []
    },
    {
      "cell_type": "code",
      "metadata": {
        "id": "XX5NXZkElgaN",
        "colab_type": "code",
        "colab": {
          "base_uri": "https://localhost:8080/",
          "height": 167
        },
        "outputId": "47b64d1e-c68f-4c4b-e713-36be60f88b24"
      },
      "source": [
        ""
      ],
      "execution_count": 67,
      "outputs": [
        {
          "output_type": "error",
          "ename": "AttributeError",
          "evalue": "ignored",
          "traceback": [
            "\u001b[0;31m---------------------------------------------------------------------------\u001b[0m",
            "\u001b[0;31mAttributeError\u001b[0m                            Traceback (most recent call last)",
            "\u001b[0;32m<ipython-input-67-460da8e708c2>\u001b[0m in \u001b[0;36m<module>\u001b[0;34m()\u001b[0m\n\u001b[0;32m----> 1\u001b[0;31m \u001b[0mlist\u001b[0m\u001b[0;34m.\u001b[0m\u001b[0mlower\u001b[0m\u001b[0;34m\u001b[0m\u001b[0;34m\u001b[0m\u001b[0m\n\u001b[0m",
            "\u001b[0;31mAttributeError\u001b[0m: 'list' object has no attribute 'lower'"
          ]
        }
      ]
    },
    {
      "cell_type": "code",
      "metadata": {
        "id": "ly62EO-yZNCu",
        "colab_type": "code",
        "colab": {}
      },
      "source": [
        "headings=pd.DataFrame(list,columns=['heading'])"
      ],
      "execution_count": 0,
      "outputs": []
    },
    {
      "cell_type": "code",
      "metadata": {
        "id": "yqIzellQZkGK",
        "colab_type": "code",
        "colab": {
          "base_uri": "https://localhost:8080/",
          "height": 167
        },
        "outputId": "fd384f06-38a2-4fe1-987c-2fae5af8b7bb"
      },
      "source": [
        "headings"
      ],
      "execution_count": 46,
      "outputs": [
        {
          "output_type": "execute_result",
          "data": {
            "text/html": [
              "<div>\n",
              "<style scoped>\n",
              "    .dataframe tbody tr th:only-of-type {\n",
              "        vertical-align: middle;\n",
              "    }\n",
              "\n",
              "    .dataframe tbody tr th {\n",
              "        vertical-align: top;\n",
              "    }\n",
              "\n",
              "    .dataframe thead th {\n",
              "        text-align: right;\n",
              "    }\n",
              "</style>\n",
              "<table border=\"1\" class=\"dataframe\">\n",
              "  <thead>\n",
              "    <tr style=\"text-align: right;\">\n",
              "      <th></th>\n",
              "      <th>heading</th>\n",
              "    </tr>\n",
              "  </thead>\n",
              "  <tbody>\n",
              "    <tr>\n",
              "      <th>0</th>\n",
              "      <td>Renisha Alexender</td>\n",
              "    </tr>\n",
              "    <tr>\n",
              "      <th>1</th>\n",
              "      <td>Objective</td>\n",
              "    </tr>\n",
              "    <tr>\n",
              "      <th>2</th>\n",
              "      <td>Experience</td>\n",
              "    </tr>\n",
              "    <tr>\n",
              "      <th>3</th>\n",
              "      <td>Pegoli Inc</td>\n",
              "    </tr>\n",
              "  </tbody>\n",
              "</table>\n",
              "</div>"
            ],
            "text/plain": [
              "             heading\n",
              "0  Renisha Alexender\n",
              "1          Objective\n",
              "2         Experience\n",
              "3         Pegoli Inc"
            ]
          },
          "metadata": {
            "tags": []
          },
          "execution_count": 46
        }
      ]
    },
    {
      "cell_type": "code",
      "metadata": {
        "id": "WixUUAPqZkJj",
        "colab_type": "code",
        "colab": {
          "base_uri": "https://localhost:8080/",
          "height": 34
        },
        "outputId": "ec9ab5e2-af05-4992-81e7-f60a7065cf6a"
      },
      "source": [
        "headings.columns"
      ],
      "execution_count": 47,
      "outputs": [
        {
          "output_type": "execute_result",
          "data": {
            "text/plain": [
              "Index(['heading'], dtype='object')"
            ]
          },
          "metadata": {
            "tags": []
          },
          "execution_count": 47
        }
      ]
    },
    {
      "cell_type": "code",
      "metadata": {
        "id": "TfswLgt1VZH3",
        "colab_type": "code",
        "colab": {}
      },
      "source": [
        "\n",
        "tokenization = headings['heading'].apply((lambda x: tokenizer.encode(x, add_special_tokens=True)))"
      ],
      "execution_count": 0,
      "outputs": []
    },
    {
      "cell_type": "code",
      "metadata": {
        "id": "uJHi4YWBZkOw",
        "colab_type": "code",
        "colab": {}
      },
      "source": [
        "max_len = 0\n",
        "for i in tokenization.values:\n",
        "    if len(i) > max_len:\n",
        "        max_len = len(i)\n",
        "\n",
        "padded = np.array([i + [0]*(max_len-len(i)) for i in tokenization.values])"
      ],
      "execution_count": 0,
      "outputs": []
    },
    {
      "cell_type": "code",
      "metadata": {
        "id": "m_poBJcCZkSu",
        "colab_type": "code",
        "colab": {
          "base_uri": "https://localhost:8080/",
          "height": 34
        },
        "outputId": "91cf2f2e-a534-4651-a1f4-d6995d919df9"
      },
      "source": [
        "attention_mask = np.where(padded != 0, 1, 0)\n",
        "attention_mask.shape"
      ],
      "execution_count": 50,
      "outputs": [
        {
          "output_type": "execute_result",
          "data": {
            "text/plain": [
              "(4, 7)"
            ]
          },
          "metadata": {
            "tags": []
          },
          "execution_count": 50
        }
      ]
    },
    {
      "cell_type": "code",
      "metadata": {
        "id": "8D8rriLuVZOL",
        "colab_type": "code",
        "colab": {}
      },
      "source": [
        "input_ids = torch.tensor(padded)  \n",
        "attention_mask = torch.tensor(attention_mask)\n",
        "\n",
        "with torch.no_grad():\n",
        "    last_hidden_states = model(input_ids, attention_mask=attention_mask)"
      ],
      "execution_count": 0,
      "outputs": []
    },
    {
      "cell_type": "code",
      "metadata": {
        "id": "mpFhXmyFbyGl",
        "colab_type": "code",
        "colab": {}
      },
      "source": [
        "test = last_hidden_states[0][:,0,:].numpy()"
      ],
      "execution_count": 0,
      "outputs": []
    },
    {
      "cell_type": "code",
      "metadata": {
        "id": "UBjJbo8XgrPz",
        "colab_type": "code",
        "colab": {}
      },
      "source": [
        "heading_extracted=[]"
      ],
      "execution_count": 0,
      "outputs": []
    },
    {
      "cell_type": "code",
      "metadata": {
        "id": "1boKoilIkCb5",
        "colab_type": "code",
        "colab": {}
      },
      "source": [
        "predictions=lr_clf.predict(test)\n"
      ],
      "execution_count": 0,
      "outputs": []
    },
    {
      "cell_type": "code",
      "metadata": {
        "id": "IDVA8vkokIe0",
        "colab_type": "code",
        "colab": {
          "base_uri": "https://localhost:8080/",
          "height": 34
        },
        "outputId": "93902cf4-ab11-4046-8b73-a3b3ed9cd5b6"
      },
      "source": [
        "predictions[0]"
      ],
      "execution_count": 58,
      "outputs": [
        {
          "output_type": "execute_result",
          "data": {
            "text/plain": [
              "0.0"
            ]
          },
          "metadata": {
            "tags": []
          },
          "execution_count": 58
        }
      ]
    },
    {
      "cell_type": "code",
      "metadata": {
        "id": "EIcsz953byNF",
        "colab_type": "code",
        "colab": {}
      },
      "source": [
        "for i in range(len(predictions)):\n",
        "  if int(predictions[i])==1:\n",
        "    heading_extracted.append(list[i])"
      ],
      "execution_count": 0,
      "outputs": []
    },
    {
      "cell_type": "code",
      "metadata": {
        "id": "ditzZyRhmg1S",
        "colab_type": "code",
        "colab": {
          "base_uri": "https://localhost:8080/",
          "height": 34
        },
        "outputId": "9060316c-043e-4e5a-c838-4f6abe656fa7"
      },
      "source": [
        "print(list)"
      ],
      "execution_count": 68,
      "outputs": [
        {
          "output_type": "stream",
          "text": [
            "['Renisha Alexender', 'Objective', 'Experience', 'Pegoli Inc']\n"
          ],
          "name": "stdout"
        }
      ]
    },
    {
      "cell_type": "code",
      "metadata": {
        "id": "XxvhJUTkgzm7",
        "colab_type": "code",
        "colab": {
          "base_uri": "https://localhost:8080/",
          "height": 34
        },
        "outputId": "0f4f7035-c061-4dea-a2dc-179f88f70aa2"
      },
      "source": [
        "heading_extracted"
      ],
      "execution_count": 69,
      "outputs": [
        {
          "output_type": "execute_result",
          "data": {
            "text/plain": [
              "['Objective', 'Experience']"
            ]
          },
          "metadata": {
            "tags": []
          },
          "execution_count": 69
        }
      ]
    },
    {
      "cell_type": "code",
      "metadata": {
        "id": "jzw9GLpxbyP4",
        "colab_type": "code",
        "colab": {}
      },
      "source": [
        "def heading_predict(x):\n",
        "  \n",
        "  heading_extracted=[]\n",
        "  headings=pd.DataFrame(x,columns=['heading'])\n",
        "  tokenization = headings['heading'].apply((lambda x: tokenizer.encode(x, add_special_tokens=True)))\n",
        "  max_len = 0\n",
        "  for i in tokenization.values:\n",
        "    if len(i) > max_len:\n",
        "        max_len = len(i)\n",
        "\n",
        "  padded = np.array([i + [0]*(max_len-len(i)) for i in tokenization.values])\n",
        "  attention_mask = np.where(padded != 0, 1, 0)\n",
        "  input_ids = torch.tensor(padded)  \n",
        "  attention_mask = torch.tensor(attention_mask)\n",
        "\n",
        "  with torch.no_grad():\n",
        "      last_hidden_states = model(input_ids, attention_mask=attention_mask)\n",
        "  test = last_hidden_states[0][:,0,:].numpy()  \n",
        "  predictions=lr_clf.predict(test)\n",
        "  for i in range(len(predictions)):\n",
        "    if int(predictions[i])==1:\n",
        "      heading_extracted.append(list[i])\n",
        "  return heading_extracted  \n",
        "\n"
      ],
      "execution_count": 0,
      "outputs": []
    },
    {
      "cell_type": "code",
      "metadata": {
        "colab_type": "code",
        "id": "Reb6nl-vkwBq",
        "colab": {}
      },
      "source": [
        ""
      ],
      "execution_count": 0,
      "outputs": []
    },
    {
      "cell_type": "code",
      "metadata": {
        "id": "yNUW4dcabyS3",
        "colab_type": "code",
        "colab": {
          "base_uri": "https://localhost:8080/",
          "height": 34
        },
        "outputId": "2758f9b9-63ee-4a5d-f96a-f6b00a02000f"
      },
      "source": [
        "heading_predict(list)"
      ],
      "execution_count": 65,
      "outputs": [
        {
          "output_type": "execute_result",
          "data": {
            "text/plain": [
              "['Objective', 'Experience']"
            ]
          },
          "metadata": {
            "tags": []
          },
          "execution_count": 65
        }
      ]
    },
    {
      "cell_type": "code",
      "metadata": {
        "id": "N_UNLcX2byVp",
        "colab_type": "code",
        "colab": {}
      },
      "source": [
        ""
      ],
      "execution_count": 0,
      "outputs": []
    },
    {
      "cell_type": "code",
      "metadata": {
        "id": "1KFUDmFxbyYg",
        "colab_type": "code",
        "colab": {}
      },
      "source": [
        ""
      ],
      "execution_count": 0,
      "outputs": []
    },
    {
      "cell_type": "markdown",
      "metadata": {
        "id": "U2zRI30j0nJx",
        "colab_type": "text"
      },
      "source": [
        "Personal Info  0 <br>\n",
        "Organization   1<br>\n",
        "Education      2<br>\n",
        "Skills         3<br>\n",
        "Others         4\n",
        "\n",
        "\n"
      ]
    },
    {
      "cell_type": "markdown",
      "metadata": {
        "id": "HaEJQnuZ5Z84",
        "colab_type": "text"
      },
      "source": [
        "# Using better classifiers"
      ]
    },
    {
      "cell_type": "code",
      "metadata": {
        "id": "8SxX55qgz4O_",
        "colab_type": "code",
        "outputId": "d03a5068-e86e-46cb-9784-b9d047133eda",
        "colab": {
          "base_uri": "https://localhost:8080/",
          "height": 676
        }
      },
      "source": [
        "!pip install simpletransformers\n",
        "\n"
      ],
      "execution_count": 0,
      "outputs": [
        {
          "output_type": "stream",
          "text": [
            "Requirement already satisfied: simpletransformers in /usr/local/lib/python3.6/dist-packages (0.21.4)\n",
            "Requirement already satisfied: transformers in /usr/local/lib/python3.6/dist-packages (from simpletransformers) (2.5.1)\n",
            "Requirement already satisfied: requests in /usr/local/lib/python3.6/dist-packages (from simpletransformers) (2.21.0)\n",
            "Requirement already satisfied: scikit-learn in /usr/local/lib/python3.6/dist-packages (from simpletransformers) (0.22.1)\n",
            "Requirement already satisfied: pandas in /usr/local/lib/python3.6/dist-packages (from simpletransformers) (0.25.3)\n",
            "Requirement already satisfied: numpy in /usr/local/lib/python3.6/dist-packages (from simpletransformers) (1.17.5)\n",
            "Requirement already satisfied: tqdm in /usr/local/lib/python3.6/dist-packages (from simpletransformers) (4.28.1)\n",
            "Requirement already satisfied: scipy in /usr/local/lib/python3.6/dist-packages (from simpletransformers) (1.4.1)\n",
            "Requirement already satisfied: tensorboardx in /usr/local/lib/python3.6/dist-packages (from simpletransformers) (2.0)\n",
            "Requirement already satisfied: regex in /usr/local/lib/python3.6/dist-packages (from simpletransformers) (2019.12.20)\n",
            "Requirement already satisfied: seqeval in /usr/local/lib/python3.6/dist-packages (from simpletransformers) (0.0.12)\n",
            "Requirement already satisfied: filelock in /usr/local/lib/python3.6/dist-packages (from transformers->simpletransformers) (3.0.12)\n",
            "Requirement already satisfied: sentencepiece in /usr/local/lib/python3.6/dist-packages (from transformers->simpletransformers) (0.1.85)\n",
            "Requirement already satisfied: sacremoses in /usr/local/lib/python3.6/dist-packages (from transformers->simpletransformers) (0.0.38)\n",
            "Requirement already satisfied: boto3 in /usr/local/lib/python3.6/dist-packages (from transformers->simpletransformers) (1.11.15)\n",
            "Requirement already satisfied: tokenizers==0.5.2 in /usr/local/lib/python3.6/dist-packages (from transformers->simpletransformers) (0.5.2)\n",
            "Requirement already satisfied: chardet<3.1.0,>=3.0.2 in /usr/local/lib/python3.6/dist-packages (from requests->simpletransformers) (3.0.4)\n",
            "Requirement already satisfied: urllib3<1.25,>=1.21.1 in /usr/local/lib/python3.6/dist-packages (from requests->simpletransformers) (1.24.3)\n",
            "Requirement already satisfied: idna<2.9,>=2.5 in /usr/local/lib/python3.6/dist-packages (from requests->simpletransformers) (2.8)\n",
            "Requirement already satisfied: certifi>=2017.4.17 in /usr/local/lib/python3.6/dist-packages (from requests->simpletransformers) (2019.11.28)\n",
            "Requirement already satisfied: joblib>=0.11 in /usr/local/lib/python3.6/dist-packages (from scikit-learn->simpletransformers) (0.14.1)\n",
            "Requirement already satisfied: python-dateutil>=2.6.1 in /usr/local/lib/python3.6/dist-packages (from pandas->simpletransformers) (2.6.1)\n",
            "Requirement already satisfied: pytz>=2017.2 in /usr/local/lib/python3.6/dist-packages (from pandas->simpletransformers) (2018.9)\n",
            "Requirement already satisfied: protobuf>=3.8.0 in /usr/local/lib/python3.6/dist-packages (from tensorboardx->simpletransformers) (3.10.0)\n",
            "Requirement already satisfied: six in /usr/local/lib/python3.6/dist-packages (from tensorboardx->simpletransformers) (1.12.0)\n",
            "Requirement already satisfied: Keras>=2.2.4 in /usr/local/lib/python3.6/dist-packages (from seqeval->simpletransformers) (2.2.5)\n",
            "Requirement already satisfied: click in /usr/local/lib/python3.6/dist-packages (from sacremoses->transformers->simpletransformers) (7.0)\n",
            "Requirement already satisfied: jmespath<1.0.0,>=0.7.1 in /usr/local/lib/python3.6/dist-packages (from boto3->transformers->simpletransformers) (0.9.4)\n",
            "Requirement already satisfied: s3transfer<0.4.0,>=0.3.0 in /usr/local/lib/python3.6/dist-packages (from boto3->transformers->simpletransformers) (0.3.3)\n",
            "Requirement already satisfied: botocore<1.15.0,>=1.14.15 in /usr/local/lib/python3.6/dist-packages (from boto3->transformers->simpletransformers) (1.14.15)\n",
            "Requirement already satisfied: setuptools in /usr/local/lib/python3.6/dist-packages (from protobuf>=3.8.0->tensorboardx->simpletransformers) (45.2.0)\n",
            "Requirement already satisfied: keras-applications>=1.0.8 in /usr/local/lib/python3.6/dist-packages (from Keras>=2.2.4->seqeval->simpletransformers) (1.0.8)\n",
            "Requirement already satisfied: h5py in /usr/local/lib/python3.6/dist-packages (from Keras>=2.2.4->seqeval->simpletransformers) (2.8.0)\n",
            "Requirement already satisfied: keras-preprocessing>=1.1.0 in /usr/local/lib/python3.6/dist-packages (from Keras>=2.2.4->seqeval->simpletransformers) (1.1.0)\n",
            "Requirement already satisfied: pyyaml in /usr/local/lib/python3.6/dist-packages (from Keras>=2.2.4->seqeval->simpletransformers) (3.13)\n",
            "Requirement already satisfied: docutils<0.16,>=0.10 in /usr/local/lib/python3.6/dist-packages (from botocore<1.15.0,>=1.14.15->boto3->transformers->simpletransformers) (0.15.2)\n"
          ],
          "name": "stdout"
        }
      ]
    },
    {
      "cell_type": "code",
      "metadata": {
        "id": "cgg6WnU75kSZ",
        "colab_type": "code",
        "colab": {}
      },
      "source": [
        "from simpletransformers.classification import ClassificationModel"
      ],
      "execution_count": 0,
      "outputs": []
    },
    {
      "cell_type": "code",
      "metadata": {
        "id": "vEx9zaSsirk8",
        "colab_type": "code",
        "colab": {}
      },
      "source": [
        "par={'num_train_epochs': 12,'best_model_dir': 'outputs/best_model'}"
      ],
      "execution_count": 0,
      "outputs": []
    },
    {
      "cell_type": "code",
      "metadata": {
        "id": "qJUuWzphUKz9",
        "colab_type": "code",
        "colab": {}
      },
      "source": [
        "from keras.models import load_model"
      ],
      "execution_count": 0,
      "outputs": []
    },
    {
      "cell_type": "code",
      "metadata": {
        "id": "3XiU0vvMUK6b",
        "colab_type": "code",
        "colab": {}
      },
      "source": [
        "from keras.models import Sequential"
      ],
      "execution_count": 0,
      "outputs": []
    },
    {
      "cell_type": "code",
      "metadata": {
        "id": "HQoyCOgo7k8o",
        "colab_type": "code",
        "outputId": "6b012ddc-815a-49a9-a29f-4480913cb384",
        "colab": {
          "base_uri": "https://localhost:8080/",
          "height": 347
        }
      },
      "source": [
        "model = ClassificationModel('bert', 'bert-base-cased', num_labels=2,use_cuda=False)\n",
        "model.train_model(train_df=train,output_dir='/nn/',eval_df=test ) \n",
        "model.save_model('f.h5')\n"
      ],
      "execution_count": 0,
      "outputs": [
        {
          "output_type": "error",
          "ename": "ValueError",
          "evalue": "ignored",
          "traceback": [
            "\u001b[0;31m---------------------------------------------------------------------------\u001b[0m",
            "\u001b[0;31mValueError\u001b[0m                                Traceback (most recent call last)",
            "\u001b[0;32m<ipython-input-206-fc27b964e325>\u001b[0m in \u001b[0;36m<module>\u001b[0;34m()\u001b[0m\n\u001b[1;32m      1\u001b[0m \u001b[0mmodel\u001b[0m \u001b[0;34m=\u001b[0m \u001b[0mClassificationModel\u001b[0m\u001b[0;34m(\u001b[0m\u001b[0;34m'bert'\u001b[0m\u001b[0;34m,\u001b[0m \u001b[0;34m'bert-base-cased'\u001b[0m\u001b[0;34m,\u001b[0m \u001b[0mnum_labels\u001b[0m\u001b[0;34m=\u001b[0m\u001b[0;36m2\u001b[0m\u001b[0;34m,\u001b[0m\u001b[0muse_cuda\u001b[0m\u001b[0;34m=\u001b[0m\u001b[0;32mFalse\u001b[0m\u001b[0;34m)\u001b[0m\u001b[0;34m\u001b[0m\u001b[0;34m\u001b[0m\u001b[0m\n\u001b[0;32m----> 2\u001b[0;31m \u001b[0mmodel\u001b[0m\u001b[0;34m.\u001b[0m\u001b[0mtrain_model\u001b[0m\u001b[0;34m(\u001b[0m\u001b[0mtrain_df\u001b[0m\u001b[0;34m=\u001b[0m\u001b[0mtrain\u001b[0m\u001b[0;34m,\u001b[0m\u001b[0moutput_dir\u001b[0m\u001b[0;34m=\u001b[0m\u001b[0;34m'/nn/'\u001b[0m\u001b[0;34m,\u001b[0m\u001b[0meval_df\u001b[0m\u001b[0;34m=\u001b[0m\u001b[0mtest\u001b[0m \u001b[0;34m)\u001b[0m\u001b[0;34m\u001b[0m\u001b[0;34m\u001b[0m\u001b[0m\n\u001b[0m\u001b[1;32m      3\u001b[0m \u001b[0mmodel\u001b[0m\u001b[0;34m.\u001b[0m\u001b[0msave_model\u001b[0m\u001b[0;34m(\u001b[0m\u001b[0;34m'f.h5'\u001b[0m\u001b[0;34m)\u001b[0m\u001b[0;34m\u001b[0m\u001b[0;34m\u001b[0m\u001b[0m\n",
            "\u001b[0;32m/usr/local/lib/python3.6/dist-packages/simpletransformers/classification/classification_model.py\u001b[0m in \u001b[0;36mtrain_model\u001b[0;34m(self, train_df, multi_label, output_dir, show_running_loss, args, eval_df, verbose, **kwargs)\u001b[0m\n\u001b[1;32m    225\u001b[0m             raise ValueError(\n\u001b[1;32m    226\u001b[0m                 \u001b[0;34m\"Output directory ({}) already exists and is not empty.\"\u001b[0m\u001b[0;34m\u001b[0m\u001b[0;34m\u001b[0m\u001b[0m\n\u001b[0;32m--> 227\u001b[0;31m                 \u001b[0;34m\" Use --overwrite_output_dir to overcome.\"\u001b[0m\u001b[0;34m.\u001b[0m\u001b[0mformat\u001b[0m\u001b[0;34m(\u001b[0m\u001b[0moutput_dir\u001b[0m\u001b[0;34m)\u001b[0m\u001b[0;34m\u001b[0m\u001b[0;34m\u001b[0m\u001b[0m\n\u001b[0m\u001b[1;32m    228\u001b[0m             )\n\u001b[1;32m    229\u001b[0m \u001b[0;34m\u001b[0m\u001b[0m\n",
            "\u001b[0;31mValueError\u001b[0m: Output directory (/nn/) already exists and is not empty. Use --overwrite_output_dir to overcome."
          ]
        }
      ]
    },
    {
      "cell_type": "code",
      "metadata": {
        "id": "z7yln2D0_rWv",
        "colab_type": "code",
        "outputId": "dbe988c0-4d87-4189-9eed-a222ff7acf3f",
        "colab": {
          "base_uri": "https://localhost:8080/",
          "height": 34
        }
      },
      "source": [
        "cd nn"
      ],
      "execution_count": 0,
      "outputs": [
        {
          "output_type": "stream",
          "text": [
            "/content/nn\n"
          ],
          "name": "stdout"
        }
      ]
    },
    {
      "cell_type": "code",
      "metadata": {
        "id": "mv0RNlmX_rZh",
        "colab_type": "code",
        "colab": {}
      },
      "source": [
        "ls"
      ],
      "execution_count": 0,
      "outputs": []
    },
    {
      "cell_type": "code",
      "metadata": {
        "id": "SolnC0ne_rcb",
        "colab_type": "code",
        "colab": {}
      },
      "source": [
        ""
      ],
      "execution_count": 0,
      "outputs": []
    },
    {
      "cell_type": "code",
      "metadata": {
        "id": "vXt_ALIv8gir",
        "colab_type": "code",
        "outputId": "9868fb00-a476-43b3-aecf-e8d50f5f02ee",
        "colab": {
          "base_uri": "https://localhost:8080/",
          "height": 870
        }
      },
      "source": [
        "model.args"
      ],
      "execution_count": 0,
      "outputs": [
        {
          "output_type": "execute_result",
          "data": {
            "text/plain": [
              "{'adam_epsilon': 1e-08,\n",
              " 'best_model_dir': 'outputs/best_model',\n",
              " 'cache_dir': 'cache_dir/',\n",
              " 'do_lower_case': False,\n",
              " 'early_stopping_delta': 0,\n",
              " 'early_stopping_metric': 'eval_loss',\n",
              " 'early_stopping_metric_minimize': True,\n",
              " 'early_stopping_patience': 3,\n",
              " 'encoding': None,\n",
              " 'eval_batch_size': 8,\n",
              " 'evaluate_during_training': False,\n",
              " 'evaluate_during_training_steps': 2000,\n",
              " 'evaluate_during_training_verbose': False,\n",
              " 'fp16': False,\n",
              " 'fp16_opt_level': 'O1',\n",
              " 'gradient_accumulation_steps': 1,\n",
              " 'learning_rate': 4e-05,\n",
              " 'logging_steps': 50,\n",
              " 'manual_seed': None,\n",
              " 'max_grad_norm': 1.0,\n",
              " 'max_seq_length': 128,\n",
              " 'model_name': 'bert-base-cased',\n",
              " 'model_type': 'bert',\n",
              " 'n_gpu': 1,\n",
              " 'no_cache': False,\n",
              " 'num_train_epochs': 1,\n",
              " 'output_dir': 'outputs/',\n",
              " 'overwrite_output_dir': False,\n",
              " 'process_count': 38,\n",
              " 'regression': False,\n",
              " 'reprocess_input_data': True,\n",
              " 'save_eval_checkpoints': True,\n",
              " 'save_model_every_epoch': True,\n",
              " 'save_steps': 2000,\n",
              " 'silent': False,\n",
              " 'sliding_window': False,\n",
              " 'stride': 0.8,\n",
              " 'tensorboard_dir': None,\n",
              " 'tie_value': 1,\n",
              " 'train_batch_size': 8,\n",
              " 'use_cached_eval_features': False,\n",
              " 'use_early_stopping': False,\n",
              " 'use_multiprocessing': True,\n",
              " 'wandb_kwargs': {},\n",
              " 'wandb_project': None,\n",
              " 'warmup_ratio': 0.06,\n",
              " 'warmup_steps': 0,\n",
              " 'weight_decay': 0}"
            ]
          },
          "metadata": {
            "tags": []
          },
          "execution_count": 62
        }
      ]
    },
    {
      "cell_type": "markdown",
      "metadata": {
        "id": "UCoFwLcA9XwX",
        "colab_type": "text"
      },
      "source": [
        "###  Training on 300 lines and to use new lines for predicting thr performance"
      ]
    },
    {
      "cell_type": "code",
      "metadata": {
        "id": "OQKOC4W_-dCv",
        "colab_type": "code",
        "colab": {}
      },
      "source": [
        "# train=pd.read_csv('train.csv')\n",
        "# test=pd.read_csv('test.csv')"
      ],
      "execution_count": 0,
      "outputs": []
    },
    {
      "cell_type": "code",
      "metadata": {
        "id": "Bc17Ync5fqj3",
        "colab_type": "code",
        "colab": {}
      },
      "source": [
        "from sklearn.model_selection import train_test_split"
      ],
      "execution_count": 0,
      "outputs": []
    },
    {
      "cell_type": "code",
      "metadata": {
        "id": "Uaf7S5ulfqnE",
        "colab_type": "code",
        "colab": {}
      },
      "source": [
        "X_train,X_test=train_test_split(df,train_size=.70)"
      ],
      "execution_count": 0,
      "outputs": []
    },
    {
      "cell_type": "code",
      "metadata": {
        "id": "e66C2Z1ufqqX",
        "colab_type": "code",
        "colab": {}
      },
      "source": [
        ""
      ],
      "execution_count": 0,
      "outputs": []
    },
    {
      "cell_type": "code",
      "metadata": {
        "id": "GpbVuGyEgYtt",
        "colab_type": "code",
        "colab": {}
      },
      "source": [
        ""
      ],
      "execution_count": 0,
      "outputs": []
    },
    {
      "cell_type": "code",
      "metadata": {
        "id": "CYdoMpNlgYwr",
        "colab_type": "code",
        "colab": {}
      },
      "source": [
        ""
      ],
      "execution_count": 0,
      "outputs": []
    },
    {
      "cell_type": "code",
      "metadata": {
        "id": "I8MufteUeCeo",
        "colab_type": "code",
        "colab": {}
      },
      "source": [
        "train=X_train\n",
        "test=X_test"
      ],
      "execution_count": 0,
      "outputs": []
    },
    {
      "cell_type": "code",
      "metadata": {
        "id": "1_AuddxTeOBX",
        "colab_type": "code",
        "colab": {}
      },
      "source": [
        "train=pd.DataFrame(train)"
      ],
      "execution_count": 0,
      "outputs": []
    },
    {
      "cell_type": "code",
      "metadata": {
        "id": "TNzxf4UYeujF",
        "colab_type": "code",
        "colab": {}
      },
      "source": [
        "test=pd.DataFrame(test)"
      ],
      "execution_count": 0,
      "outputs": []
    },
    {
      "cell_type": "code",
      "metadata": {
        "id": "SzlRFDdqeumx",
        "colab_type": "code",
        "colab": {}
      },
      "source": [
        ""
      ],
      "execution_count": 0,
      "outputs": []
    },
    {
      "cell_type": "code",
      "metadata": {
        "id": "4ls0Xk4ni9HK",
        "colab_type": "code",
        "outputId": "d0f7e5c8-ebef-4611-b6ac-8828f07b4f75",
        "colab": {
          "base_uri": "https://localhost:8080/",
          "height": 34
        }
      },
      "source": [
        "ls"
      ],
      "execution_count": 0,
      "outputs": [
        {
          "output_type": "stream",
          "text": [
            "'file3 (1).csv'   \u001b[0m\u001b[01;34msample_data\u001b[0m/\n"
          ],
          "name": "stdout"
        }
      ]
    },
    {
      "cell_type": "code",
      "metadata": {
        "id": "77PEsd7UwiIJ",
        "colab_type": "code",
        "colab": {}
      },
      "source": [
        "!mkdir new"
      ],
      "execution_count": 0,
      "outputs": []
    },
    {
      "cell_type": "code",
      "metadata": {
        "id": "yw4OvRo981aq",
        "colab_type": "code",
        "outputId": "7be83d88-cb51-4042-a2e3-c3dc7d39a85b",
        "colab": {
          "base_uri": "https://localhost:8080/",
          "height": 352,
          "referenced_widgets": [
            "fcfc4034bfcf4620a3ee7a29fcce4773",
            "6cfd0c7b938f403f99401c8b58f0df50",
            "895c82e7d9e34c8c866e3a3ef2bca391",
            "2e86ef9139e64497944592173a6e9fe4",
            "9fbd5a8f00b547c9abc489c3dafa25cc",
            "1c6dfbc208e7485697304ad2f6b2f006",
            "2baee9e7b7ab4ddabb96e06913565ff1",
            "eb02372b2384475994a2b2cff49449a6",
            "54bbc50fc7274e07bc9345f7796f2631",
            "b0618552d8de443d8979138e34e95c90",
            "3ae2b4c81d9f4167b79397194eba0a08",
            "fc362e3f08d849ff88edda9d026583f3",
            "a68e3f60a16e41598c91a542c640a1a0",
            "998ad7a353684e9889faac24fa65c192",
            "9d6ab29394ee4f2da5424231d7764f4a",
            "c7e9dd1e559a4a068653a4dce1a0bad6",
            "7051e439713745958a1cc71a7479f1ad",
            "15cadc3a46c3458183ffd80022d28d71",
            "fb58f152570d4891883c367aa6198ff9",
            "35f0a3d352f44040883d204626ef67d9",
            "8c17b5614e80432da96179a3f74fb77e",
            "8b1e68e6c75c4c08953de160743a50f7",
            "08d3c77f1a52477ea9b4d406e440d166",
            "6d9f0f5928944609b07b70e02557ef0b"
          ]
        }
      },
      "source": [
        "model.train_model(train_df=train,output_dir='/new',eval_df=test ) \n",
        "model.save_pretrained('/save')\n"
      ],
      "execution_count": 0,
      "outputs": [
        {
          "output_type": "stream",
          "text": [
            "Converting to features started. Cache is not used.\n"
          ],
          "name": "stdout"
        },
        {
          "output_type": "display_data",
          "data": {
            "application/vnd.jupyter.widget-view+json": {
              "model_id": "fcfc4034bfcf4620a3ee7a29fcce4773",
              "version_minor": 0,
              "version_major": 2
            },
            "text/plain": [
              "HBox(children=(IntProgress(value=0, max=840), HTML(value='')))"
            ]
          },
          "metadata": {
            "tags": []
          }
        },
        {
          "output_type": "stream",
          "text": [
            "\n"
          ],
          "name": "stdout"
        },
        {
          "output_type": "display_data",
          "data": {
            "application/vnd.jupyter.widget-view+json": {
              "model_id": "54bbc50fc7274e07bc9345f7796f2631",
              "version_minor": 0,
              "version_major": 2
            },
            "text/plain": [
              "HBox(children=(IntProgress(value=0, description='Epoch', max=1, style=ProgressStyle(description_width='initial…"
            ]
          },
          "metadata": {
            "tags": []
          }
        },
        {
          "output_type": "display_data",
          "data": {
            "application/vnd.jupyter.widget-view+json": {
              "model_id": "7051e439713745958a1cc71a7479f1ad",
              "version_minor": 0,
              "version_major": 2
            },
            "text/plain": [
              "HBox(children=(IntProgress(value=0, description='Current iteration', max=105, style=ProgressStyle(description_…"
            ]
          },
          "metadata": {
            "tags": []
          }
        },
        {
          "output_type": "stream",
          "text": [
            "Running loss: 0.420863\n",
            "Training of bert model complete. Saved to /new.\n"
          ],
          "name": "stdout"
        },
        {
          "output_type": "error",
          "ename": "AttributeError",
          "evalue": "ignored",
          "traceback": [
            "\u001b[0;31m---------------------------------------------------------------------------\u001b[0m",
            "\u001b[0;31mAttributeError\u001b[0m                            Traceback (most recent call last)",
            "\u001b[0;32m<ipython-input-73-8c97b5c248b6>\u001b[0m in \u001b[0;36m<module>\u001b[0;34m()\u001b[0m\n\u001b[1;32m      1\u001b[0m \u001b[0mmodel\u001b[0m\u001b[0;34m.\u001b[0m\u001b[0mtrain_model\u001b[0m\u001b[0;34m(\u001b[0m\u001b[0mtrain_df\u001b[0m\u001b[0;34m=\u001b[0m\u001b[0mtrain\u001b[0m\u001b[0;34m,\u001b[0m\u001b[0moutput_dir\u001b[0m\u001b[0;34m=\u001b[0m\u001b[0;34m'/new'\u001b[0m\u001b[0;34m,\u001b[0m\u001b[0meval_df\u001b[0m\u001b[0;34m=\u001b[0m\u001b[0mtest\u001b[0m \u001b[0;34m)\u001b[0m\u001b[0;34m\u001b[0m\u001b[0;34m\u001b[0m\u001b[0m\n\u001b[0;32m----> 2\u001b[0;31m \u001b[0mmodel\u001b[0m\u001b[0;34m.\u001b[0m\u001b[0msave_pretrained\u001b[0m\u001b[0;34m(\u001b[0m\u001b[0;34m'/save'\u001b[0m\u001b[0;34m)\u001b[0m\u001b[0;34m\u001b[0m\u001b[0;34m\u001b[0m\u001b[0m\n\u001b[0m",
            "\u001b[0;31mAttributeError\u001b[0m: 'ClassificationModel' object has no attribute 'save_pretrained'"
          ]
        }
      ]
    },
    {
      "cell_type": "code",
      "metadata": {
        "id": "sidmGz4fyQQp",
        "colab_type": "code",
        "outputId": "6551cb18-b691-4ac9-9fa9-1d3df88e6148",
        "colab": {
          "base_uri": "https://localhost:8080/",
          "height": 125
        }
      },
      "source": [
        "from google.colab import drive\n",
        "drive.mount('/content/drive')"
      ],
      "execution_count": 0,
      "outputs": [
        {
          "output_type": "stream",
          "text": [
            "Go to this URL in a browser: https://accounts.google.com/o/oauth2/auth?client_id=947318989803-6bn6qk8qdgf4n4g3pfee6491hc0brc4i.apps.googleusercontent.com&redirect_uri=urn%3aietf%3awg%3aoauth%3a2.0%3aoob&response_type=code&scope=email%20https%3a%2f%2fwww.googleapis.com%2fauth%2fdocs.test%20https%3a%2f%2fwww.googleapis.com%2fauth%2fdrive%20https%3a%2f%2fwww.googleapis.com%2fauth%2fdrive.photos.readonly%20https%3a%2f%2fwww.googleapis.com%2fauth%2fpeopleapi.readonly\n",
            "\n",
            "Enter your authorization code:\n",
            "··········\n",
            "Mounted at /content/drive\n"
          ],
          "name": "stdout"
        }
      ]
    },
    {
      "cell_type": "code",
      "metadata": {
        "id": "u-qxgwl9yR2O",
        "colab_type": "code",
        "colab": {}
      },
      "source": [
        "!mkdir heading_classifier"
      ],
      "execution_count": 0,
      "outputs": []
    },
    {
      "cell_type": "code",
      "metadata": {
        "id": "mYF-vzuHyR5Y",
        "colab_type": "code",
        "outputId": "9293d1c1-bc4e-4206-85de-3aa66a63eee3",
        "colab": {
          "base_uri": "https://localhost:8080/",
          "height": 34
        }
      },
      "source": [
        "cd heading_classifier/"
      ],
      "execution_count": 0,
      "outputs": [
        {
          "output_type": "stream",
          "text": [
            "/content/drive/My Drive/heading_classifier\n"
          ],
          "name": "stdout"
        }
      ]
    },
    {
      "cell_type": "code",
      "metadata": {
        "id": "sOmx5CoS9VS7",
        "colab_type": "code",
        "outputId": "e40778a3-4771-407b-ea91-846eb15dd66e",
        "colab": {
          "base_uri": "https://localhost:8080/",
          "height": 152,
          "referenced_widgets": [
            "07a1ed79ddd14bb1a7c149221726a148",
            "cdd4958127a54ed99d3fbac557be820a",
            "085f4d3777584c9ba022086a256976ec",
            "6557d2756a6d4d0d925c699b7ee9b508",
            "c89d687562434bbbad3528e118e5bedd",
            "ef71751a75ed408ca225e3e21e21b181",
            "a6cb6cb8b2c044b9aa2c91f985dc4394",
            "7fc543a1e14340efa561fbf0d7ac2fdb",
            "7aecf251778446a39c23166dd1cc794b",
            "b0f43d6ba14c4bb3bf47eebbf0c535db",
            "110b6879bf434150beddce82549f29ef",
            "3f7533ac824b415aa966992bfc07f2ad",
            "055386eacf98404d955b63bf66a86845",
            "e106531629d3455d931783339725e4c5",
            "0474e9c12d144183a4015af08a2a4d3a",
            "feae98b68e244f94aa21cba4e1b4c803"
          ]
        }
      },
      "source": [
        "result, model_outputs, wrong_predictions = model.eval_model(test)"
      ],
      "execution_count": 0,
      "outputs": [
        {
          "output_type": "stream",
          "text": [
            "Converting to features started. Cache is not used.\n"
          ],
          "name": "stdout"
        },
        {
          "output_type": "display_data",
          "data": {
            "application/vnd.jupyter.widget-view+json": {
              "model_id": "07a1ed79ddd14bb1a7c149221726a148",
              "version_minor": 0,
              "version_major": 2
            },
            "text/plain": [
              "HBox(children=(IntProgress(value=0, max=360), HTML(value='')))"
            ]
          },
          "metadata": {
            "tags": []
          }
        },
        {
          "output_type": "stream",
          "text": [
            "\n"
          ],
          "name": "stdout"
        },
        {
          "output_type": "display_data",
          "data": {
            "application/vnd.jupyter.widget-view+json": {
              "model_id": "7aecf251778446a39c23166dd1cc794b",
              "version_minor": 0,
              "version_major": 2
            },
            "text/plain": [
              "HBox(children=(IntProgress(value=0, max=45), HTML(value='')))"
            ]
          },
          "metadata": {
            "tags": []
          }
        },
        {
          "output_type": "stream",
          "text": [
            "\n",
            "{'mcc': 0.6867313953952584, 'tp': 103, 'tn': 203, 'fp': 41, 'fn': 13, 'eval_loss': 0.3098130907035536}\n"
          ],
          "name": "stdout"
        }
      ]
    },
    {
      "cell_type": "code",
      "metadata": {
        "id": "L9uOJQs8_-u1",
        "colab_type": "code",
        "outputId": "b96b3c17-df39-4f70-bb7b-1426ad022518",
        "colab": {
          "base_uri": "https://localhost:8080/",
          "height": 123
        }
      },
      "source": [
        "result"
      ],
      "execution_count": 0,
      "outputs": [
        {
          "output_type": "execute_result",
          "data": {
            "text/plain": [
              "{'eval_loss': 0.3098130907035536,\n",
              " 'fn': 13,\n",
              " 'fp': 41,\n",
              " 'mcc': 0.6867313953952584,\n",
              " 'tn': 203,\n",
              " 'tp': 103}"
            ]
          },
          "metadata": {
            "tags": []
          },
          "execution_count": 75
        }
      ]
    },
    {
      "cell_type": "code",
      "metadata": {
        "id": "DrM_KGyyAsUn",
        "colab_type": "code",
        "outputId": "5f581586-0640-4ae2-a228-4402dcc79119",
        "colab": {
          "base_uri": "https://localhost:8080/",
          "height": 1000
        }
      },
      "source": [
        "model_outputs"
      ],
      "execution_count": 0,
      "outputs": [
        {
          "output_type": "execute_result",
          "data": {
            "text/plain": [
              "array([[ 1.95568419e+00, -2.94334531e+00],\n",
              "       [-8.44031394e-01,  1.35725808e+00],\n",
              "       [-8.52615833e-01,  1.06495833e+00],\n",
              "       [-8.84266555e-01,  1.06324506e+00],\n",
              "       [ 2.19324994e+00, -3.01013565e+00],\n",
              "       [-6.80717230e-01,  3.76625359e-01],\n",
              "       [-5.32210529e-01,  1.32551134e-01],\n",
              "       [ 5.67181468e-01, -1.13667071e+00],\n",
              "       [ 1.44636965e+00, -2.31200099e+00],\n",
              "       [ 2.01950026e+00, -2.99885941e+00],\n",
              "       [ 1.68271530e+00, -2.70005989e+00],\n",
              "       [-5.33708096e-01, -2.39178240e-02],\n",
              "       [ 2.16635418e+00, -3.08715820e+00],\n",
              "       [ 1.77049017e+00, -2.80076694e+00],\n",
              "       [ 2.05453753e+00, -2.99608278e+00],\n",
              "       [ 1.42313099e+00, -2.38037133e+00],\n",
              "       [ 1.81092358e+00, -2.72513366e+00],\n",
              "       [ 1.95817935e+00, -2.68549299e+00],\n",
              "       [ 1.96125162e+00, -2.94752693e+00],\n",
              "       [-3.40221137e-01, -1.32514328e-01],\n",
              "       [-9.40237284e-01,  1.23969567e+00],\n",
              "       [-1.10582089e+00,  1.48580945e+00],\n",
              "       [ 1.44792295e+00, -2.41590405e+00],\n",
              "       [ 1.28170490e+00, -2.18530869e+00],\n",
              "       [-6.46966755e-01,  1.05223060e-01],\n",
              "       [ 1.83837581e+00, -2.58381581e+00],\n",
              "       [ 2.18063498e+00, -2.97895551e+00],\n",
              "       [-1.05886841e+00,  1.45321560e+00],\n",
              "       [ 2.16673827e+00, -3.04545927e+00],\n",
              "       [ 2.05419540e+00, -2.97644854e+00],\n",
              "       [ 1.98602438e+00, -2.93527842e+00],\n",
              "       [-1.06435823e+00,  1.39181709e+00],\n",
              "       [-5.20135403e-01, -1.41262412e-02],\n",
              "       [ 1.56825113e+00, -2.27340817e+00],\n",
              "       [-1.01972055e+00,  1.13910270e+00],\n",
              "       [ 1.61339676e+00, -2.73168945e+00],\n",
              "       [ 2.12275124e+00, -3.05844355e+00],\n",
              "       [ 2.01946449e+00, -2.93531704e+00],\n",
              "       [-9.09982920e-01,  9.14071202e-01],\n",
              "       [-6.71556652e-01,  3.13968360e-01],\n",
              "       [ 2.22284198e+00, -3.08549738e+00],\n",
              "       [-9.69936490e-01,  1.41418338e+00],\n",
              "       [ 1.86205435e+00, -2.86093497e+00],\n",
              "       [ 2.05261612e+00, -2.76215148e+00],\n",
              "       [-6.32536292e-01,  1.31973326e-01],\n",
              "       [-7.25829005e-01,  6.91073060e-01],\n",
              "       [ 1.95881057e+00, -2.80217457e+00],\n",
              "       [ 1.94158554e+00, -2.95347500e+00],\n",
              "       [-5.43683946e-01, -4.07649875e-02],\n",
              "       [ 2.05788565e+00, -3.07811809e+00],\n",
              "       [-6.38909936e-01,  2.65654147e-01],\n",
              "       [ 1.36690593e+00, -2.38209867e+00],\n",
              "       [ 2.09343529e+00, -2.90511084e+00],\n",
              "       [-8.86945248e-01,  1.19068241e+00],\n",
              "       [ 2.21018791e+00, -3.00301027e+00],\n",
              "       [-7.73896933e-01,  7.31689394e-01],\n",
              "       [-1.01389861e+00,  1.21977949e+00],\n",
              "       [ 2.19471812e+00, -3.06141639e+00],\n",
              "       [-4.81813550e-01, -1.73984766e-02],\n",
              "       [ 1.75798559e+00, -2.74057555e+00],\n",
              "       [ 2.02516127e+00, -2.96545935e+00],\n",
              "       [ 2.19823194e+00, -2.98761892e+00],\n",
              "       [ 1.70499086e+00, -2.40819383e+00],\n",
              "       [ 1.61608505e+00, -2.35897636e+00],\n",
              "       [-6.39900148e-01,  3.76742542e-01],\n",
              "       [-4.30285186e-01, -4.30013835e-02],\n",
              "       [-1.02254534e+00,  1.42792904e+00],\n",
              "       [-8.52615833e-01,  1.06495833e+00],\n",
              "       [ 2.04982233e+00, -2.97861767e+00],\n",
              "       [-9.54729557e-01,  1.33297014e+00],\n",
              "       [ 2.16245389e+00, -3.01805449e+00],\n",
              "       [ 1.79576576e+00, -2.82824135e+00],\n",
              "       [-9.06347871e-01,  1.23252296e+00],\n",
              "       [ 1.96020114e+00, -2.77820373e+00],\n",
              "       [ 1.90532398e+00, -2.79843616e+00],\n",
              "       [ 1.53568149e+00, -2.48454428e+00],\n",
              "       [ 2.21447039e+00, -3.03050900e+00],\n",
              "       [-1.07377005e+00,  1.55783904e+00],\n",
              "       [-5.71277022e-01,  2.37104297e-01],\n",
              "       [ 2.08540106e+00, -2.94853687e+00],\n",
              "       [ 1.75522184e+00, -2.42508602e+00],\n",
              "       [-4.60870862e-01, -9.34020281e-02],\n",
              "       [ 2.23006964e+00, -3.07691669e+00],\n",
              "       [ 2.03750467e+00, -2.89743614e+00],\n",
              "       [ 1.83932173e+00, -2.85179996e+00],\n",
              "       [ 2.23837376e+00, -3.04691815e+00],\n",
              "       [ 1.62981510e+00, -2.61323452e+00],\n",
              "       [ 2.21253633e+00, -3.04500055e+00],\n",
              "       [ 1.41620255e+00, -2.35401535e+00],\n",
              "       [ 1.59795356e+00, -2.53515697e+00],\n",
              "       [-7.78809547e-01,  7.86427617e-01],\n",
              "       [ 7.56461799e-01, -1.41188884e+00],\n",
              "       [ 1.79864335e+00, -2.76641154e+00],\n",
              "       [-6.84679687e-01,  2.42239952e-01],\n",
              "       [ 1.25699162e+00, -2.05555272e+00],\n",
              "       [-6.39632165e-01,  1.49883986e-01],\n",
              "       [ 1.90318418e+00, -2.90002537e+00],\n",
              "       [-5.33307016e-01,  9.58284736e-02],\n",
              "       [ 1.97581029e+00, -2.81211185e+00],\n",
              "       [-6.60566330e-01,  2.10332215e-01],\n",
              "       [ 1.68916619e+00, -2.71114540e+00],\n",
              "       [ 2.03539705e+00, -3.03478193e+00],\n",
              "       [ 1.36663663e+00, -2.33456492e+00],\n",
              "       [ 2.06096768e+00, -3.04911327e+00],\n",
              "       [ 1.87579966e+00, -2.73795247e+00],\n",
              "       [ 1.90466535e+00, -2.85635710e+00],\n",
              "       [ 1.77938581e+00, -2.84276295e+00],\n",
              "       [ 1.88527906e+00, -2.84155107e+00],\n",
              "       [ 2.08755636e+00, -3.00624681e+00],\n",
              "       [-6.30858898e-01,  1.31158292e-01],\n",
              "       [ 1.76884210e+00, -2.48043156e+00],\n",
              "       [ 1.52011192e+00, -2.60595846e+00],\n",
              "       [ 2.05328798e+00, -2.78569674e+00],\n",
              "       [ 2.21958041e+00, -3.07332277e+00],\n",
              "       [ 1.85184324e+00, -2.84190655e+00],\n",
              "       [-1.03769493e+00,  1.35535336e+00],\n",
              "       [-6.05605543e-01,  5.39423883e-01],\n",
              "       [ 1.65940499e+00, -2.65683651e+00],\n",
              "       [ 1.63753319e+00, -2.49839830e+00],\n",
              "       [ 1.78755832e+00, -2.56593633e+00],\n",
              "       [-6.66476011e-01,  2.49259531e-01],\n",
              "       [ 2.03817272e+00, -2.98347878e+00],\n",
              "       [-2.66211540e-01, -2.53257632e-01],\n",
              "       [ 1.44792271e+00, -2.41590405e+00],\n",
              "       [-1.04072034e+00,  1.35316300e+00],\n",
              "       [-5.93101799e-01,  6.26570582e-02],\n",
              "       [ 1.72071147e+00, -2.54067373e+00],\n",
              "       [ 1.11383355e+00, -1.87469983e+00],\n",
              "       [ 2.06929278e+00, -2.94726753e+00],\n",
              "       [-8.76263916e-01,  7.84598470e-01],\n",
              "       [-9.04710889e-01,  1.28888559e+00],\n",
              "       [-6.92281961e-01,  6.27056539e-01],\n",
              "       [ 1.87034595e+00, -2.77081585e+00],\n",
              "       [-1.02692723e+00,  1.41860712e+00],\n",
              "       [ 1.72375011e+00, -2.76446414e+00],\n",
              "       [ 1.76455224e+00, -2.87209845e+00],\n",
              "       [-9.45533276e-01,  1.41283715e+00],\n",
              "       [ 1.76965773e+00, -2.69941688e+00],\n",
              "       [ 1.43210876e+00, -2.12834668e+00],\n",
              "       [ 1.59744096e+00, -2.61510468e+00],\n",
              "       [ 1.26769376e+00, -2.10592842e+00],\n",
              "       [ 2.18399715e+00, -3.05582595e+00],\n",
              "       [-6.67001009e-01,  2.44112670e-01],\n",
              "       [ 5.41620374e-01, -1.12893605e+00],\n",
              "       [ 2.11337900e+00, -2.94596624e+00],\n",
              "       [ 2.12657189e+00, -2.99895382e+00],\n",
              "       [-6.36098862e-01,  1.86313331e-01],\n",
              "       [-6.85696721e-01,  3.43094438e-01],\n",
              "       [ 2.16882706e+00, -2.97091198e+00],\n",
              "       [ 1.85765743e+00, -2.83149338e+00],\n",
              "       [-4.05543715e-01, -1.77159965e-01],\n",
              "       [-5.78101277e-01,  1.20660126e-01],\n",
              "       [ 1.98558795e+00, -2.84803486e+00],\n",
              "       [ 1.73968172e+00, -2.73962069e+00],\n",
              "       [-6.54913425e-01,  8.43060970e-01],\n",
              "       [-1.05841589e+00,  1.40317893e+00],\n",
              "       [-8.63007784e-01,  9.44044113e-01],\n",
              "       [ 2.18519568e+00, -2.96360683e+00],\n",
              "       [ 2.22047853e+00, -3.05033326e+00],\n",
              "       [-4.22832757e-01, -1.97299838e-01],\n",
              "       [ 2.17886448e+00, -3.08647704e+00],\n",
              "       [-6.69797480e-01,  3.74011070e-01],\n",
              "       [-4.92188573e-01, -2.42617428e-02],\n",
              "       [ 2.15637136e+00, -3.03548670e+00],\n",
              "       [-1.09056318e+00,  1.44337082e+00],\n",
              "       [ 2.28095126e+00, -3.04168701e+00],\n",
              "       [-6.01387143e-01,  2.24607885e-02],\n",
              "       [ 2.02570391e+00, -2.84984207e+00],\n",
              "       [-1.12154341e+00,  1.49552882e+00],\n",
              "       [ 1.70298719e+00, -2.70289230e+00],\n",
              "       [-7.17305422e-01,  4.08903450e-01],\n",
              "       [ 2.06276417e+00, -2.97029781e+00],\n",
              "       [ 1.89700171e-01, -3.85690838e-01],\n",
              "       [ 2.03753638e+00, -2.91027379e+00],\n",
              "       [ 1.54697454e+00, -2.53101182e+00],\n",
              "       [ 2.22812057e-01, -9.28076506e-01],\n",
              "       [ 1.93543744e+00, -2.91040039e+00],\n",
              "       [ 1.77352166e+00, -2.79266810e+00],\n",
              "       [ 1.79523468e+00, -2.66848946e+00],\n",
              "       [ 2.06822777e+00, -3.02943087e+00],\n",
              "       [ 2.14379811e+00, -3.05616331e+00],\n",
              "       [-1.09371829e+00,  1.49120438e+00],\n",
              "       [-5.05986929e-01,  2.24513263e-01],\n",
              "       [-5.22027433e-01, -6.31777644e-02],\n",
              "       [-6.12973094e-01,  1.22102708e-01],\n",
              "       [-6.61659598e-01,  3.04205239e-01],\n",
              "       [-6.69480920e-01,  2.65635669e-01],\n",
              "       [-6.62624478e-01,  3.05000752e-01],\n",
              "       [ 1.54050803e+00, -2.37582064e+00],\n",
              "       [ 2.10632849e+00, -3.03160477e+00],\n",
              "       [ 2.08982182e+00, -2.94420719e+00],\n",
              "       [ 1.81866741e+00, -2.86143827e+00],\n",
              "       [ 1.86413121e+00, -2.82559061e+00],\n",
              "       [ 1.71754956e+00, -2.74454474e+00],\n",
              "       [ 1.85101247e+00, -2.82252693e+00],\n",
              "       [ 1.80447316e+00, -2.86394787e+00],\n",
              "       [-7.40226567e-01,  8.74453783e-01],\n",
              "       [ 2.20053816e+00, -3.10958099e+00],\n",
              "       [ 1.60462165e+00, -2.63527012e+00],\n",
              "       [ 2.16493416e+00, -3.04936576e+00],\n",
              "       [-2.36311376e-01,  1.40943229e-01],\n",
              "       [ 2.14318657e+00, -3.03873825e+00],\n",
              "       [-9.62404490e-01,  1.37538517e+00],\n",
              "       [ 1.32510817e+00, -2.19925165e+00],\n",
              "       [ 1.93906784e+00, -2.70535398e+00],\n",
              "       [ 2.04024982e+00, -2.96027732e+00],\n",
              "       [-6.31600678e-01,  1.78698361e-01],\n",
              "       [-7.37348020e-01,  9.95006561e-01],\n",
              "       [ 2.20771170e+00, -2.98670530e+00],\n",
              "       [-9.88697529e-01,  1.40258050e+00],\n",
              "       [ 2.13297534e+00, -2.91901183e+00],\n",
              "       [ 2.05709648e+00, -3.03463817e+00],\n",
              "       [-5.13797522e-01,  2.39121914e-03],\n",
              "       [ 1.69107056e+00, -2.68275928e+00],\n",
              "       [-9.48017716e-01,  1.16427410e+00],\n",
              "       [ 2.20361280e+00, -3.10598469e+00],\n",
              "       [ 1.85724258e+00, -2.75357771e+00],\n",
              "       [ 1.89172256e+00, -2.79623961e+00],\n",
              "       [-5.81451297e-01,  4.69507575e-01],\n",
              "       [ 2.22941637e+00, -3.01051831e+00],\n",
              "       [-5.85297287e-01,  2.15735793e-01],\n",
              "       [-6.26968563e-01,  1.79881394e-01],\n",
              "       [ 1.94724846e+00, -2.84232521e+00],\n",
              "       [ 2.05763674e+00, -3.02127767e+00],\n",
              "       [ 1.38567364e+00, -2.14340496e+00],\n",
              "       [-8.84266555e-01,  1.06324506e+00],\n",
              "       [-9.95146990e-01,  1.38328743e+00],\n",
              "       [ 2.04679465e+00, -2.89209867e+00],\n",
              "       [ 1.97221780e+00, -2.90369344e+00],\n",
              "       [ 1.98387468e+00, -2.85099602e+00],\n",
              "       [ 1.87862468e+00, -2.89614153e+00],\n",
              "       [ 2.11850595e+00, -3.03626823e+00],\n",
              "       [ 2.11932087e+00, -3.00148916e+00],\n",
              "       [-6.71107352e-01,  3.19403827e-01],\n",
              "       [-7.86564767e-01,  1.00852203e+00],\n",
              "       [ 1.99231195e+00, -2.80818248e+00],\n",
              "       [-6.55546784e-01,  2.95861363e-01],\n",
              "       [ 2.04358149e+00, -3.05458760e+00],\n",
              "       [-9.69146371e-01,  1.31390345e+00],\n",
              "       [-1.01413774e+00,  1.26902640e+00],\n",
              "       [ 1.99314094e+00, -2.91322756e+00],\n",
              "       [-9.40237284e-01,  1.23969567e+00],\n",
              "       [-5.06382957e-02, -2.44977683e-01],\n",
              "       [ 2.05909467e+00, -2.93135858e+00],\n",
              "       [ 1.03891945e+00, -1.80364275e+00],\n",
              "       [ 1.56931639e+00, -2.51235509e+00],\n",
              "       [-4.26172942e-01, -3.96155119e-02],\n",
              "       [-6.06731415e-01,  1.09694153e-01],\n",
              "       [-7.87870884e-01,  7.67672181e-01],\n",
              "       [-3.04341137e-01, -2.79155463e-01],\n",
              "       [ 2.12129498e+00, -2.95871830e+00],\n",
              "       [ 1.45516586e+00, -2.44946051e+00],\n",
              "       [-1.05110478e+00,  1.51234293e+00],\n",
              "       [-3.12665403e-01, -2.26583630e-01],\n",
              "       [ 1.59163678e+00, -2.67602539e+00],\n",
              "       [ 1.86018276e+00, -2.77874231e+00],\n",
              "       [ 1.52396619e+00, -2.67451763e+00],\n",
              "       [ 1.38148355e+00, -1.97250199e+00],\n",
              "       [-3.18253487e-01, -2.94316530e-01],\n",
              "       [ 1.89421129e+00, -2.84172583e+00],\n",
              "       [-1.08497059e+00,  1.51904070e+00],\n",
              "       [-2.25481570e-01, -3.72203857e-01],\n",
              "       [-6.91595435e-01,  1.24667734e-01],\n",
              "       [ 2.20053840e+00, -3.10958076e+00],\n",
              "       [-6.20500386e-01,  1.91779077e-01],\n",
              "       [-6.80429578e-01,  3.16143811e-01],\n",
              "       [ 1.81175661e+00, -2.82608843e+00],\n",
              "       [ 1.92469990e+00, -2.72368097e+00],\n",
              "       [-1.03262889e+00,  1.50667727e+00],\n",
              "       [ 5.37795186e-01, -1.10222340e+00],\n",
              "       [-6.75833821e-01,  3.14893395e-01],\n",
              "       [-9.65706527e-01,  1.33670807e+00],\n",
              "       [-9.81361628e-01,  1.31794739e+00],\n",
              "       [ 2.17820689e-01, -7.57625461e-01],\n",
              "       [-5.65711200e-01,  8.91704559e-02],\n",
              "       [ 2.12822533e+00, -3.02711773e+00],\n",
              "       [-9.14753735e-01,  1.26518357e+00],\n",
              "       [-5.03118157e-01,  6.23792410e-03],\n",
              "       [ 1.93551695e+00, -2.55142903e+00],\n",
              "       [ 2.15002775e+00, -3.02204514e+00],\n",
              "       [ 2.07943487e+00, -2.97815061e+00],\n",
              "       [ 2.13328242e+00, -2.93932486e+00],\n",
              "       [ 2.10864758e+00, -3.07261705e+00],\n",
              "       [ 2.11995769e+00, -2.97462893e+00],\n",
              "       [-5.80784678e-01,  1.25475645e-01],\n",
              "       [-9.85928595e-01,  1.35091352e+00],\n",
              "       [-6.56744540e-01,  3.35608333e-01],\n",
              "       [ 1.34075284e+00, -2.15002060e+00],\n",
              "       [ 2.14126801e+00, -3.04121470e+00],\n",
              "       [ 2.15497565e+00, -2.98039842e+00],\n",
              "       [ 1.90392780e+00, -2.82839489e+00],\n",
              "       [-5.88411331e-01,  1.69158578e-01],\n",
              "       [ 1.87955165e+00, -2.85976744e+00],\n",
              "       [-6.50961757e-01,  1.40161335e-01],\n",
              "       [-5.94882190e-01,  1.36193514e-01],\n",
              "       [-6.76066279e-01,  2.16384441e-01],\n",
              "       [ 2.09989357e+00, -2.94233513e+00],\n",
              "       [ 1.40153205e+00, -2.22056794e+00],\n",
              "       [-6.72591865e-01,  4.37485725e-01],\n",
              "       [ 1.78793228e+00, -2.68202114e+00],\n",
              "       [-6.51972234e-01,  1.75417095e-01],\n",
              "       [-5.82840562e-01,  4.00283933e-02],\n",
              "       [ 1.25599575e+00, -1.88731134e+00],\n",
              "       [-6.92763805e-01,  3.30694199e-01],\n",
              "       [ 1.75367594e+00, -2.75426817e+00],\n",
              "       [ 1.99653244e+00, -2.87177372e+00],\n",
              "       [ 2.08991814e+00, -2.93772697e+00],\n",
              "       [ 3.16660017e-01, -1.01639271e+00],\n",
              "       [ 2.14965987e+00, -2.97750163e+00],\n",
              "       [-6.83351994e-01,  3.98303628e-01],\n",
              "       [-6.27599061e-01,  3.34037662e-01],\n",
              "       [-3.23670745e-01, -2.58705407e-01],\n",
              "       [ 1.66738594e+00, -2.66174698e+00],\n",
              "       [-1.04505038e+00,  1.51583481e+00],\n",
              "       [ 2.10843229e+00, -2.85415602e+00],\n",
              "       [-5.63197494e-01,  3.48406196e-01],\n",
              "       [ 1.60885191e+00, -2.53562069e+00],\n",
              "       [-9.07610595e-01,  1.23330343e+00],\n",
              "       [-6.81188524e-01,  2.57778883e-01],\n",
              "       [ 1.91821539e+00, -2.84906054e+00],\n",
              "       [-8.40189219e-01,  1.06317580e+00],\n",
              "       [-5.25713027e-01, -1.65358186e-03],\n",
              "       [-6.03974342e-01,  1.36577934e-01],\n",
              "       [ 1.73641300e+00, -2.77378154e+00],\n",
              "       [ 1.68647337e+00, -2.62766075e+00],\n",
              "       [ 2.20081091e+00, -3.08623624e+00],\n",
              "       [ 1.92692614e+00, -2.71054363e+00],\n",
              "       [ 1.73664778e-01, -5.88052511e-01],\n",
              "       [ 1.84498334e+00, -2.89574933e+00],\n",
              "       [ 1.61447978e+00, -2.62207508e+00],\n",
              "       [ 1.44079924e+00, -2.12121582e+00],\n",
              "       [ 2.10365295e+00, -3.01818943e+00],\n",
              "       [-6.64319575e-01,  1.88049018e-01],\n",
              "       [-1.07778549e+00,  1.33036554e+00],\n",
              "       [-5.05986929e-01,  2.24513263e-01],\n",
              "       [ 2.18353796e+00, -3.09035540e+00],\n",
              "       [-6.82432055e-01,  3.14233482e-01],\n",
              "       [ 5.33601522e-01, -1.23379397e+00],\n",
              "       [ 1.98151815e+00, -2.87779403e+00],\n",
              "       [-8.20375323e-01,  9.19784904e-01],\n",
              "       [-4.98455882e-01,  1.05491579e-02],\n",
              "       [ 1.78793228e+00, -2.68202114e+00],\n",
              "       [ 1.76156712e+00, -2.73623228e+00],\n",
              "       [ 1.57317913e+00, -2.54964495e+00],\n",
              "       [ 2.12532425e+00, -3.03902149e+00],\n",
              "       [-1.66809708e-01, -4.84836459e-01],\n",
              "       [ 1.60266626e+00, -2.52410078e+00],\n",
              "       [ 2.17054415e+00, -3.08328867e+00],\n",
              "       [ 1.54562318e+00, -2.60328364e+00],\n",
              "       [-7.67279685e-01,  1.03592038e+00],\n",
              "       [-1.06816268e+00,  1.50551224e+00],\n",
              "       [-5.70170820e-01,  7.89890885e-02],\n",
              "       [-2.10665613e-01, -4.05057073e-01],\n",
              "       [-6.36066139e-01,  1.96464658e-01],\n",
              "       [-1.04014838e+00,  1.40331686e+00],\n",
              "       [ 2.17173433e+00, -2.99054813e+00],\n",
              "       [-6.52646065e-01,  2.58700252e-01],\n",
              "       [-9.70477462e-01,  1.00508738e+00],\n",
              "       [ 1.71325827e+00, -2.24731708e+00],\n",
              "       [ 1.63178611e+00, -2.53923512e+00]], dtype=float32)"
            ]
          },
          "metadata": {
            "tags": []
          },
          "execution_count": 76
        }
      ]
    },
    {
      "cell_type": "markdown",
      "metadata": {
        "id": "3mvfiG43A7FC",
        "colab_type": "text"
      },
      "source": [
        "There are total 25 wrong predictions"
      ]
    },
    {
      "cell_type": "code",
      "metadata": {
        "id": "rwsMPnEkAu3-",
        "colab_type": "code",
        "outputId": "b602f0c9-7851-480f-f696-6291433f5701",
        "colab": {
          "base_uri": "https://localhost:8080/",
          "height": 34
        }
      },
      "source": [
        "len(wrong_predictions)"
      ],
      "execution_count": 0,
      "outputs": [
        {
          "output_type": "execute_result",
          "data": {
            "text/plain": [
              "54"
            ]
          },
          "metadata": {
            "tags": []
          },
          "execution_count": 77
        }
      ]
    },
    {
      "cell_type": "code",
      "metadata": {
        "id": "G0XnUf-mA0G-",
        "colab_type": "code",
        "outputId": "ed50b2b6-b777-4564-87c6-837085cac75b",
        "colab": {
          "base_uri": "https://localhost:8080/",
          "height": 34
        }
      },
      "source": [
        "test.shape"
      ],
      "execution_count": 0,
      "outputs": [
        {
          "output_type": "execute_result",
          "data": {
            "text/plain": [
              "(360, 2)"
            ]
          },
          "metadata": {
            "tags": []
          },
          "execution_count": 78
        }
      ]
    },
    {
      "cell_type": "code",
      "metadata": {
        "id": "RY5NAwv_BAf-",
        "colab_type": "code",
        "colab": {}
      },
      "source": [
        "from sklearn.metrics import f1_score, accuracy_score\n",
        "def f1_multiclass(labels, preds):\n",
        "    return f1_score(labels, preds, average='micro')"
      ],
      "execution_count": 0,
      "outputs": []
    },
    {
      "cell_type": "code",
      "metadata": {
        "id": "Hy7oxdZmBUag",
        "colab_type": "code",
        "outputId": "6c307e4f-9852-4abb-8fe3-e0a5b04fe83b",
        "colab": {
          "base_uri": "https://localhost:8080/",
          "height": 116,
          "referenced_widgets": [
            "b8747b18efaf474f9c562fdf42001c14",
            "359f8db07bca4161b2c4e13407d92c36",
            "61eac01d1ecd43fe98ee1ecee043aeca",
            "7eb283eb67ee4694b0dd2bef4b7dc604",
            "4ba350f22da44a21943b156d9a7fb503",
            "38cc4e1fe00946409bcfc337c048038c",
            "27c6e672ecc840c18ebec1330a2a61c5",
            "bdd9e445623b40c18bccee7f82884ad1",
            "bc69204ca933411c9968fa810f50c982",
            "ce2d8b53f4c1458eb51b7b2b7d37df45",
            "d6d364a364114fed8c89f6fabcfe644f",
            "81d896dcb7b54e5bb9941811295c40fb",
            "dc90abb346134a1c9f64860490e60d1a",
            "f4c374ff39934832bd168740d82074ef",
            "cfb14da77b8e496b9763daa2536ad576",
            "e7b3f1f85230473488c79788ee5f51b1"
          ]
        }
      },
      "source": [
        "\n",
        "scores2, model_outputs, wrong_predictions = model.eval_model(test, f1=f1_multiclass, acc=accuracy_score)"
      ],
      "execution_count": 0,
      "outputs": [
        {
          "output_type": "stream",
          "text": [
            "Converting to features started. Cache is not used.\n"
          ],
          "name": "stdout"
        },
        {
          "output_type": "display_data",
          "data": {
            "application/vnd.jupyter.widget-view+json": {
              "model_id": "b8747b18efaf474f9c562fdf42001c14",
              "version_minor": 0,
              "version_major": 2
            },
            "text/plain": [
              "HBox(children=(IntProgress(value=0, max=360), HTML(value='')))"
            ]
          },
          "metadata": {
            "tags": []
          }
        },
        {
          "output_type": "display_data",
          "data": {
            "application/vnd.jupyter.widget-view+json": {
              "model_id": "bc69204ca933411c9968fa810f50c982",
              "version_minor": 0,
              "version_major": 2
            },
            "text/plain": [
              "HBox(children=(IntProgress(value=0, max=45), HTML(value='')))"
            ]
          },
          "metadata": {
            "tags": []
          }
        },
        {
          "output_type": "stream",
          "text": [
            "{'mcc': 0.6867313953952584, 'tp': 103, 'tn': 203, 'fp': 41, 'fn': 13, 'eval_loss': 0.3098130907035536, 'f1': 0.85, 'acc': 0.85}\n"
          ],
          "name": "stdout"
        }
      ]
    },
    {
      "cell_type": "code",
      "metadata": {
        "id": "-s0Rn3rpxoKr",
        "colab_type": "code",
        "outputId": "2e665dde-8f91-428f-8bbd-aee0534453ce",
        "colab": {
          "base_uri": "https://localhost:8080/",
          "height": 34
        }
      },
      "source": [
        "heading"
      ],
      "execution_count": 0,
      "outputs": [
        {
          "output_type": "execute_result",
          "data": {
            "text/plain": [
              "245"
            ]
          },
          "metadata": {
            "tags": []
          },
          "execution_count": 103
        }
      ]
    },
    {
      "cell_type": "code",
      "metadata": {
        "id": "qREtcJJBsL4J",
        "colab_type": "code",
        "outputId": "edd50292-7833-4b51-fd2d-10debb710776",
        "colab": {
          "base_uri": "https://localhost:8080/",
          "height": 98,
          "referenced_widgets": [
            "c233c85312b94be7b593a47fbd7c5584",
            "4de471663296407e82ef03f5153471b8",
            "d4078b019bc94fdf8d058f1543593e54",
            "4b91ae75d8a64112b6a7a93b835aa4b9",
            "c0e4cceb14e24e15bd8c09c74f499f58",
            "c299f147668243af9ff64227062717ad",
            "8cf1b7ca75074d8a8baaa6f987fe1865",
            "842a6fcc58694191b1d5ac9ac0dbff16",
            "70aa4ce014c74be98ae9135323935404",
            "4fee9f8798c2491588d84cc4cd84c079",
            "324533b3d44e4e21b114da90cf5d71bd",
            "8413d60fc8114fd2bbefb4e824a7d645",
            "a667518819a74dca916520fba0cd80fe",
            "739583279d0a43e194ab0d7e85c588ae",
            "248c3a9ccf334e1381ec5aaa1ae127d8",
            "ff42a03ef4874c7eac0a9463e1fa4645"
          ]
        }
      },
      "source": [
        "validate=model.predict(heading)"
      ],
      "execution_count": 0,
      "outputs": [
        {
          "output_type": "stream",
          "text": [
            "Converting to features started. Cache is not used.\n"
          ],
          "name": "stdout"
        },
        {
          "output_type": "display_data",
          "data": {
            "application/vnd.jupyter.widget-view+json": {
              "model_id": "c233c85312b94be7b593a47fbd7c5584",
              "version_minor": 0,
              "version_major": 2
            },
            "text/plain": [
              "HBox(children=(IntProgress(value=0, max=245), HTML(value='')))"
            ]
          },
          "metadata": {
            "tags": []
          }
        },
        {
          "output_type": "display_data",
          "data": {
            "application/vnd.jupyter.widget-view+json": {
              "model_id": "70aa4ce014c74be98ae9135323935404",
              "version_minor": 0,
              "version_major": 2
            },
            "text/plain": [
              "HBox(children=(IntProgress(value=0, max=31), HTML(value='')))"
            ]
          },
          "metadata": {
            "tags": []
          }
        }
      ]
    },
    {
      "cell_type": "code",
      "metadata": {
        "id": "Be0T2xyGw5ss",
        "colab_type": "code",
        "colab": {}
      },
      "source": [
        "index=[]\n",
        "for i in range(len(validate[0])):\n",
        "  if validate[0][i]==0:\n",
        "    index.append(i)work history\n"
      ],
      "execution_count": 0,
      "outputs": []
    },
    {
      "cell_type": "code",
      "metadata": {
        "id": "Zd4Gk7j52lTd",
        "colab_type": "code",
        "outputId": "ab2210b1-cadb-495e-a0e9-82e15d47c9f3",
        "colab": {
          "base_uri": "https://localhost:8080/",
          "height": 132
        }
      },
      "source": [
        ""
      ],
      "execution_count": 0,
      "outputs": [
        {
          "output_type": "error",
          "ename": "SyntaxError",
          "evalue": "ignored",
          "traceback": [
            "\u001b[0;36m  File \u001b[0;32m\"<ipython-input-148-20940b19140c>\"\u001b[0;36m, line \u001b[0;32m1\u001b[0m\n\u001b[0;31m    for 'References' in heading:\u001b[0m\n\u001b[0m       ^\u001b[0m\n\u001b[0;31mSyntaxError\u001b[0m\u001b[0;31m:\u001b[0m can't assign to literal\n"
          ]
        }
      ]
    },
    {
      "cell_type": "code",
      "metadata": {
        "id": "seRP4MreyzT2",
        "colab_type": "code",
        "outputId": "56676001-dfaa-4bca-eb58-2dd8e88bd69e",
        "colab": {
          "base_uri": "https://localhost:8080/",
          "height": 34
        }
      },
      "source": [
        "len(index)"
      ],
      "execution_count": 0,
      "outputs": [
        {
          "output_type": "execute_result",
          "data": {
            "text/plain": [
              "45"
            ]
          },
          "metadata": {
            "tags": []
          },
          "execution_count": 119
        }
      ]
    },
    {
      "cell_type": "code",
      "metadata": {
        "id": "A5GBn73ezlCs",
        "colab_type": "code",
        "outputId": "268b4f91-b237-4a43-8028-08f51c9a11d1",
        "colab": {
          "base_uri": "https://localhost:8080/",
          "height": 34
        }
      },
      "source": [
        "heading[15]"
      ],
      "execution_count": 0,
      "outputs": [
        {
          "output_type": "execute_result",
          "data": {
            "text/plain": [
              "'position'"
            ]
          },
          "metadata": {
            "tags": []
          },
          "execution_count": 125
        }
      ]
    },
    {
      "cell_type": "code",
      "metadata": {
        "id": "T4uM3wl-zesD",
        "colab_type": "code",
        "outputId": "b519724f-8443-487c-dece-67c056a0879c",
        "colab": {
          "base_uri": "https://localhost:8080/",
          "height": 816
        }
      },
      "source": [
        "index"
      ],
      "execution_count": 0,
      "outputs": [
        {
          "output_type": "execute_result",
          "data": {
            "text/plain": [
              "[0,\n",
              " 15,\n",
              " 20,\n",
              " 22,\n",
              " 29,\n",
              " 31,\n",
              " 39,\n",
              " 43,\n",
              " 44,\n",
              " 48,\n",
              " 66,\n",
              " 73,\n",
              " 84,\n",
              " 85,\n",
              " 86,\n",
              " 88,\n",
              " 94,\n",
              " 95,\n",
              " 103,\n",
              " 104,\n",
              " 105,\n",
              " 107,\n",
              " 116,\n",
              " 131,\n",
              " 134,\n",
              " 141,\n",
              " 142,\n",
              " 143,\n",
              " 146,\n",
              " 148,\n",
              " 155,\n",
              " 163,\n",
              " 166,\n",
              " 174,\n",
              " 178,\n",
              " 189,\n",
              " 190,\n",
              " 193,\n",
              " 194,\n",
              " 195,\n",
              " 198,\n",
              " 201,\n",
              " 221,\n",
              " 225,\n",
              " 243]"
            ]
          },
          "metadata": {
            "tags": []
          },
          "execution_count": 120
        }
      ]
    },
    {
      "cell_type": "code",
      "metadata": {
        "id": "VugCKIugyzWV",
        "colab_type": "code",
        "colab": {}
      },
      "source": [
        "wrong=[]\n",
        "for val in index:\n",
        "  wrong.append(heading[val])"
      ],
      "execution_count": 0,
      "outputs": []
    },
    {
      "cell_type": "code",
      "metadata": {
        "id": "oyrVikjayzZC",
        "colab_type": "code",
        "outputId": "e24a09a1-d8a3-4b7e-a9d9-c4033920d996",
        "colab": {
          "base_uri": "https://localhost:8080/",
          "height": 816
        }
      },
      "source": [
        "wrong"
      ],
      "execution_count": 0,
      "outputs": [
        {
          "output_type": "execute_result",
          "data": {
            "text/plain": [
              "['Educated',\n",
              " 'position',\n",
              " 'personal profile',\n",
              " 'Competency Matrix',\n",
              " 'professional development',\n",
              " 'objective',\n",
              " 'academic',\n",
              " 'certificates',\n",
              " 'project annexure',\n",
              " 'organisational experiance',\n",
              " 'conference',\n",
              " 'project overview',\n",
              " 'achievement',\n",
              " 'professional career',\n",
              " 'career track',\n",
              " 'contact details',\n",
              " 'organisational scan',\n",
              " 'educated',\n",
              " 'work history',\n",
              " 'Academic',\n",
              " 'technical summary',\n",
              " 'projects history',\n",
              " 'employment history',\n",
              " 'Professional Development',\n",
              " 'certification',\n",
              " 'credentials',\n",
              " 'Technical Skill',\n",
              " 'Publication',\n",
              " 'employment',\n",
              " 'Skill Set',\n",
              " 'army courses',\n",
              " 'introduction',\n",
              " 'Organisational Scan',\n",
              " 'competency matrix',\n",
              " 'publication',\n",
              " 'license and certifications',\n",
              " 'professional summary',\n",
              " 'Introduction',\n",
              " 'profile summary',\n",
              " 'Organisational Experiance',\n",
              " 'professional profile',\n",
              " 'Project Annexure',\n",
              " 'ACADEMIC',\n",
              " 'Conference',\n",
              " 'CERTIFICATES']"
            ]
          },
          "metadata": {
            "tags": []
          },
          "execution_count": 132
        }
      ]
    },
    {
      "cell_type": "code",
      "metadata": {
        "id": "FIEjhoCYyzbv",
        "colab_type": "code",
        "colab": {}
      },
      "source": [
        ""
      ],
      "execution_count": 0,
      "outputs": []
    },
    {
      "cell_type": "code",
      "metadata": {
        "id": "kyMEQJuPyzeq",
        "colab_type": "code",
        "colab": {}
      },
      "source": [
        ""
      ],
      "execution_count": 0,
      "outputs": []
    },
    {
      "cell_type": "code",
      "metadata": {
        "id": "F-6Zs8IBBZEw",
        "colab_type": "code",
        "outputId": "db1a9791-48cc-4a85-806e-98f6bfbca70b",
        "colab": {
          "base_uri": "https://localhost:8080/",
          "height": 98,
          "referenced_widgets": [
            "fa80c7b5399747b4b4ee5b136d34a507",
            "34b340971c29438cb05c6e6b17ddc9cb",
            "7aa0242d6e47401ba8acda072218970c",
            "909b0d7736554f86a4ab42fe8a4a931f",
            "9562ce3fa883491a9f6c9c2817494306",
            "309f0b4338dc44e783436c7a59bd4b6e",
            "b975357429e541018dfe458292ffbd57",
            "d9ae5637ac804a898e9b1fafec96104b",
            "02dfd73a94744d1d878df26c2dafe15c",
            "dde2a38a79654aaf858f2e02e3905b0c",
            "6ed66a20949442acbcb76dacab4aeae0",
            "6ed64c552da54a1d8a7d89ac59984582",
            "5b11d2ea0158453eb2a23461f36e0ce6",
            "9808ae3426f94bd0b850a53be7e38de8",
            "572464c57ea043bc96723efc8dbd2b42",
            "b29689f9597c4c798957644241370f35"
          ]
        }
      },
      "source": [
        "predictions, raw_output  = model.predict(['skill'])"
      ],
      "execution_count": 0,
      "outputs": [
        {
          "output_type": "stream",
          "text": [
            "Converting to features started. Cache is not used.\n"
          ],
          "name": "stdout"
        },
        {
          "output_type": "display_data",
          "data": {
            "application/vnd.jupyter.widget-view+json": {
              "model_id": "fa80c7b5399747b4b4ee5b136d34a507",
              "version_minor": 0,
              "version_major": 2
            },
            "text/plain": [
              "HBox(children=(IntProgress(value=0, max=1), HTML(value='')))"
            ]
          },
          "metadata": {
            "tags": []
          }
        },
        {
          "output_type": "display_data",
          "data": {
            "application/vnd.jupyter.widget-view+json": {
              "model_id": "02dfd73a94744d1d878df26c2dafe15c",
              "version_minor": 0,
              "version_major": 2
            },
            "text/plain": [
              "HBox(children=(IntProgress(value=0, max=1), HTML(value='')))"
            ]
          },
          "metadata": {
            "tags": []
          }
        }
      ]
    },
    {
      "cell_type": "code",
      "metadata": {
        "id": "1W3KmaQOB261",
        "colab_type": "code",
        "outputId": "8d75cf7c-0cfc-42ea-f634-98d4c54e0bbc",
        "colab": {
          "base_uri": "https://localhost:8080/",
          "height": 34
        }
      },
      "source": [
        "predictions"
      ],
      "execution_count": 0,
      "outputs": [
        {
          "output_type": "execute_result",
          "data": {
            "text/plain": [
              "array([1])"
            ]
          },
          "metadata": {
            "tags": []
          },
          "execution_count": 150
        }
      ]
    },
    {
      "cell_type": "code",
      "metadata": {
        "id": "7wFpzmNVB63F",
        "colab_type": "code",
        "outputId": "f5da2e61-25cb-48a5-9477-8afe2ff7dfa2",
        "colab": {
          "base_uri": "https://localhost:8080/",
          "height": 34
        }
      },
      "source": [
        "raw_output"
      ],
      "execution_count": 0,
      "outputs": [
        {
          "output_type": "execute_result",
          "data": {
            "text/plain": [
              "array([[-0.7209952 ,  0.62882924]], dtype=float32)"
            ]
          },
          "metadata": {
            "tags": []
          },
          "execution_count": 151
        }
      ]
    },
    {
      "cell_type": "code",
      "metadata": {
        "id": "We0GQdUVCH98",
        "colab_type": "code",
        "outputId": "590a33b0-d33a-401e-f96b-7da467684f9d",
        "colab": {
          "base_uri": "https://localhost:8080/",
          "height": 85,
          "referenced_widgets": [
            "4fc0e12e140e4194869abac60465276b",
            "10e4313ae3634ba386677dd7d99a2db0",
            "ddfda92398fe4091b54e9945d215f2ab",
            "49c134de660a41f18cc0ad3afcf39c14",
            "5700daa5ea074a3d82d6e26a77d60a67",
            "e8c6e01ea12f4a80a36942193b33d1c2",
            "98ed5297772b47fe9b9ddff22c976c70",
            "fc3280e0188c4bd2bee2f3ee7987f9d8"
          ]
        }
      },
      "source": [
        "pred,raw=model.predict(['Post Graduate Diploma in Management(Systems & Marketing), New Horizon College, Bangalore, KA in 2011'])"
      ],
      "execution_count": 0,
      "outputs": [
        {
          "output_type": "stream",
          "text": [
            "Features loaded from cache at cache_dir/cached_dev_bert_128_5_1\n"
          ],
          "name": "stdout"
        },
        {
          "output_type": "display_data",
          "data": {
            "application/vnd.jupyter.widget-view+json": {
              "model_id": "4fc0e12e140e4194869abac60465276b",
              "version_minor": 0,
              "version_major": 2
            },
            "text/plain": [
              "HBox(children=(IntProgress(value=0, max=1), HTML(value='')))"
            ]
          },
          "metadata": {
            "tags": []
          }
        },
        {
          "output_type": "stream",
          "text": [
            "\n"
          ],
          "name": "stdout"
        }
      ]
    },
    {
      "cell_type": "code",
      "metadata": {
        "id": "fFv1CdRDCgpO",
        "colab_type": "code",
        "outputId": "6bcbc65e-a246-49c0-bdad-9d04dd2704ea",
        "colab": {
          "base_uri": "https://localhost:8080/",
          "height": 35
        }
      },
      "source": [
        "pred"
      ],
      "execution_count": 0,
      "outputs": [
        {
          "output_type": "execute_result",
          "data": {
            "text/plain": [
              "array([4])"
            ]
          },
          "metadata": {
            "tags": []
          },
          "execution_count": 151
        }
      ]
    },
    {
      "cell_type": "code",
      "metadata": {
        "id": "XaxIna3dCjjZ",
        "colab_type": "code",
        "outputId": "3a92d61c-5f71-4be3-ca59-7b553a2ba982",
        "colab": {
          "base_uri": "https://localhost:8080/",
          "height": 54
        }
      },
      "source": [
        "raw"
      ],
      "execution_count": 0,
      "outputs": [
        {
          "output_type": "execute_result",
          "data": {
            "text/plain": [
              "array([[-0.9837271 , -0.22713107, -0.76111245,  0.06992629,  0.8009652 ]],\n",
              "      dtype=float32)"
            ]
          },
          "metadata": {
            "tags": []
          },
          "execution_count": 152
        }
      ]
    },
    {
      "cell_type": "code",
      "metadata": {
        "id": "LpiG7FxBCkWv",
        "colab_type": "code",
        "outputId": "9303c000-7cd1-41b8-b4d7-1227731bce38",
        "colab": {
          "base_uri": "https://localhost:8080/",
          "height": 85,
          "referenced_widgets": [
            "ae68783f7bb9404fa6ca0ec92480a233",
            "c011210d47bf4d7bb9a7e0ff9658fbc8",
            "d3e5000286e74714b56079b1e7673eb2",
            "d403c59dd53c4ccb845a0681f90eb5c4",
            "c6f43fbeb19e427e9b48e2f3910d4375",
            "f4c72c97d5c04ebf9449759969514e72",
            "5cb81b1636a84b48931141637b329354",
            "9a5b6adec8f048d9919d431895041f6b"
          ]
        }
      },
      "source": [
        "pred1,raw1=model.predict(['Mainframe (Datacom, VSAM, CA-Dispatch,Control-M, Selcopy Z/os & Z/vm, PRD1, PRDT'])"
      ],
      "execution_count": 0,
      "outputs": [
        {
          "output_type": "stream",
          "text": [
            "Features loaded from cache at cache_dir/cached_dev_bert_128_5_1\n"
          ],
          "name": "stdout"
        },
        {
          "output_type": "display_data",
          "data": {
            "application/vnd.jupyter.widget-view+json": {
              "model_id": "ae68783f7bb9404fa6ca0ec92480a233",
              "version_minor": 0,
              "version_major": 2
            },
            "text/plain": [
              "HBox(children=(IntProgress(value=0, max=1), HTML(value='')))"
            ]
          },
          "metadata": {
            "tags": []
          }
        },
        {
          "output_type": "stream",
          "text": [
            "\n"
          ],
          "name": "stdout"
        }
      ]
    },
    {
      "cell_type": "code",
      "metadata": {
        "id": "HmD4vKFGDADU",
        "colab_type": "code",
        "outputId": "1daf9fbc-f633-403f-bd54-576fd740fec2",
        "colab": {
          "base_uri": "https://localhost:8080/",
          "height": 35
        }
      },
      "source": [
        "pred1"
      ],
      "execution_count": 0,
      "outputs": [
        {
          "output_type": "execute_result",
          "data": {
            "text/plain": [
              "array([4])"
            ]
          },
          "metadata": {
            "tags": []
          },
          "execution_count": 156
        }
      ]
    },
    {
      "cell_type": "code",
      "metadata": {
        "id": "klQtDxnZDAK2",
        "colab_type": "code",
        "outputId": "39fe62d9-85f5-4ac2-ef28-64cae3c67c2a",
        "colab": {
          "base_uri": "https://localhost:8080/",
          "height": 54
        }
      },
      "source": [
        "raw1"
      ],
      "execution_count": 0,
      "outputs": [
        {
          "output_type": "execute_result",
          "data": {
            "text/plain": [
              "array([[-0.9837271 , -0.22713107, -0.76111245,  0.06992629,  0.8009652 ]],\n",
              "      dtype=float32)"
            ]
          },
          "metadata": {
            "tags": []
          },
          "execution_count": 157
        }
      ]
    },
    {
      "cell_type": "code",
      "metadata": {
        "id": "LkzUf2dzDANr",
        "colab_type": "code",
        "colab": {}
      },
      "source": [
        ""
      ],
      "execution_count": 0,
      "outputs": []
    },
    {
      "cell_type": "code",
      "metadata": {
        "id": "Wj55_IPtC78w",
        "colab_type": "code",
        "outputId": "dc89a2de-fcfe-42f3-e607-07e469df013e",
        "colab": {
          "base_uri": "https://localhost:8080/",
          "height": 85,
          "referenced_widgets": [
            "491731165cbe41c3969e4aaeffcdf2bd",
            "308935cb89744c1aabb24dff54f1ceda",
            "84450fea8e674876b0a75724921a61fd",
            "24dd29e4f0ac4665851a13e1048a5dd3",
            "81007ba48938464e9eb2ad51cef290aa",
            "33f17b31b1b14207b3bccda71e2172d8",
            "d10171da043f488087bb57e70dd03a6e",
            "341bad4553984b5e9cae1067a5189627"
          ]
        }
      },
      "source": [
        "pred2,raw2=model.predict(['dobe AEM CQx5,6.0, Adobe CRX, Apache Sling, OSGi, Fatwire Content Management System, Macromedia Contribute 3, 4, and CS3, Homesite, and custom CMS and database solutions '])"
      ],
      "execution_count": 0,
      "outputs": [
        {
          "output_type": "stream",
          "text": [
            "Features loaded from cache at cache_dir/cached_dev_bert_128_5_1\n"
          ],
          "name": "stdout"
        },
        {
          "output_type": "display_data",
          "data": {
            "application/vnd.jupyter.widget-view+json": {
              "model_id": "491731165cbe41c3969e4aaeffcdf2bd",
              "version_minor": 0,
              "version_major": 2
            },
            "text/plain": [
              "HBox(children=(IntProgress(value=0, max=1), HTML(value='')))"
            ]
          },
          "metadata": {
            "tags": []
          }
        },
        {
          "output_type": "stream",
          "text": [
            "\n"
          ],
          "name": "stdout"
        }
      ]
    },
    {
      "cell_type": "code",
      "metadata": {
        "id": "1DGpRB4RDW4U",
        "colab_type": "code",
        "outputId": "b2301a0d-994d-4e63-a687-4149e75ea9c0",
        "colab": {
          "base_uri": "https://localhost:8080/",
          "height": 72
        }
      },
      "source": [
        "pred2,raw2"
      ],
      "execution_count": 0,
      "outputs": [
        {
          "output_type": "execute_result",
          "data": {
            "text/plain": [
              "(array([4]),\n",
              " array([[-0.9837271 , -0.22713107, -0.76111245,  0.06992629,  0.8009652 ]],\n",
              "       dtype=float32))"
            ]
          },
          "metadata": {
            "tags": []
          },
          "execution_count": 162
        }
      ]
    },
    {
      "cell_type": "code",
      "metadata": {
        "id": "y5ykCATpDbTQ",
        "colab_type": "code",
        "colab": {}
      },
      "source": [
        "dict= {\n",
        "        \"objective\": [\n",
        "            \"objective\",\n",
        "\t\t\t\"professional objective\",\n",
        "            \"career objective\",\n",
        "\t\t\t\"OBJECTIVE\",\n",
        "            \"PROFESSIONAL OBJECTIVE\",\n",
        "            \"CAREER OBJECTIVE\",\n",
        "\t\t\t\"Objective\",\n",
        "            \"Professional Objective\",\n",
        "            \"Career Objective\"\n",
        "\t\t\t\n",
        "        ],\n",
        "        \"courses\": [\n",
        "            \"army courses\",\n",
        "\t\t\t\"ARMY COURSES\",\n",
        "\t\t\t\"Army Courses\"\n",
        "        ],\n",
        "        \"achievement\": [\n",
        "            \"achievement\",\n",
        "            \"honors & activities\",\n",
        "\t\t\t\"ACHIEVEMENT\",\n",
        "            \"HONORS & ACTIVITIES\",\n",
        "\t\t\t\"Achievement\",\n",
        "            \"Honors & Activities\"\n",
        "\t\t],\n",
        "        \"summary\": [\n",
        "            \"profile summary\",\n",
        "            \"professional summary\",\n",
        "            \"introduction\",\n",
        "            \"summary\",\n",
        "\t\t\t\"PROFILE SUMMARY\",\n",
        "            \"PROFESSIONAL SUMMARY\",\n",
        "            \"INTRODUCTION\",\n",
        "            \"SUMMARY\",\n",
        "\t\t\t\"Profile Summary\",\n",
        "            \"Professional Summary\",\n",
        "            \"Introduction\",\n",
        "            \"Summary\"\n",
        "        ],\n",
        "        \"experience\": [\n",
        "            \"work history\",\n",
        "\t\t\t\"employment\",\n",
        "\t\t\t\"employment history\",\n",
        "\t\t\t\"organisational experiance\",\n",
        "\t\t\t\"professional accomplishments\",\n",
        "            \"experience\",\n",
        "            \"summary of experiance\",\n",
        "            \"experience synopsis\",\n",
        "            \"organisational scan\",\n",
        "            \"professional profile\",\n",
        "\t\t\t\"professional career\",\n",
        "            \"summary\",\n",
        "\t\t\t\"career track\",\n",
        "            \"experience\",\n",
        "            \"experience summary\",\n",
        "\t\t\t\"industry experience\",\n",
        "            \"work experience\",\n",
        "\t\t\t\"professional experience\",\n",
        "\t\t\t\"professional background\",\n",
        "            \"current experience\",\n",
        "            \"current organizational experience\",\n",
        "\t\t\t\"WORK HISTORY\",\n",
        "            \"EXPERIENCE\",\n",
        "            \"SUMMARY OF EXPERIANCE\",\n",
        "\t\t\t\"INDUSTRY EXPERIENCE\",\n",
        "            \"EXPERIENCE SYNOPSIS\",\n",
        "            \"ORGANISATIONAL SCAN\",\n",
        "            \"PROFESSIONAL PROFILE\",\n",
        "\t\t\t\"PROFESSIONAL ACCOMPLISHMENTS\",\n",
        "\t\t\t\"ORGANISATIONAL EXPERIANCE\",\n",
        "\t\t\t\"EMPLOYMENT\",\n",
        "\t\t\t\"EMPLOYMENT HISTORY\",\n",
        "\t\t\t\"PROFESSIONAL CAREER\",\n",
        "\t\t\t\"PROFESSIONAL BACKGROUND\",\n",
        "            \"SUMMARY\",\n",
        "            \"EXPERIENCE\",\n",
        "            \"EXPERIENCE SUMMARY\",\n",
        "            \"WORK EXPERIENCE\",\n",
        "\t\t\t\"CAREER TRACK\",\n",
        "\t\t\t\"PROFESSIONAL EXPERIENCE\",\n",
        "            \"CURRENT EXPERIENCE\",\n",
        "            \"CURRENT ORGANIZATIONAL EXPERIENCE\",\n",
        "\t\t\t\"Work History\",\n",
        "            \"Experience\",\n",
        "            \"Summary Of Experiance\",\n",
        "            \"Experience Synopsis\",\n",
        "            \"Organisational Scan\",\n",
        "            \"Professional Profile\",\n",
        "\t\t\t\"Professional Career\",\n",
        "\t\t\t\"Organisational Experiance\",\n",
        "\t\t\t\"Employment\",\n",
        "\t\t\t\"Employment History\",\n",
        "\t\t\t\"Career Track\",\n",
        "\t\t\t\"Industry Experience\",\n",
        "\t\t\t\"Professional Background\",\n",
        "\t\t\t\"Professional Accomplishments\",\n",
        "            \"Summary\",\n",
        "            \"Experience\",\n",
        "            \"Experience Summary\",\n",
        "            \"Work Experience\",\n",
        "            \"Professional Experience\",\n",
        "            \"Current Experience\",\n",
        "            \"Current Organizational Experience\"\n",
        "        ],\n",
        "        \"education\": [\n",
        "            \"education\",\n",
        "            \"educational\",\n",
        "            \"educational qualification\",\n",
        "            \"academic qualification\",\n",
        "            \"qualification\",\n",
        "\t\t\t\"EDUCATION\",\n",
        "\t\t\t\"EDUCATIONAL\",\n",
        "            \"EDUCATIONAL QUALIFICATION\",\n",
        "            \"ACADEMIC QUALIFICATION\",\n",
        "            \"QUALIFICATION\",\n",
        "\t\t\t\"Education\",\n",
        "            \"Educational Qualification\",\n",
        "            \"Academic Qualification\",\n",
        "            \"Qualification\",\n",
        "\t\t\t\"Qualifications\",\n",
        "\t\t\t\"qualifications\",\n",
        "\t\t\t\"QUALIFICATIONS\",\n",
        "\t\t\t\"Educated\",\n",
        "\t\t\t\"EDUCATED\",\n",
        "\t\t\t\"educated\",\n",
        "\t\t\t\"Professional Development\",\n",
        "\t\t\t\"PROFESSIONAL DEVELOPMENT\",\n",
        "\t\t\t\"professional development\",\n",
        "\t\t\t\"Credentials\",\n",
        "\t\t\t\"CREDENTIALS\",\n",
        "\t\t\t\"credentials\",\n",
        "\t\t\t\"Academic\",\n",
        "\t\t\t\"ACADEMIC\",\n",
        "\t\t\t\"academic\"\n",
        "        ],\n",
        "        \"skills\": [\n",
        "            \"additional skills\",\n",
        "            \"skills\",\n",
        "            \"proficiencies and specialties\",\n",
        "            \"skill set\",\n",
        "            \"technical skill\",\n",
        "            \"skills summary\",\n",
        "            \"core competencies\",\n",
        "            \"technical summary\",\n",
        "            \"skills set\",\n",
        "            \"personal skills\",\n",
        "            \"additional it’s skills\",\n",
        "            \"competency matrix\",\n",
        "            \"areas of expertise\",\n",
        "\t\t\t\"ADDITIONAL SKILLS\",\n",
        "            \"SKILLS\",\n",
        "            \"PROFICIENCIES AND SPECIALTIES\",\n",
        "            \"SKILL SET\",\n",
        "            \"TECHNICAL SKILL\",\n",
        "            \"SKILLS SUMMARY\",\n",
        "            \"CORE COMPETENCIES\",\n",
        "            \"TECHNICAL SUMMARY\",\n",
        "            \"SKILLS SET\",\n",
        "            \"PERSONAL SKILLS\",\n",
        "            \"ADDITIONAL IT’S SKILLS\",\n",
        "            \"COMPETENCY MATRIX\",\n",
        "            \"AREAS OF EXPERTISE\",\n",
        "\t\t\t\"Additional Skills\",\n",
        "            \"Skills\",\n",
        "            \"Proficiencies And Specialties\",\n",
        "            \"Skill Set\",\n",
        "            \"Technical Skill\",\n",
        "            \"Skills Summary\",\n",
        "            \"Core Competencies\",\n",
        "            \"Technical Summary\",\n",
        "            \"Skills Set\",\n",
        "            \"Personal Skills\",\n",
        "            \"Additional It’s Skills\",\n",
        "            \"Competency Matrix\",\n",
        "            \"Areas Of Expertise\"\n",
        "        ],\n",
        "        \"training\": [\n",
        "            \"trainings\",\n",
        "\t\t\t\"TRAININGS\",\n",
        "\t\t\t\"Trainings\",\n",
        "\t\t\t\"training\",\n",
        "\t\t\t\"TRAINING\",\n",
        "\t\t\t\"Training\"\n",
        "        ],\n",
        "        \"projects\": [\n",
        "            \"professional memberships\",\n",
        "            \"projects history\",\n",
        "            \"project overview\",\n",
        "            \"major projects\",\n",
        "            \"project annexure\",\n",
        "\t\t\t\"PROFESSIONAL MEMBERSHIPS\",\n",
        "            \"PROJECTS HISTORY\",\n",
        "            \"PROJECT OVERVIEW\",\n",
        "            \"MAJOR PROJECTS\",\n",
        "            \"PROJECT ANNEXURE\",\n",
        "\t\t\t\"Professional Memberships\",\n",
        "            \"Projects History\",\n",
        "            \"Project Overview\",\n",
        "            \"Major Projects\",\n",
        "            \"Project Annexure\"\n",
        "        ],\n",
        "        \"links\": [\n",
        "            \"links\",\n",
        "\t\t\t\"LINKS\",\n",
        "\t\t\t\"Links\"\n",
        "        ],\n",
        "        \"contacts\": [\n",
        "            \"contacts\",\n",
        "\t\t\t\"CONTACTS\",\n",
        "\t\t\t\"Contacts\"\n",
        "        ],\n",
        "        \"positions\": [\n",
        "            \"positions\",\n",
        "            \"position\",\n",
        "\t\t\t\"POSITIONS\",\n",
        "            \"POSITION\",\n",
        "\t\t\t\"Positions\",\n",
        "            \"Position\"\n",
        "        ],\n",
        "        \"personal_details\": [\n",
        "            \"personal details\",\n",
        "            \"personal information\",\n",
        "            \"personal profile\",\n",
        "\t\t\t\"PERSONAL DETAILS\",\n",
        "            \"PERSONAL INFORMATION\",\n",
        "            \"PERSONAL PROFILE\",\n",
        "\t\t\t\"Personal Details\",\n",
        "            \"Personal Information\",\n",
        "            \"Personal Profile\"\n",
        "        ],\n",
        "        \"contact_details\": [\n",
        "            \"contact details\",\n",
        "\t\t\t \"CONTACT DETAILS\",\n",
        "\t\t\t \"Contact Details\"\n",
        "        ],\n",
        "        \"awards\": [\n",
        "            \"awards\",\n",
        "            \"awards & recognitions\",\n",
        "            \"awards and recognition\",\n",
        "            \"awards received\",\n",
        "\t\t\t\"AWARDS\",\n",
        "            \"AWARDS & RECOGNITIONS\",\n",
        "            \"AWARDS AND RECOGNITION\",\n",
        "            \"AWARDS RECEIVED\",\n",
        "\t\t\t\"Awards\",\n",
        "            \"Awards & Recognitions\",\n",
        "            \"Awards And Recognition\",\n",
        "            \"Awards Received\"\n",
        "        ],\n",
        "        \"certification\": [\n",
        "            \"certifications\",\n",
        "            \"certificates\",\n",
        "            \"certifications\",\n",
        "            \"professional certifications\",\n",
        "            \"certification\",\n",
        "            \"license and certifications\",\n",
        "\t\t\t\"CERTIFICATIONS\",\n",
        "            \"CERTIFICATES\",\n",
        "            \"CERTIFICATIONS\",\n",
        "            \"PROFESSIONAL CERTIFICATIONS\",\n",
        "            \"CERTIFICATION\",\n",
        "             \"LICENSE AND CERTIFICATIONS\",\n",
        "\t\t\t \"Certifications\",\n",
        "            \"Certificates\",\n",
        "            \"Certifications\",\n",
        "            \"Professional Certifications\",\n",
        "            \"Certification\",\n",
        "            \"License And Certifications\"\n",
        "        ],\n",
        "        \"publication\": [\n",
        "            \"publication\",\n",
        "            \"publications\",\n",
        "\t\t\t\"PUBLICATION\",\n",
        "            \"PUBLICATIONS\",\n",
        "\t\t\t \"Publication\",\n",
        "            \"Publications\"\n",
        "        ],\n",
        "        \"conference\": [\n",
        "            \"conference\",\n",
        "            \"conferences\",\n",
        "\t\t\t\"CONFERENCE\",\n",
        "            \"CONFERENCES\",\n",
        "\t\t\t \"Conference\",\n",
        "            \"Conferences\"\n",
        "        ],\n",
        "        \"others\": [\n",
        "            \"other\",\n",
        "            \"additional information\",\n",
        "\t\t\t\"OTHER\",\n",
        "            \"ADDITIONAL INFORMATION\",\n",
        "\t\t\t\"Other\",\n",
        "\t\t\t\"Additional Information\"\n",
        "        ]\n",
        "    }"
      ],
      "execution_count": 0,
      "outputs": []
    },
    {
      "cell_type": "code",
      "metadata": {
        "id": "WIeQlR94rKf3",
        "colab_type": "code",
        "colab": {}
      },
      "source": [
        "titles=[]"
      ],
      "execution_count": 0,
      "outputs": []
    },
    {
      "cell_type": "code",
      "metadata": {
        "id": "kjNe8lBtq7EF",
        "colab_type": "code",
        "colab": {}
      },
      "source": [
        "for val in dict.values():\n",
        "  titles.append(val)"
      ],
      "execution_count": 0,
      "outputs": []
    },
    {
      "cell_type": "code",
      "metadata": {
        "id": "LErvBSVmrZcn",
        "colab_type": "code",
        "colab": {}
      },
      "source": [
        "heading=[]"
      ],
      "execution_count": 0,
      "outputs": []
    },
    {
      "cell_type": "code",
      "metadata": {
        "id": "Vqgv7bmVrRpA",
        "colab_type": "code",
        "colab": {}
      },
      "source": [
        "for val in titles:\n",
        "  for text in val:\n",
        "    heading.append(text)"
      ],
      "execution_count": 0,
      "outputs": []
    },
    {
      "cell_type": "code",
      "metadata": {
        "id": "okAqKKONrozH",
        "colab_type": "code",
        "outputId": "0b25d777-6c94-4422-942d-52012905075d",
        "colab": {
          "base_uri": "https://localhost:8080/",
          "height": 34
        }
      },
      "source": [
        "len(heading)"
      ],
      "execution_count": 0,
      "outputs": [
        {
          "output_type": "execute_result",
          "data": {
            "text/plain": [
              "254"
            ]
          },
          "metadata": {
            "tags": []
          },
          "execution_count": 110
        }
      ]
    },
    {
      "cell_type": "code",
      "metadata": {
        "id": "EaEXtFOzrwSM",
        "colab_type": "code",
        "colab": {}
      },
      "source": [
        "heading=list(set(heading))"
      ],
      "execution_count": 0,
      "outputs": []
    },
    {
      "cell_type": "code",
      "metadata": {
        "id": "F6yov2_wsAh3",
        "colab_type": "code",
        "outputId": "4e2e5ffd-ce59-4e9c-a2a0-acf1fa2f06eb",
        "colab": {
          "base_uri": "https://localhost:8080/",
          "height": 1000
        }
      },
      "source": [
        "heading"
      ],
      "execution_count": 0,
      "outputs": [
        {
          "output_type": "execute_result",
          "data": {
            "text/plain": [
              "['Educated',\n",
              " 'links',\n",
              " 'education',\n",
              " 'AWARDS AND RECOGNITION',\n",
              " 'Professional Memberships',\n",
              " 'Career Objective',\n",
              " 'Professional Background',\n",
              " 'Position',\n",
              " 'PROJECT ANNEXURE',\n",
              " 'Summary Of Experiance',\n",
              " 'Additional Information',\n",
              " 'Professional Certifications',\n",
              " 'Qualifications',\n",
              " 'ADDITIONAL INFORMATION',\n",
              " 'work experience',\n",
              " 'position',\n",
              " 'career objective',\n",
              " 'honors & activities',\n",
              " 'Summary',\n",
              " 'SUMMARY',\n",
              " 'personal profile',\n",
              " 'PROFILE SUMMARY',\n",
              " 'Competency Matrix',\n",
              " 'other',\n",
              " 'industry experience',\n",
              " 'SKILLS SUMMARY',\n",
              " 'Skills Summary',\n",
              " 'CONTACT DETAILS',\n",
              " 'Current Experience',\n",
              " 'professional development',\n",
              " 'EDUCATION',\n",
              " 'objective',\n",
              " 'PUBLICATIONS',\n",
              " 'PROFESSIONAL CERTIFICATIONS',\n",
              " 'Professional Summary',\n",
              " 'PROFICIENCIES AND SPECIALTIES',\n",
              " 'trainings',\n",
              " 'Profile Summary',\n",
              " 'SKILL SET',\n",
              " 'academic',\n",
              " 'POSITIONS',\n",
              " 'Honors & Activities',\n",
              " 'TECHNICAL SKILL',\n",
              " 'certificates',\n",
              " 'project annexure',\n",
              " 'Industry Experience',\n",
              " 'SKILLS SET',\n",
              " 'LINKS',\n",
              " 'organisational experiance',\n",
              " 'MAJOR PROJECTS',\n",
              " 'personal details',\n",
              " 'Qualification',\n",
              " 'EDUCATIONAL',\n",
              " 'Professional Profile',\n",
              " 'EXPERIENCE SYNOPSIS',\n",
              " 'WORK EXPERIENCE',\n",
              " 'POSITION',\n",
              " 'awards',\n",
              " 'Certification',\n",
              " 'awards received',\n",
              " 'LICENSE AND CERTIFICATIONS',\n",
              " 'CAREER OBJECTIVE',\n",
              " 'INTRODUCTION',\n",
              " 'skills',\n",
              " 'CORE COMPETENCIES',\n",
              " 'Additional Skills',\n",
              " 'conference',\n",
              " 'educational',\n",
              " 'AWARDS & RECOGNITIONS',\n",
              " 'current organizational experience',\n",
              " 'Awards & Recognitions',\n",
              " 'Publications',\n",
              " 'awards and recognition',\n",
              " 'project overview',\n",
              " 'summary',\n",
              " 'experience summary',\n",
              " 'Work History',\n",
              " 'skills set',\n",
              " 'PROFESSIONAL PROFILE',\n",
              " 'Personal Skills',\n",
              " 'PERSONAL DETAILS',\n",
              " 'personal information',\n",
              " 'professional experience',\n",
              " 'Personal Information',\n",
              " 'achievement',\n",
              " 'professional career',\n",
              " 'career track',\n",
              " 'Proficiencies And Specialties',\n",
              " 'contact details',\n",
              " 'skills summary',\n",
              " 'Skills',\n",
              " 'AWARDS',\n",
              " 'PUBLICATION',\n",
              " 'PROFESSIONAL SUMMARY',\n",
              " 'organisational scan',\n",
              " 'educated',\n",
              " 'TECHNICAL SUMMARY',\n",
              " 'additional information',\n",
              " 'Experience',\n",
              " 'Skills Set',\n",
              " 'ACHIEVEMENT',\n",
              " 'AREAS OF EXPERTISE',\n",
              " 'skill set',\n",
              " 'work history',\n",
              " 'Academic',\n",
              " 'technical summary',\n",
              " 'contacts',\n",
              " 'projects history',\n",
              " 'EDUCATED',\n",
              " 'Certifications',\n",
              " 'conferences',\n",
              " 'professional certifications',\n",
              " 'Contact Details',\n",
              " 'Educational Qualification',\n",
              " 'TRAININGS',\n",
              " 'additional it’s skills',\n",
              " 'employment history',\n",
              " 'Core Competencies',\n",
              " 'Academic Qualification',\n",
              " 'professional background',\n",
              " 'COMPETENCY MATRIX',\n",
              " 'major projects',\n",
              " 'Links',\n",
              " 'professional accomplishments',\n",
              " 'positions',\n",
              " 'CONFERENCES',\n",
              " 'EXPERIENCE SUMMARY',\n",
              " 'Technical Summary',\n",
              " 'Employment History',\n",
              " 'ACADEMIC QUALIFICATION',\n",
              " 'Awards Received',\n",
              " 'Professional Development',\n",
              " 'experience',\n",
              " 'PROJECT OVERVIEW',\n",
              " 'certification',\n",
              " 'Career Track',\n",
              " 'License And Certifications',\n",
              " 'PROFESSIONAL ACCOMPLISHMENTS',\n",
              " 'OBJECTIVE',\n",
              " 'Army Courses',\n",
              " 'Certificates',\n",
              " 'credentials',\n",
              " 'Technical Skill',\n",
              " 'Publication',\n",
              " 'academic qualification',\n",
              " 'Professional Objective',\n",
              " 'employment',\n",
              " 'additional skills',\n",
              " 'Skill Set',\n",
              " 'Professional Experience',\n",
              " 'HONORS & ACTIVITIES',\n",
              " 'Credentials',\n",
              " 'TRAINING',\n",
              " 'PROFESSIONAL MEMBERSHIPS',\n",
              " 'CONTACTS',\n",
              " 'army courses',\n",
              " 'Experience Synopsis',\n",
              " 'EXPERIENCE',\n",
              " 'ADDITIONAL IT’S SKILLS',\n",
              " 'Additional It’s Skills',\n",
              " 'Current Organizational Experience',\n",
              " 'ADDITIONAL SKILLS',\n",
              " 'CERTIFICATIONS',\n",
              " 'introduction',\n",
              " 'QUALIFICATION',\n",
              " 'ORGANISATIONAL SCAN',\n",
              " 'Organisational Scan',\n",
              " 'Awards',\n",
              " 'qualifications',\n",
              " 'CERTIFICATION',\n",
              " 'EMPLOYMENT HISTORY',\n",
              " 'professional objective',\n",
              " 'CURRENT ORGANIZATIONAL EXPERIENCE',\n",
              " 'Work Experience',\n",
              " 'competency matrix',\n",
              " 'PERSONAL SKILLS',\n",
              " 'training',\n",
              " 'EDUCATIONAL QUALIFICATION',\n",
              " 'publication',\n",
              " 'AWARDS RECEIVED',\n",
              " 'EMPLOYMENT',\n",
              " 'qualification',\n",
              " 'Achievement',\n",
              " 'professional memberships',\n",
              " 'Trainings',\n",
              " 'Positions',\n",
              " 'Project Overview',\n",
              " 'Professional Accomplishments',\n",
              " 'core competencies',\n",
              " 'license and certifications',\n",
              " 'professional summary',\n",
              " 'Professional Career',\n",
              " 'PROFESSIONAL BACKGROUND',\n",
              " 'Introduction',\n",
              " 'profile summary',\n",
              " 'Organisational Experiance',\n",
              " 'CONFERENCE',\n",
              " 'Contacts',\n",
              " 'professional profile',\n",
              " 'WORK HISTORY',\n",
              " 'QUALIFICATIONS',\n",
              " 'Project Annexure',\n",
              " 'technical skill',\n",
              " 'Major Projects',\n",
              " 'personal skills',\n",
              " 'SUMMARY OF EXPERIANCE',\n",
              " 'awards & recognitions',\n",
              " 'Employment',\n",
              " 'INDUSTRY EXPERIENCE',\n",
              " 'current experience',\n",
              " 'Personal Profile',\n",
              " 'OTHER',\n",
              " 'Conferences',\n",
              " 'educational qualification',\n",
              " 'Areas Of Expertise',\n",
              " 'summary of experiance',\n",
              " 'Training',\n",
              " 'PROJECTS HISTORY',\n",
              " 'certifications',\n",
              " 'PROFESSIONAL DEVELOPMENT',\n",
              " 'CURRENT EXPERIENCE',\n",
              " 'ACADEMIC',\n",
              " 'PERSONAL PROFILE',\n",
              " 'Projects History',\n",
              " 'PROFESSIONAL CAREER',\n",
              " 'Conference',\n",
              " 'Awards And Recognition',\n",
              " 'Education',\n",
              " 'Experience Summary',\n",
              " 'Objective',\n",
              " 'CREDENTIALS',\n",
              " 'experience synopsis',\n",
              " 'SKILLS',\n",
              " 'Personal Details',\n",
              " 'PERSONAL INFORMATION',\n",
              " 'publications',\n",
              " 'ARMY COURSES',\n",
              " 'PROFESSIONAL OBJECTIVE',\n",
              " 'areas of expertise',\n",
              " 'ORGANISATIONAL EXPERIANCE',\n",
              " 'proficiencies and specialties',\n",
              " 'CAREER TRACK',\n",
              " 'Other',\n",
              " 'CERTIFICATES',\n",
              " 'PROFESSIONAL EXPERIENCE']"
            ]
          },
          "metadata": {
            "tags": []
          },
          "execution_count": 112
        }
      ]
    },
    {
      "cell_type": "code",
      "metadata": {
        "id": "MzsRL9c8sDWL",
        "colab_type": "code",
        "colab": {}
      },
      "source": [
        ""
      ],
      "execution_count": 0,
      "outputs": []
    }
  ]
}